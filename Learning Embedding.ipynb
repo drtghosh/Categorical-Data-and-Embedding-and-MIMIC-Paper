{
 "cells": [
  {
   "cell_type": "markdown",
   "metadata": {},
   "source": [
    "# Blood Sample Data"
   ]
  },
  {
   "cell_type": "markdown",
   "metadata": {},
   "source": [
    "#### Importing Libraries"
   ]
  },
  {
   "cell_type": "code",
   "execution_count": 194,
   "metadata": {},
   "outputs": [],
   "source": [
    "import time\n",
    "start_time = int(time.time())\n",
    "import numpy as np\n",
    "import pandas as pd\n",
    "import keras\n",
    "from keras.models import Sequential, Model\n",
    "from keras.layers import *\n",
    "import pickle\n",
    "from sklearn.model_selection import train_test_split\n",
    "from sklearn.metrics import accuracy_score"
   ]
  },
  {
   "cell_type": "markdown",
   "metadata": {},
   "source": [
    "#### Reading the Data"
   ]
  },
  {
   "cell_type": "code",
   "execution_count": 14,
   "metadata": {},
   "outputs": [],
   "source": [
    "pos=pd.read_csv('/Users/deba_mycol/Zevac_Unified/zevac_unified/pp.csv', usecols=['slno', 'hosp_admission_id', 'hosp_patient_id', \n",
    "       'age','sex', 'department', 'sample_type', 'ward_name', 'caretype',\n",
    "       'num_prev_adm', 'sc_date', 'interval', 'catheter', 'cancer',\n",
    "       'cerebrovascular_disease', 'dementia_or_alzheimers', 'diabetes',\n",
    "       'heart_disease', 'hiv_or_aids', 'hypertension', 'liver_disease',\n",
    "       'pulmonary_disease_asthma', 'renal_disease',\n",
    "       'rheumatic_or_connective_tissue_disease', 'no_comorbidity',\n",
    "       'bacteria_name', 'antibiotic_name', 'gram', 'susceptibility'])"
   ]
  },
  {
   "cell_type": "markdown",
   "metadata": {},
   "source": [
    "#### Getting Blood Sample Data"
   ]
  },
  {
   "cell_type": "code",
   "execution_count": 15,
   "metadata": {},
   "outputs": [],
   "source": [
    "blood=pos[pos['sample_type']=='Blood']\n",
    "blood=blood[blood['sex']!='Others'].reset_index(drop=True)"
   ]
  },
  {
   "cell_type": "code",
   "execution_count": 16,
   "metadata": {},
   "outputs": [],
   "source": [
    "df=blood[['age', 'sex', 'caretype', 'department', 'num_prev_adm', 'interval', 'catheter', \n",
    "      'cancer', 'cerebrovascular_disease', 'dementia_or_alzheimers', 'diabetes',\n",
    "      'heart_disease', 'hiv_or_aids', 'hypertension', 'liver_disease',\n",
    "      'pulmonary_disease_asthma', 'renal_disease', 'rheumatic_or_connective_tissue_disease', 'no_comorbidity', \n",
    "      'bacteria_name', 'antibiotic_name', 'susceptibility']]\n",
    "df=df.drop_duplicates()\n",
    "df=df.reset_index(drop=True)"
   ]
  },
  {
   "cell_type": "markdown",
   "metadata": {},
   "source": [
    "#### Creating Training Data"
   ]
  },
  {
   "cell_type": "code",
   "execution_count": 18,
   "metadata": {},
   "outputs": [],
   "source": [
    "train, test = train_test_split(df, test_size=0.3, random_state=0)"
   ]
  },
  {
   "cell_type": "code",
   "execution_count": 19,
   "metadata": {},
   "outputs": [
    {
     "data": {
      "text/plain": [
       "R    10784\n",
       "S     9985\n",
       "Name: susceptibility, dtype: int64"
      ]
     },
     "execution_count": 19,
     "metadata": {},
     "output_type": "execute_result"
    }
   ],
   "source": [
    "train.susceptibility.value_counts()"
   ]
  },
  {
   "cell_type": "markdown",
   "metadata": {},
   "source": [
    "#### Shuffling Training Data"
   ]
  },
  {
   "cell_type": "code",
   "execution_count": 20,
   "metadata": {},
   "outputs": [],
   "source": [
    "train = train.sample(frac=1).reset_index(drop=True)"
   ]
  },
  {
   "cell_type": "markdown",
   "metadata": {},
   "source": [
    "#### Taking Out Target Column and Dropping Unnecesary Columns"
   ]
  },
  {
   "cell_type": "code",
   "execution_count": 22,
   "metadata": {},
   "outputs": [],
   "source": [
    "train_labels = train['susceptibility']"
   ]
  },
  {
   "cell_type": "code",
   "execution_count": 47,
   "metadata": {},
   "outputs": [],
   "source": [
    "df_train = train.drop(\"bacteria_name\", 1)\n",
    "df_train = df_train.drop(\"susceptibility\", 1)\n",
    "all_cols = df_train.columns\n",
    "for col in all_cols:\n",
    "    if df_train[col].nunique()<2:\n",
    "        df_train = df_train.drop(col, 1)\n",
    "all_cols = df_train.columns"
   ]
  },
  {
   "cell_type": "code",
   "execution_count": 48,
   "metadata": {},
   "outputs": [
    {
     "data": {
      "text/plain": [
       "17"
      ]
     },
     "execution_count": 48,
     "metadata": {},
     "output_type": "execute_result"
    }
   ],
   "source": [
    "len(all_cols)"
   ]
  },
  {
   "cell_type": "markdown",
   "metadata": {},
   "source": [
    "#### Breaking Into 3 Types of Columns: Binary, Categorical and Other (Ordinal or Continous)"
   ]
  },
  {
   "cell_type": "code",
   "execution_count": 49,
   "metadata": {},
   "outputs": [],
   "source": [
    "categorical_vars = [ ]\n",
    "continuous_vars = [ ]\n",
    "categorical_binary_vars = [ ]\n",
    "\n",
    "for col in all_cols:\n",
    "    if df_train[col].nunique()==2:\n",
    "        categorical_binary_vars.append(col)\n",
    "    else:\n",
    "        if df_train[col].dtypes=='object':\n",
    "            categorical_vars.append(col)\n",
    "        else:\n",
    "            continuous_vars.append(col)"
   ]
  },
  {
   "cell_type": "code",
   "execution_count": 50,
   "metadata": {},
   "outputs": [
    {
     "name": "stdout",
     "output_type": "stream",
     "text": [
      "categorical binary vars:  13\n",
      "categorical non binary vars:  2\n",
      "continuous vars:  2\n"
     ]
    }
   ],
   "source": [
    "print (\"categorical binary vars: \", len(categorical_binary_vars))\n",
    "print (\"categorical non binary vars: \", len(categorical_vars))\n",
    "print (\"continuous vars: \", len(continuous_vars))"
   ]
  },
  {
   "cell_type": "code",
   "execution_count": 52,
   "metadata": {},
   "outputs": [
    {
     "name": "stdout",
     "output_type": "stream",
     "text": [
      "all categorical vars:  15\n"
     ]
    }
   ],
   "source": [
    "all_categorical_vars = categorical_binary_vars + categorical_vars\n",
    "print (\"all categorical vars: \", len(all_categorical_vars))"
   ]
  },
  {
   "cell_type": "markdown",
   "metadata": {},
   "source": [
    "#### Displaying Number of Unique Values in Each Categorical Variable Column"
   ]
  },
  {
   "cell_type": "code",
   "execution_count": 55,
   "metadata": {},
   "outputs": [
    {
     "name": "stdout",
     "output_type": "stream",
     "text": [
      "sex : 2\n",
      "caretype : 2\n",
      "catheter : 2\n",
      "cancer : 2\n",
      "cerebrovascular_disease : 2\n",
      "diabetes : 2\n",
      "heart_disease : 2\n",
      "hypertension : 2\n",
      "liver_disease : 2\n",
      "pulmonary_disease_asthma : 2\n",
      "renal_disease : 2\n",
      "rheumatic_or_connective_tissue_disease : 2\n",
      "no_comorbidity : 2\n",
      "department : 40\n",
      "antibiotic_name : 40\n"
     ]
    }
   ],
   "source": [
    "for cat_var in all_categorical_vars:\n",
    "    print (cat_var,\":\", df_train[cat_var].nunique())"
   ]
  },
  {
   "cell_type": "markdown",
   "metadata": {},
   "source": [
    "#### Creating Training and Validation Data"
   ]
  },
  {
   "cell_type": "code",
   "execution_count": 57,
   "metadata": {},
   "outputs": [],
   "source": [
    "df_tr = df_train[:15000]\n",
    "df_val = df_train[15000:]"
   ]
  },
  {
   "cell_type": "code",
   "execution_count": 56,
   "metadata": {},
   "outputs": [],
   "source": [
    "Y_train  = train_labels[:15000]\n",
    "Y_val  = train_labels[15000: ]"
   ]
  },
  {
   "cell_type": "markdown",
   "metadata": {},
   "source": [
    "# Categorical Embedding"
   ]
  },
  {
   "cell_type": "markdown",
   "metadata": {},
   "source": [
    "#### Printing Two Different Types of Variables Namely Categorical and Continuous/Ordinal"
   ]
  },
  {
   "cell_type": "code",
   "execution_count": 58,
   "metadata": {},
   "outputs": [
    {
     "name": "stdout",
     "output_type": "stream",
     "text": [
      "['sex', 'caretype', 'catheter', 'cancer', 'cerebrovascular_disease', 'diabetes', 'heart_disease', 'hypertension', 'liver_disease', 'pulmonary_disease_asthma', 'renal_disease', 'rheumatic_or_connective_tissue_disease', 'no_comorbidity', 'department', 'antibiotic_name']\n",
      "['age', 'interval']\n"
     ]
    }
   ],
   "source": [
    "print(all_categorical_vars)\n",
    "print(continuous_vars)"
   ]
  },
  {
   "cell_type": "markdown",
   "metadata": {},
   "source": [
    "#### Preprocessing Training and Validation Data"
   ]
  },
  {
   "cell_type": "code",
   "execution_count": 59,
   "metadata": {},
   "outputs": [],
   "source": [
    "def preprocessing(X_train):\n",
    "    input_list_train = []\n",
    "    #the cols to be embedded: rescaling to range [0, # values)\n",
    "    for c in all_categorical_vars:\n",
    "        vals = np.asarray(X_train[c].tolist())\n",
    "        vals = pd.factorize(vals)[0]\n",
    "        input_list_train.append(np.asarray(vals))\n",
    "        \"\"\"\n",
    "        This below is another method to do this:\n",
    "        val_map = {}\n",
    "        for i in range(len(raw_vals)):\n",
    "            val_map[raw_vals[i]] = i       \n",
    "        input_list_train.append(X_train[c].map(val_map).values)\n",
    "        \"\"\"\n",
    "    #the rest of the columns\n",
    "    input_list_train.append(X_train[continuous_vars].values)\n",
    "    return input_list_train"
   ]
  },
  {
   "cell_type": "code",
   "execution_count": 61,
   "metadata": {},
   "outputs": [],
   "source": [
    "df_tr_modified = preprocessing(df_tr)\n",
    "df_val_modified = preprocessing(df_val)"
   ]
  },
  {
   "cell_type": "markdown",
   "metadata": {},
   "source": [
    "#### As Expected, The Proceesed Training DataFrame has 16 Elements Becasue We had 15 Categorical Columns and One for Other (Continous/Ordinal) Columns"
   ]
  },
  {
   "cell_type": "code",
   "execution_count": 66,
   "metadata": {},
   "outputs": [
    {
     "data": {
      "text/plain": [
       "16"
      ]
     },
     "execution_count": 66,
     "metadata": {},
     "output_type": "execute_result"
    }
   ],
   "source": [
    "len(df_tr_modified)"
   ]
  },
  {
   "cell_type": "markdown",
   "metadata": {},
   "source": [
    "#### The Embedding Size is Set According to the Rule As Suggested by fast.ai Course and Entity Embedding Paper"
   ]
  },
  {
   "cell_type": "markdown",
   "metadata": {},
   "source": [
    "Embedding_size  = integer value of min(ceiling(no of unique categories/2) , 50)"
   ]
  },
  {
   "cell_type": "markdown",
   "metadata": {},
   "source": [
    "#### Each Model will be Appended to a List Named Models"
   ]
  },
  {
   "cell_type": "code",
   "execution_count": 113,
   "metadata": {},
   "outputs": [
    {
     "data": {
      "text/html": [
       "<p style=\"color:red\">Since Merge is Deprecated in Keras 2.2.2 We Shift to Functional API Rather Than Using Sequential Model</p>"
      ],
      "text/plain": [
       "<IPython.core.display.HTML object>"
      ]
     },
     "metadata": {},
     "output_type": "display_data"
    }
   ],
   "source": [
    "%%html\n",
    "<p style=\"color:red\">Since Merge is Deprecated in Keras 2.2.2 We Shift to Functional API Rather Than Using Sequential Model</p>\n"
   ]
  },
  {
   "cell_type": "code",
   "execution_count": 226,
   "metadata": {},
   "outputs": [],
   "source": [
    "models=[]\n",
    "inputs=[]\n",
    "embeddings=[]\n",
    "functional_models=[]"
   ]
  },
  {
   "cell_type": "code",
   "execution_count": 222,
   "metadata": {},
   "outputs": [
    {
     "data": {
      "text/html": [
       "<p style=\"color:red\">Function to Convert Sequential Model to Functional API Model</p>"
      ],
      "text/plain": [
       "<IPython.core.display.HTML object>"
      ]
     },
     "metadata": {},
     "output_type": "display_data"
    }
   ],
   "source": [
    "%%html\n",
    "<p style=\"color:red\">Function to Convert Sequential Model to Functional API Model</p>\n"
   ]
  },
  {
   "cell_type": "code",
   "execution_count": 227,
   "metadata": {},
   "outputs": [],
   "source": [
    "def get_functional(model):\n",
    "    input_layer = Input(batch_shape=model.layers[0].input_shape)\n",
    "    prev_layer = input_layer\n",
    "    for layer in model.layers:\n",
    "        prev_layer = layer(prev_layer)\n",
    "    functional_model = keras.models.Model([input_layer], [prev_layer])\n",
    "    return input_layer, prev_layer, functional_model"
   ]
  },
  {
   "cell_type": "markdown",
   "metadata": {},
   "source": [
    "#### Following Code Adds an Embedding Network for Each of the Catgeoriacal Variables   "
   ]
  },
  {
   "cell_type": "code",
   "execution_count": 228,
   "metadata": {},
   "outputs": [
    {
     "name": "stdout",
     "output_type": "stream",
     "text": [
      "For categorical column:  sex\n",
      "----------------------------------------------------------------------\n",
      "Number of unique categories:  2\n",
      "Embedding size set as:  1\n",
      "_________________________________________________________________\n",
      "Layer (type)                 Output Shape              Param #   \n",
      "=================================================================\n",
      "sex_embedding (Embedding)    (None, 1, 1)              3         \n",
      "_________________________________________________________________\n",
      "reshape_139 (Reshape)        (None, 1)                 0         \n",
      "=================================================================\n",
      "Total params: 3\n",
      "Trainable params: 3\n",
      "Non-trainable params: 0\n",
      "_________________________________________________________________\n",
      "None\n",
      "For categorical column:  caretype\n",
      "----------------------------------------------------------------------\n",
      "Number of unique categories:  2\n",
      "Embedding size set as:  1\n",
      "_________________________________________________________________\n",
      "Layer (type)                 Output Shape              Param #   \n",
      "=================================================================\n",
      "caretype_embedding (Embeddin (None, 1, 1)              3         \n",
      "_________________________________________________________________\n",
      "reshape_140 (Reshape)        (None, 1)                 0         \n",
      "=================================================================\n",
      "Total params: 3\n",
      "Trainable params: 3\n",
      "Non-trainable params: 0\n",
      "_________________________________________________________________\n",
      "None\n",
      "For categorical column:  catheter\n",
      "----------------------------------------------------------------------\n",
      "Number of unique categories:  2\n",
      "Embedding size set as:  1\n",
      "_________________________________________________________________\n",
      "Layer (type)                 Output Shape              Param #   \n",
      "=================================================================\n",
      "catheter_embedding (Embeddin (None, 1, 1)              3         \n",
      "_________________________________________________________________\n",
      "reshape_141 (Reshape)        (None, 1)                 0         \n",
      "=================================================================\n",
      "Total params: 3\n",
      "Trainable params: 3\n",
      "Non-trainable params: 0\n",
      "_________________________________________________________________\n",
      "None\n",
      "For categorical column:  cancer\n",
      "----------------------------------------------------------------------\n",
      "Number of unique categories:  2\n",
      "Embedding size set as:  1\n",
      "_________________________________________________________________\n",
      "Layer (type)                 Output Shape              Param #   \n",
      "=================================================================\n",
      "cancer_embedding (Embedding) (None, 1, 1)              3         \n",
      "_________________________________________________________________\n",
      "reshape_142 (Reshape)        (None, 1)                 0         \n",
      "=================================================================\n",
      "Total params: 3\n",
      "Trainable params: 3\n",
      "Non-trainable params: 0\n",
      "_________________________________________________________________\n",
      "None\n",
      "For categorical column:  cerebrovascular_disease\n",
      "----------------------------------------------------------------------\n",
      "Number of unique categories:  2\n",
      "Embedding size set as:  1\n",
      "_________________________________________________________________\n",
      "Layer (type)                 Output Shape              Param #   \n",
      "=================================================================\n",
      "cerebrovascular_disease_embe (None, 1, 1)              3         \n",
      "_________________________________________________________________\n",
      "reshape_143 (Reshape)        (None, 1)                 0         \n",
      "=================================================================\n",
      "Total params: 3\n",
      "Trainable params: 3\n",
      "Non-trainable params: 0\n",
      "_________________________________________________________________\n",
      "None\n",
      "For categorical column:  diabetes\n",
      "----------------------------------------------------------------------\n",
      "Number of unique categories:  2\n",
      "Embedding size set as:  1\n",
      "_________________________________________________________________\n",
      "Layer (type)                 Output Shape              Param #   \n",
      "=================================================================\n",
      "diabetes_embedding (Embeddin (None, 1, 1)              3         \n",
      "_________________________________________________________________\n",
      "reshape_144 (Reshape)        (None, 1)                 0         \n",
      "=================================================================\n",
      "Total params: 3\n",
      "Trainable params: 3\n",
      "Non-trainable params: 0\n",
      "_________________________________________________________________\n",
      "None\n",
      "For categorical column:  heart_disease\n",
      "----------------------------------------------------------------------\n",
      "Number of unique categories:  2\n",
      "Embedding size set as:  1\n",
      "_________________________________________________________________\n",
      "Layer (type)                 Output Shape              Param #   \n",
      "=================================================================\n",
      "heart_disease_embedding (Emb (None, 1, 1)              3         \n",
      "_________________________________________________________________\n",
      "reshape_145 (Reshape)        (None, 1)                 0         \n",
      "=================================================================\n",
      "Total params: 3\n",
      "Trainable params: 3\n",
      "Non-trainable params: 0\n",
      "_________________________________________________________________\n",
      "None\n",
      "For categorical column:  hypertension\n",
      "----------------------------------------------------------------------\n",
      "Number of unique categories:  2\n",
      "Embedding size set as:  1\n",
      "_________________________________________________________________\n",
      "Layer (type)                 Output Shape              Param #   \n",
      "=================================================================\n",
      "hypertension_embedding (Embe (None, 1, 1)              3         \n",
      "_________________________________________________________________\n",
      "reshape_146 (Reshape)        (None, 1)                 0         \n",
      "=================================================================\n",
      "Total params: 3\n",
      "Trainable params: 3\n",
      "Non-trainable params: 0\n",
      "_________________________________________________________________\n",
      "None\n",
      "For categorical column:  liver_disease\n",
      "----------------------------------------------------------------------\n",
      "Number of unique categories:  2\n",
      "Embedding size set as:  1\n",
      "_________________________________________________________________\n",
      "Layer (type)                 Output Shape              Param #   \n",
      "=================================================================\n",
      "liver_disease_embedding (Emb (None, 1, 1)              3         \n",
      "_________________________________________________________________\n",
      "reshape_147 (Reshape)        (None, 1)                 0         \n",
      "=================================================================\n",
      "Total params: 3\n",
      "Trainable params: 3\n",
      "Non-trainable params: 0\n",
      "_________________________________________________________________\n",
      "None\n",
      "For categorical column:  pulmonary_disease_asthma\n",
      "----------------------------------------------------------------------\n",
      "Number of unique categories:  2\n",
      "Embedding size set as:  1\n",
      "_________________________________________________________________\n",
      "Layer (type)                 Output Shape              Param #   \n",
      "=================================================================\n",
      "pulmonary_disease_asthma_emb (None, 1, 1)              3         \n",
      "_________________________________________________________________\n",
      "reshape_148 (Reshape)        (None, 1)                 0         \n",
      "=================================================================\n",
      "Total params: 3\n",
      "Trainable params: 3\n",
      "Non-trainable params: 0\n",
      "_________________________________________________________________\n",
      "None\n",
      "For categorical column:  renal_disease\n",
      "----------------------------------------------------------------------\n",
      "Number of unique categories:  2\n",
      "Embedding size set as:  1\n",
      "_________________________________________________________________\n",
      "Layer (type)                 Output Shape              Param #   \n",
      "=================================================================\n",
      "renal_disease_embedding (Emb (None, 1, 1)              3         \n",
      "_________________________________________________________________\n",
      "reshape_149 (Reshape)        (None, 1)                 0         \n",
      "=================================================================\n",
      "Total params: 3\n",
      "Trainable params: 3\n",
      "Non-trainable params: 0\n",
      "_________________________________________________________________\n",
      "None\n"
     ]
    },
    {
     "name": "stdout",
     "output_type": "stream",
     "text": [
      "For categorical column:  rheumatic_or_connective_tissue_disease\n",
      "----------------------------------------------------------------------\n",
      "Number of unique categories:  2\n",
      "Embedding size set as:  1\n",
      "_________________________________________________________________\n",
      "Layer (type)                 Output Shape              Param #   \n",
      "=================================================================\n",
      "rheumatic_or_connective_tiss (None, 1, 1)              3         \n",
      "_________________________________________________________________\n",
      "reshape_150 (Reshape)        (None, 1)                 0         \n",
      "=================================================================\n",
      "Total params: 3\n",
      "Trainable params: 3\n",
      "Non-trainable params: 0\n",
      "_________________________________________________________________\n",
      "None\n",
      "For categorical column:  no_comorbidity\n",
      "----------------------------------------------------------------------\n",
      "Number of unique categories:  2\n",
      "Embedding size set as:  1\n",
      "_________________________________________________________________\n",
      "Layer (type)                 Output Shape              Param #   \n",
      "=================================================================\n",
      "no_comorbidity_embedding (Em (None, 1, 1)              3         \n",
      "_________________________________________________________________\n",
      "reshape_151 (Reshape)        (None, 1)                 0         \n",
      "=================================================================\n",
      "Total params: 3\n",
      "Trainable params: 3\n",
      "Non-trainable params: 0\n",
      "_________________________________________________________________\n",
      "None\n",
      "For categorical column:  department\n",
      "----------------------------------------------------------------------\n",
      "Number of unique categories:  40\n",
      "Embedding size set as:  20\n",
      "_________________________________________________________________\n",
      "Layer (type)                 Output Shape              Param #   \n",
      "=================================================================\n",
      "department_embedding (Embedd (None, 1, 20)             820       \n",
      "_________________________________________________________________\n",
      "reshape_152 (Reshape)        (None, 20)                0         \n",
      "=================================================================\n",
      "Total params: 820\n",
      "Trainable params: 820\n",
      "Non-trainable params: 0\n",
      "_________________________________________________________________\n",
      "None\n",
      "For categorical column:  antibiotic_name\n",
      "----------------------------------------------------------------------\n",
      "Number of unique categories:  40\n",
      "Embedding size set as:  20\n",
      "_________________________________________________________________\n",
      "Layer (type)                 Output Shape              Param #   \n",
      "=================================================================\n",
      "antibiotic_name_embedding (E (None, 1, 20)             820       \n",
      "_________________________________________________________________\n",
      "reshape_153 (Reshape)        (None, 20)                0         \n",
      "=================================================================\n",
      "Total params: 820\n",
      "Trainable params: 820\n",
      "Non-trainable params: 0\n",
      "_________________________________________________________________\n",
      "None\n"
     ]
    }
   ],
   "source": [
    "for variable in all_categorical_vars:\n",
    "    print(\"For categorical column: \", variable)\n",
    "    print(\"----------------------------------------------------------------------\")\n",
    "    model = Sequential()\n",
    "    no_of_unique_categories  = df_train[variable].nunique()\n",
    "    print(\"Number of unique categories: \",no_of_unique_categories)\n",
    "    embedding_size = min(np.ceil(no_of_unique_categories/2), 50)\n",
    "    embedding_size = int(embedding_size)\n",
    "    print(\"Embedding size set as: \", embedding_size)\n",
    "    model.add(Embedding(no_of_unique_categories+1, embedding_size, name=variable+'_embedding', input_length = 1))\n",
    "    model.add(Reshape(target_shape=([embedding_size])))\n",
    "    print(model.summary())\n",
    "    input_layer, embedding, functional_model = get_functional(model)\n",
    "    models.append(model)\n",
    "    functional_models.append(functional_model)\n",
    "    inputs.append(input_layer)\n",
    "    embeddings.append(embedding)"
   ]
  },
  {
   "cell_type": "markdown",
   "metadata": {},
   "source": [
    "#### Once the Embedding for Categorical Columns are Made, We Add Another Single Model for All the Continuous Variables and Add it to the Models List\n"
   ]
  },
  {
   "cell_type": "code",
   "execution_count": 230,
   "metadata": {},
   "outputs": [
    {
     "name": "stdout",
     "output_type": "stream",
     "text": [
      "_________________________________________________________________\n",
      "Layer (type)                 Output Shape              Param #   \n",
      "=================================================================\n",
      "dense_30 (Dense)             (None, 16)                48        \n",
      "=================================================================\n",
      "Total params: 48\n",
      "Trainable params: 48\n",
      "Non-trainable params: 0\n",
      "_________________________________________________________________\n"
     ]
    }
   ],
   "source": [
    "model_rest = Sequential()\n",
    "model_rest.add(Dense(16, input_shape = [2]))\n",
    "model_rest.summary() \n",
    "input_layer_rest, embedding_rest, functional_model_rest = get_functional(model_rest)\n",
    "models.append(model_rest)\n",
    "functional_models.append(functional_model_rest)\n",
    "inputs.append(input_layer_rest)\n",
    "embeddings.append(embedding_rest)"
   ]
  },
  {
   "cell_type": "markdown",
   "metadata": {},
   "source": [
    "#### Our Models List will Contain (Number of categorical variables)+1 Models, where Number of categorical variables = 15"
   ]
  },
  {
   "cell_type": "code",
   "execution_count": 231,
   "metadata": {},
   "outputs": [
    {
     "data": {
      "text/plain": [
       "[<keras.engine.sequential.Sequential at 0x12ddadf28>,\n",
       " <keras.engine.sequential.Sequential at 0x12dc73518>,\n",
       " <keras.engine.sequential.Sequential at 0x12d9cca58>,\n",
       " <keras.engine.sequential.Sequential at 0x12de38f28>,\n",
       " <keras.engine.sequential.Sequential at 0x12de58588>,\n",
       " <keras.engine.sequential.Sequential at 0x12dea01d0>,\n",
       " <keras.engine.sequential.Sequential at 0x12dec55c0>,\n",
       " <keras.engine.sequential.Sequential at 0x12df17a58>,\n",
       " <keras.engine.sequential.Sequential at 0x12df5a780>,\n",
       " <keras.engine.sequential.Sequential at 0x12df9d5f8>,\n",
       " <keras.engine.sequential.Sequential at 0x12dfe8208>,\n",
       " <keras.engine.sequential.Sequential at 0x12e02b0f0>,\n",
       " <keras.engine.sequential.Sequential at 0x12e04aac8>,\n",
       " <keras.engine.sequential.Sequential at 0x12e09d6d8>,\n",
       " <keras.engine.sequential.Sequential at 0x12e0e15c0>,\n",
       " <keras.engine.sequential.Sequential at 0x12e129b38>]"
      ]
     },
     "execution_count": 231,
     "metadata": {},
     "output_type": "execute_result"
    }
   ],
   "source": [
    "models"
   ]
  },
  {
   "cell_type": "code",
   "execution_count": 232,
   "metadata": {},
   "outputs": [
    {
     "data": {
      "text/plain": [
       "[<keras.engine.training.Model at 0x12dc73c18>,\n",
       " <keras.engine.training.Model at 0x12d9ccc18>,\n",
       " <keras.engine.training.Model at 0x12de38a90>,\n",
       " <keras.engine.training.Model at 0x12de584a8>,\n",
       " <keras.engine.training.Model at 0x12dea0a90>,\n",
       " <keras.engine.training.Model at 0x12dec57b8>,\n",
       " <keras.engine.training.Model at 0x12df17ac8>,\n",
       " <keras.engine.training.Model at 0x12df5a860>,\n",
       " <keras.engine.training.Model at 0x12df9d518>,\n",
       " <keras.engine.training.Model at 0x12dfe8b00>,\n",
       " <keras.engine.training.Model at 0x12e02b4a8>,\n",
       " <keras.engine.training.Model at 0x12e04a978>,\n",
       " <keras.engine.training.Model at 0x12e09d828>,\n",
       " <keras.engine.training.Model at 0x12e0e14e0>,\n",
       " <keras.engine.training.Model at 0x12e02beb8>,\n",
       " <keras.engine.training.Model at 0x12e14cef0>]"
      ]
     },
     "execution_count": 232,
     "metadata": {},
     "output_type": "execute_result"
    }
   ],
   "source": [
    "functional_models"
   ]
  },
  {
   "cell_type": "markdown",
   "metadata": {},
   "source": [
    "#### Finally We Merge All the Models Present into a Single Model Using Concat Method which Places the Models One After the Other\n"
   ]
  },
  {
   "cell_type": "code",
   "execution_count": 233,
   "metadata": {},
   "outputs": [],
   "source": [
    "input_layer_full = Concatenate()(embeddings)"
   ]
  },
  {
   "cell_type": "markdown",
   "metadata": {},
   "source": [
    "#### With Input Layers and Embedding Layers Done We can Build on Those as Any Other keras Functional Model."
   ]
  },
  {
   "cell_type": "markdown",
   "metadata": {},
   "source": [
    "Adding a few layers below"
   ]
  },
  {
   "cell_type": "code",
   "execution_count": 234,
   "metadata": {},
   "outputs": [],
   "source": [
    "input_layer_full = Dense(128, activation='relu')(input_layer_full)\n",
    "input_layer_full = Dropout(.5)(input_layer_full)\n",
    "input_layer_full = Dense(64, activation='relu')(input_layer_full)\n",
    "input_layer_full = Dropout(.25)(input_layer_full)\n",
    "input_layer_full = Dense(32, activation='relu')(input_layer_full)\n",
    "input_layer_full = Dropout(.15)(input_layer_full)\n",
    "output = Dense(1, activation='sigmoid')(input_layer_full)"
   ]
  },
  {
   "cell_type": "markdown",
   "metadata": {},
   "source": [
    "#### Creating the Full Model with All Variables"
   ]
  },
  {
   "cell_type": "code",
   "execution_count": 235,
   "metadata": {},
   "outputs": [],
   "source": [
    "full_model = Model(inputs, output)"
   ]
  },
  {
   "cell_type": "code",
   "execution_count": 236,
   "metadata": {},
   "outputs": [],
   "source": [
    "full_model.compile(loss='binary_crossentropy', optimizer='adam', metrics=['accuracy'])"
   ]
  },
  {
   "cell_type": "code",
   "execution_count": 237,
   "metadata": {},
   "outputs": [
    {
     "name": "stdout",
     "output_type": "stream",
     "text": [
      "__________________________________________________________________________________________________\n",
      "Layer (type)                    Output Shape         Param #     Connected to                     \n",
      "==================================================================================================\n",
      "input_130 (InputLayer)          (None, 1)            0                                            \n",
      "__________________________________________________________________________________________________\n",
      "input_131 (InputLayer)          (None, 1)            0                                            \n",
      "__________________________________________________________________________________________________\n",
      "input_132 (InputLayer)          (None, 1)            0                                            \n",
      "__________________________________________________________________________________________________\n",
      "input_133 (InputLayer)          (None, 1)            0                                            \n",
      "__________________________________________________________________________________________________\n",
      "input_134 (InputLayer)          (None, 1)            0                                            \n",
      "__________________________________________________________________________________________________\n",
      "input_135 (InputLayer)          (None, 1)            0                                            \n",
      "__________________________________________________________________________________________________\n",
      "input_136 (InputLayer)          (None, 1)            0                                            \n",
      "__________________________________________________________________________________________________\n",
      "input_137 (InputLayer)          (None, 1)            0                                            \n",
      "__________________________________________________________________________________________________\n",
      "input_138 (InputLayer)          (None, 1)            0                                            \n",
      "__________________________________________________________________________________________________\n",
      "input_139 (InputLayer)          (None, 1)            0                                            \n",
      "__________________________________________________________________________________________________\n",
      "input_140 (InputLayer)          (None, 1)            0                                            \n",
      "__________________________________________________________________________________________________\n",
      "input_141 (InputLayer)          (None, 1)            0                                            \n",
      "__________________________________________________________________________________________________\n",
      "input_142 (InputLayer)          (None, 1)            0                                            \n",
      "__________________________________________________________________________________________________\n",
      "input_143 (InputLayer)          (None, 1)            0                                            \n",
      "__________________________________________________________________________________________________\n",
      "input_144 (InputLayer)          (None, 1)            0                                            \n",
      "__________________________________________________________________________________________________\n",
      "sex_embedding (Embedding)       (None, 1, 1)         3           input_130[0][0]                  \n",
      "__________________________________________________________________________________________________\n",
      "caretype_embedding (Embedding)  (None, 1, 1)         3           input_131[0][0]                  \n",
      "__________________________________________________________________________________________________\n",
      "catheter_embedding (Embedding)  (None, 1, 1)         3           input_132[0][0]                  \n",
      "__________________________________________________________________________________________________\n",
      "cancer_embedding (Embedding)    (None, 1, 1)         3           input_133[0][0]                  \n",
      "__________________________________________________________________________________________________\n",
      "cerebrovascular_disease_embeddi (None, 1, 1)         3           input_134[0][0]                  \n",
      "__________________________________________________________________________________________________\n",
      "diabetes_embedding (Embedding)  (None, 1, 1)         3           input_135[0][0]                  \n",
      "__________________________________________________________________________________________________\n",
      "heart_disease_embedding (Embedd (None, 1, 1)         3           input_136[0][0]                  \n",
      "__________________________________________________________________________________________________\n",
      "hypertension_embedding (Embeddi (None, 1, 1)         3           input_137[0][0]                  \n",
      "__________________________________________________________________________________________________\n",
      "liver_disease_embedding (Embedd (None, 1, 1)         3           input_138[0][0]                  \n",
      "__________________________________________________________________________________________________\n",
      "pulmonary_disease_asthma_embedd (None, 1, 1)         3           input_139[0][0]                  \n",
      "__________________________________________________________________________________________________\n",
      "renal_disease_embedding (Embedd (None, 1, 1)         3           input_140[0][0]                  \n",
      "__________________________________________________________________________________________________\n",
      "rheumatic_or_connective_tissue_ (None, 1, 1)         3           input_141[0][0]                  \n",
      "__________________________________________________________________________________________________\n",
      "no_comorbidity_embedding (Embed (None, 1, 1)         3           input_142[0][0]                  \n",
      "__________________________________________________________________________________________________\n",
      "department_embedding (Embedding (None, 1, 20)        820         input_143[0][0]                  \n",
      "__________________________________________________________________________________________________\n",
      "antibiotic_name_embedding (Embe (None, 1, 20)        820         input_144[0][0]                  \n",
      "__________________________________________________________________________________________________\n",
      "input_145 (InputLayer)          (None, 2)            0                                            \n",
      "__________________________________________________________________________________________________\n",
      "reshape_139 (Reshape)           (None, 1)            0           sex_embedding[1][0]              \n",
      "__________________________________________________________________________________________________\n",
      "reshape_140 (Reshape)           (None, 1)            0           caretype_embedding[1][0]         \n",
      "__________________________________________________________________________________________________\n",
      "reshape_141 (Reshape)           (None, 1)            0           catheter_embedding[1][0]         \n",
      "__________________________________________________________________________________________________\n",
      "reshape_142 (Reshape)           (None, 1)            0           cancer_embedding[1][0]           \n",
      "__________________________________________________________________________________________________\n",
      "reshape_143 (Reshape)           (None, 1)            0           cerebrovascular_disease_embedding\n",
      "__________________________________________________________________________________________________\n",
      "reshape_144 (Reshape)           (None, 1)            0           diabetes_embedding[1][0]         \n",
      "__________________________________________________________________________________________________\n",
      "reshape_145 (Reshape)           (None, 1)            0           heart_disease_embedding[1][0]    \n",
      "__________________________________________________________________________________________________\n",
      "reshape_146 (Reshape)           (None, 1)            0           hypertension_embedding[1][0]     \n",
      "__________________________________________________________________________________________________\n",
      "reshape_147 (Reshape)           (None, 1)            0           liver_disease_embedding[1][0]    \n",
      "__________________________________________________________________________________________________\n",
      "reshape_148 (Reshape)           (None, 1)            0           pulmonary_disease_asthma_embeddin\n",
      "__________________________________________________________________________________________________\n",
      "reshape_149 (Reshape)           (None, 1)            0           renal_disease_embedding[1][0]    \n",
      "__________________________________________________________________________________________________\n",
      "reshape_150 (Reshape)           (None, 1)            0           rheumatic_or_connective_tissue_di\n",
      "__________________________________________________________________________________________________\n",
      "reshape_151 (Reshape)           (None, 1)            0           no_comorbidity_embedding[1][0]   \n",
      "__________________________________________________________________________________________________\n",
      "reshape_152 (Reshape)           (None, 20)           0           department_embedding[1][0]       \n",
      "__________________________________________________________________________________________________\n",
      "reshape_153 (Reshape)           (None, 20)           0           antibiotic_name_embedding[1][0]  \n",
      "__________________________________________________________________________________________________\n",
      "dense_30 (Dense)                (None, 16)           48          input_145[0][0]                  \n",
      "__________________________________________________________________________________________________\n",
      "concatenate_13 (Concatenate)    (None, 69)           0           reshape_139[1][0]                \n",
      "                                                                 reshape_140[1][0]                \n",
      "                                                                 reshape_141[1][0]                \n",
      "                                                                 reshape_142[1][0]                \n",
      "                                                                 reshape_143[1][0]                \n",
      "                                                                 reshape_144[1][0]                \n",
      "                                                                 reshape_145[1][0]                \n",
      "                                                                 reshape_146[1][0]                \n",
      "                                                                 reshape_147[1][0]                \n",
      "                                                                 reshape_148[1][0]                \n",
      "                                                                 reshape_149[1][0]                \n",
      "                                                                 reshape_150[1][0]                \n",
      "                                                                 reshape_151[1][0]                \n",
      "                                                                 reshape_152[1][0]                \n",
      "                                                                 reshape_153[1][0]                \n",
      "                                                                 dense_30[1][0]                   \n",
      "__________________________________________________________________________________________________\n",
      "dense_31 (Dense)                (None, 128)          8960        concatenate_13[0][0]             \n",
      "__________________________________________________________________________________________________\n",
      "dropout_13 (Dropout)            (None, 128)          0           dense_31[0][0]                   \n",
      "__________________________________________________________________________________________________\n",
      "dense_32 (Dense)                (None, 64)           8256        dropout_13[0][0]                 \n",
      "__________________________________________________________________________________________________\n",
      "dropout_14 (Dropout)            (None, 64)           0           dense_32[0][0]                   \n",
      "__________________________________________________________________________________________________\n",
      "dense_33 (Dense)                (None, 32)           2080        dropout_14[0][0]                 \n",
      "__________________________________________________________________________________________________\n",
      "dropout_15 (Dropout)            (None, 32)           0           dense_33[0][0]                   \n",
      "__________________________________________________________________________________________________\n",
      "dense_34 (Dense)                (None, 1)            33          dropout_15[0][0]                 \n",
      "==================================================================================================\n",
      "Total params: 21,056\n",
      "Trainable params: 21,056\n",
      "Non-trainable params: 0\n",
      "__________________________________________________________________________________________________\n"
     ]
    }
   ],
   "source": [
    "full_model.summary()"
   ]
  },
  {
   "cell_type": "markdown",
   "metadata": {},
   "source": [
    "#### Model Training and Validation"
   ]
  },
  {
   "cell_type": "code",
   "execution_count": 238,
   "metadata": {},
   "outputs": [],
   "source": [
    "from keras.utils.np_utils import to_categorical\n",
    "Y_train = Y_train.apply(lambda x: 1 if x=='S' else 0)\n",
    "Y_val = Y_val.apply(lambda x: 1 if x=='S' else 0)\n",
    "Y_train_cat = to_categorical(Y_train.tolist())\n",
    "Y_val_cat = to_categorical(Y_val.tolist())"
   ]
  },
  {
   "cell_type": "code",
   "execution_count": 239,
   "metadata": {},
   "outputs": [
    {
     "name": "stdout",
     "output_type": "stream",
     "text": [
      "Epoch 1/1\n",
      "15000/15000 [==============================] - 4s 293us/step - loss: 0.0254 - acc: 0.9959\n"
     ]
    },
    {
     "data": {
      "text/plain": [
       "<keras.callbacks.History at 0x12e615c50>"
      ]
     },
     "execution_count": 239,
     "metadata": {},
     "output_type": "execute_result"
    }
   ],
   "source": [
    "full_model.fit(df_tr_modified, Y_train_cat)"
   ]
  },
  {
   "cell_type": "code",
   "execution_count": 240,
   "metadata": {},
   "outputs": [
    {
     "name": "stdout",
     "output_type": "stream",
     "text": [
      "5769/5769 [==============================] - 1s 137us/step\n"
     ]
    },
    {
     "data": {
      "text/plain": [
       "[5.8946640264502e-05, 1.0]"
      ]
     },
     "execution_count": 240,
     "metadata": {},
     "output_type": "execute_result"
    }
   ],
   "source": [
    "full_model.evaluate(df_val_modified, Y_val_cat)"
   ]
  },
  {
   "cell_type": "markdown",
   "metadata": {},
   "source": [
    "#### Plot Categorical Embeddings with Categories>2"
   ]
  },
  {
   "cell_type": "code",
   "execution_count": 197,
   "metadata": {},
   "outputs": [],
   "source": [
    "from sklearn import manifold\n",
    "import matplotlib.pyplot as plt\n",
    "%matplotlib inline"
   ]
  },
  {
   "cell_type": "code",
   "execution_count": 249,
   "metadata": {},
   "outputs": [
    {
     "data": {
      "text/plain": [
       "array([[-0.04048283, -0.00585906, -0.01924037, -0.02927114, -0.0007631 ,\n",
       "        -0.08061161, -0.04700429, -0.01143189, -0.00318541, -0.0282432 ,\n",
       "        -0.00255386, -0.03514312,  0.02965967,  0.00883416, -0.050426  ,\n",
       "        -0.05580542, -0.07512423,  0.01722782,  0.01898246,  0.04482304],\n",
       "       [-0.07789271, -0.02385456, -0.00358035, -0.0337573 ,  0.01721867,\n",
       "        -0.05986843, -0.05631705,  0.01020078, -0.05649761, -0.01142982,\n",
       "        -0.00173015, -0.02457146,  0.02712609,  0.02918476,  0.01298726,\n",
       "        -0.03625513, -0.03350233,  0.04078627,  0.04577587, -0.03227778],\n",
       "       [-0.02925926, -0.04428622, -0.05683782,  0.03234605, -0.02001789,\n",
       "        -0.0419681 , -0.01280108,  0.00221938,  0.01196571, -0.05047962,\n",
       "        -0.03417087, -0.03998949, -0.01703581,  0.02158504,  0.00534361,\n",
       "         0.00934158,  0.0248097 ,  0.06722508, -0.0116152 ,  0.01631728],\n",
       "       [-0.02139294,  0.00043079, -0.05739878,  0.02678366,  0.02749228,\n",
       "        -0.02980699, -0.03579749,  0.01404464,  0.06951147, -0.01737224,\n",
       "         0.03411803, -0.02358676, -0.06620944,  0.02147843, -0.00918821,\n",
       "        -0.00349125, -0.01017843,  0.0626419 , -0.00414992,  0.0500135 ],\n",
       "       [-0.04425062,  0.02297067,  0.01158785,  0.00729026,  0.02652494,\n",
       "         0.01762049, -0.07173266,  0.02930192, -0.00067074, -0.01793134,\n",
       "         0.01877445, -0.02522018, -0.04723456, -0.05398651,  0.03486095,\n",
       "         0.02419652, -0.04730991,  0.02285499, -0.00156125,  0.009395  ],\n",
       "       [-0.02392601, -0.00287668,  0.00818108, -0.04213787,  0.03629076,\n",
       "         0.02864653,  0.01756032, -0.01459906,  0.0311125 , -0.03731977,\n",
       "        -0.00936724,  0.01699038, -0.03121918, -0.04214827,  0.05043067,\n",
       "        -0.021766  ,  0.03602716,  0.04973787, -0.04247353, -0.00918233],\n",
       "       [ 0.02473926,  0.00893912,  0.01001735,  0.04399449, -0.01086433,\n",
       "         0.0348643 ,  0.00583734, -0.01402446, -0.03902028,  0.01739988,\n",
       "         0.0011969 ,  0.00428261,  0.0318522 , -0.04569812,  0.03450904,\n",
       "         0.0041857 ,  0.05501397, -0.03216808,  0.02256831,  0.01990587],\n",
       "       [-0.04694782, -0.04965902, -0.01082146, -0.03246134,  0.01105174,\n",
       "        -0.03328159, -0.06994777, -0.02034922,  0.04520366, -0.03552718,\n",
       "         0.02286721, -0.0201688 ,  0.02456493, -0.01775906, -0.01490847,\n",
       "         0.01172239, -0.0228828 ,  0.00632833, -0.01867159, -0.02048973],\n",
       "       [-0.03891572, -0.06078121,  0.05301592, -0.01954834,  0.04214711,\n",
       "        -0.04522429, -0.05924501, -0.04000386, -0.01515105, -0.05157696,\n",
       "         0.00242485,  0.00279474,  0.01744212, -0.05818246, -0.01409741,\n",
       "         0.03533658,  0.01100851,  0.05205533,  0.03328217, -0.00405254],\n",
       "       [-0.07225923,  0.01588139,  0.02914122, -0.04420513,  0.00535055,\n",
       "         0.01114822, -0.00703525, -0.03458624,  0.00261236, -0.01497239,\n",
       "        -0.01060671, -0.02703069,  0.02453377, -0.02044771, -0.01628931,\n",
       "         0.02650035, -0.05816523, -0.02168182,  0.04627271,  0.00568722],\n",
       "       [-0.0843804 ,  0.03079784,  0.02877871,  0.02737114, -0.03774386,\n",
       "        -0.02809042, -0.04916556,  0.0505495 , -0.00424671, -0.03533543,\n",
       "         0.06853272, -0.01841502, -0.04144574,  0.02842477, -0.0272488 ,\n",
       "         0.04301402,  0.03904273, -0.00758564,  0.02222853, -0.04074661],\n",
       "       [-0.02534565, -0.02191217,  0.02003321, -0.03609298, -0.00791845,\n",
       "        -0.03496819, -0.03883715,  0.01389604,  0.02604048,  0.01253675,\n",
       "        -0.02375182, -0.05125846, -0.05455017, -0.04503834, -0.03206571,\n",
       "         0.02158182, -0.02529073, -0.01085424, -0.00363696,  0.02124686],\n",
       "       [-0.05251975, -0.01664213, -0.00908675, -0.04081947,  0.00709164,\n",
       "        -0.00258748, -0.0323203 , -0.04873917,  0.05663063, -0.00611996,\n",
       "        -0.01435178,  0.01490237,  0.00431389, -0.05330326,  0.03557656,\n",
       "         0.00405237,  0.02170406, -0.00238475,  0.00033642, -0.00859174],\n",
       "       [-0.0034929 ,  0.03049686, -0.05438621,  0.02771056, -0.00432425,\n",
       "        -0.00307407, -0.03140737,  0.02948522, -0.05826387, -0.07565564,\n",
       "         0.0348195 , -0.06404721,  0.01426324, -0.01410896,  0.01920274,\n",
       "         0.02593168, -0.06094959, -0.01900485,  0.02308636,  0.00293203],\n",
       "       [-0.08244155, -0.06363215, -0.0169257 , -0.05767032, -0.0110435 ,\n",
       "         0.0187927 , -0.03073225,  0.03140698,  0.0185707 , -0.04602195,\n",
       "         0.01882251,  0.01227039, -0.01066021, -0.03834967,  0.05052809,\n",
       "         0.0237807 , -0.03908699,  0.00733626,  0.02095255, -0.01389541],\n",
       "       [-0.03888728, -0.0516922 ,  0.02747835, -0.01900059, -0.03689266,\n",
       "        -0.01118824, -0.0821556 , -0.0307466 ,  0.02322584, -0.083442  ,\n",
       "         0.06153148, -0.01287705, -0.04700479,  0.01770285, -0.03350148,\n",
       "         0.00728275, -0.01660249,  0.02031848, -0.03774928, -0.01781148],\n",
       "       [-0.02502811,  0.03890045,  0.00666524,  0.0334691 , -0.04211981,\n",
       "        -0.05277225,  0.01074545, -0.0358656 ,  0.01892255,  0.02306763,\n",
       "         0.03438903, -0.05683113, -0.05004565, -0.00772088,  0.03938939,\n",
       "         0.01028104,  0.01125439,  0.05412602, -0.03792928, -0.01799849],\n",
       "       [-0.01063197, -0.04208452, -0.04834067, -0.00502043, -0.03027773,\n",
       "         0.00180143, -0.03506948,  0.03431541, -0.0165946 ,  0.00679485,\n",
       "         0.01621935, -0.05386358,  0.01898231,  0.03394143,  0.05669076,\n",
       "        -0.04719941, -0.01370798,  0.03552556,  0.00447449,  0.02044208],\n",
       "       [-0.03059671, -0.0517876 ,  0.01076172,  0.04689716,  0.0232845 ,\n",
       "        -0.04591244,  0.02580336,  0.02687209,  0.01503891, -0.01464615,\n",
       "        -0.00509523, -0.05812189, -0.02416148, -0.03385055,  0.00390836,\n",
       "        -0.02663071,  0.00773907,  0.00144607, -0.04833592, -0.02414871],\n",
       "       [-0.04555764,  0.01915663,  0.0330805 , -0.04481962, -0.02949059,\n",
       "         0.02246772, -0.01251456,  0.04378954,  0.01164262,  0.00994011,\n",
       "        -0.03353509,  0.02542487, -0.0406741 ,  0.01777588, -0.04547876,\n",
       "         0.01052273,  0.0028327 ,  0.02220266,  0.0115078 , -0.0179837 ],\n",
       "       [-0.01343824,  0.01220647, -0.02792004, -0.04227664, -0.00862548,\n",
       "        -0.02731821, -0.03209847, -0.00748519, -0.01135508,  0.01888425,\n",
       "         0.01816281,  0.01349699, -0.01494006, -0.03262572, -0.00361529,\n",
       "        -0.03723524,  0.03672555,  0.02211685,  0.04384295, -0.04840417],\n",
       "       [-0.04904573, -0.04149392, -0.00628004, -0.02095637,  0.02998669,\n",
       "         0.03392567, -0.07239964, -0.05321934,  0.03517971, -0.01911946,\n",
       "         0.02022226,  0.04911943, -0.04714784, -0.07822709,  0.01638157,\n",
       "         0.03046645, -0.04430648, -0.00687169, -0.01985605,  0.05458095],\n",
       "       [-0.06913298, -0.00816527, -0.02034882, -0.0294842 ,  0.04283552,\n",
       "        -0.02145497, -0.00805416,  0.04557513,  0.02652337, -0.01485451,\n",
       "         0.0360186 ,  0.01190295,  0.01315271, -0.05363209,  0.00400157,\n",
       "        -0.03100498, -0.01308528, -0.02196309,  0.06283429,  0.01245723],\n",
       "       [-0.05402514, -0.00477635,  0.03528523,  0.02825316,  0.01549789,\n",
       "        -0.0401606 ,  0.01301171, -0.01236677, -0.03577971, -0.00723228,\n",
       "         0.01907298, -0.01967027, -0.0162047 ,  0.04231385,  0.04165325,\n",
       "        -0.02589139, -0.05050635,  0.03037936,  0.00768638,  0.03761697],\n",
       "       [-0.06556527, -0.0312744 ,  0.04431886, -0.01930198, -0.00775619,\n",
       "         0.00099121, -0.03262589, -0.02714538,  0.00237361,  0.02715468,\n",
       "         0.0135936 , -0.01763215,  0.01755616, -0.02605486,  0.031292  ,\n",
       "        -0.04398429, -0.02591301,  0.01652545, -0.00442691, -0.05778298],\n",
       "       [-0.02246433,  0.01043141, -0.04041203,  0.04882664,  0.00263798,\n",
       "        -0.05791979, -0.0165115 , -0.01654132,  0.04039031, -0.03453057,\n",
       "        -0.03339703, -0.04286632, -0.01842647,  0.02888343, -0.00906149,\n",
       "        -0.03168373,  0.02340957, -0.01999592, -0.00199767, -0.05387815],\n",
       "       [ 0.03572243,  0.0419715 , -0.03993971, -0.02220445,  0.00168457,\n",
       "         0.03251591,  0.00967074, -0.02493606, -0.04511049, -0.01340385,\n",
       "         0.02024394,  0.02352086,  0.00917264, -0.01771248, -0.00732093,\n",
       "         0.0005235 ,  0.02723944, -0.03710353,  0.03463262,  0.02849795],\n",
       "       [-0.014573  ,  0.02271945, -0.00614921, -0.07667743,  0.02061127,\n",
       "        -0.03832339, -0.02370962,  0.03361233,  0.04981198, -0.01604687,\n",
       "         0.04579761, -0.02291477, -0.06600395,  0.01964932, -0.0331989 ,\n",
       "        -0.06406958, -0.05120476,  0.00425847, -0.04039525,  0.04669869],\n",
       "       [-0.03436631, -0.06203831, -0.053619  , -0.02179895, -0.02281287,\n",
       "         0.03632301,  0.01639295,  0.04289937,  0.02222338,  0.03350167,\n",
       "        -0.01848607, -0.02257389, -0.02465994,  0.00237223,  0.02820473,\n",
       "         0.02337962,  0.02830541,  0.04148176,  0.00475191,  0.04191715],\n",
       "       [-0.04365031,  0.02599904, -0.00384616, -0.04140986,  0.00819105,\n",
       "        -0.01068919, -0.04761773, -0.0003927 ,  0.01822021,  0.04443413,\n",
       "         0.00213154,  0.01043906,  0.03017732, -0.0493363 , -0.03030655,\n",
       "        -0.04672508, -0.03794296, -0.01787648, -0.04055804,  0.04672077],\n",
       "       [-0.04163682,  0.04062103,  0.01153451, -0.01683595, -0.0184338 ,\n",
       "         0.02160282, -0.04321612, -0.04468471, -0.03874994,  0.00088582,\n",
       "         0.03979393, -0.00565741,  0.00047023, -0.01191336,  0.033845  ,\n",
       "         0.03900288, -0.02472091, -0.01686982, -0.02563694,  0.02183584],\n",
       "       [-0.00640032,  0.02311678, -0.03473877,  0.00706492, -0.02667042,\n",
       "         0.00242601,  0.00746783,  0.02045213,  0.01604023, -0.0374039 ,\n",
       "        -0.01373031,  0.00372666, -0.04729253,  0.04904981,  0.03481916,\n",
       "         0.02906198,  0.03243324, -0.02390157,  0.04231803,  0.00546362],\n",
       "       [ 0.03894128,  0.03621383,  0.03895829, -0.02613587, -0.04719069,\n",
       "        -0.01423528,  0.01561627, -0.04319061,  0.02362588,  0.00272654,\n",
       "        -0.02303505, -0.03227999,  0.00437772,  0.04176041,  0.04820852,\n",
       "        -0.02315984,  0.03829274,  0.03606336,  0.01156807,  0.02067472],\n",
       "       [-0.02590145,  0.01239593,  0.02086521, -0.00127163, -0.04260571,\n",
       "         0.00164825,  0.0200421 ,  0.04733365,  0.02622418, -0.02776936,\n",
       "        -0.02691853, -0.02235938, -0.04896785,  0.01183369,  0.02297025,\n",
       "        -0.03705116,  0.01959629, -0.02261666, -0.03750436, -0.04884573],\n",
       "       [-0.02292175, -0.04578819,  0.06395068, -0.04827115,  0.03501406,\n",
       "         0.0463473 , -0.0295576 ,  0.02723658,  0.00638177,  0.00546497,\n",
       "        -0.02099372,  0.02169229, -0.04261157,  0.02380212,  0.01884951,\n",
       "         0.02296896, -0.00823009,  0.03070386, -0.02001366, -0.03865229],\n",
       "       [ 0.01654837, -0.04346636, -0.00118693, -0.02604392, -0.03460239,\n",
       "        -0.01244496,  0.03147432,  0.03031638,  0.02164989, -0.02073289,\n",
       "         0.00933485,  0.04763008, -0.04851753, -0.0495029 ,  0.04096742,\n",
       "         0.04409316, -0.04052166, -0.02736597,  0.03111185,  0.01201468],\n",
       "       [ 0.00448017, -0.04872052,  0.04589615, -0.03112834,  0.01876   ,\n",
       "        -0.01422377,  0.02073908,  0.00400728, -0.03245953, -0.01736536,\n",
       "         0.02586078,  0.01641328,  0.03246191,  0.01543931,  0.00294678,\n",
       "        -0.04889745,  0.01133193,  0.01357624,  0.00379164, -0.03334646],\n",
       "       [-0.03879697,  0.0271872 , -0.02256182, -0.00092653,  0.02542149,\n",
       "         0.04566965, -0.00297415, -0.01392398,  0.01834742, -0.03582475,\n",
       "         0.02570652,  0.01516991,  0.00541247, -0.01450864, -0.03430219,\n",
       "        -0.02227226, -0.03583512, -0.04978232,  0.02592919,  0.00628645],\n",
       "       [ 0.00753224,  0.00038479, -0.00657872, -0.00359701, -0.00480608,\n",
       "         0.00449007,  0.04993771,  0.00152023,  0.04397907,  0.03762424,\n",
       "         0.00482315, -0.00131379, -0.00745825,  0.01805275,  0.01940012,\n",
       "         0.01456603,  0.03450508,  0.00137907,  0.02737048,  0.01648888],\n",
       "       [ 0.04524593, -0.03010374,  0.04979608, -0.0458763 ,  0.00406605,\n",
       "        -0.04274185,  0.01439517, -0.00977613,  0.01055823,  0.04374143,\n",
       "         0.03220986,  0.03719778, -0.04186524, -0.00257136, -0.0190322 ,\n",
       "         0.03583684, -0.00593626,  0.03805864,  0.02799417,  0.02749051],\n",
       "       [-0.04875401,  0.02235537, -0.03897507,  0.02103705,  0.02465608,\n",
       "        -0.01069314,  0.00705203,  0.01654668, -0.00657897, -0.02669743,\n",
       "         0.00902802, -0.00532975, -0.04931859, -0.0364442 ,  0.0375234 ,\n",
       "         0.03949659,  0.00289683,  0.04641774,  0.01557506,  0.01530847]],\n",
       "      dtype=float32)"
      ]
     },
     "execution_count": 249,
     "metadata": {},
     "output_type": "execute_result"
    }
   ],
   "source": [
    "antibiotic_categories = df_train['antibiotic_name'].tolist()\n",
    "antibiotic_embedding = full_model.get_layer('antibiotic_name_embedding').get_weights()[0]\n",
    "antibiotic_embedding"
   ]
  },
  {
   "cell_type": "code",
   "execution_count": 250,
   "metadata": {},
   "outputs": [
    {
     "data": {
      "image/png": "[encoded data removed]",
      "text/plain": [
       "<Figure size 576x576 with 1 Axes>"
      ]
     },
     "metadata": {},
     "output_type": "display_data"
    }
   ],
   "source": [
    "tsne = manifold.TSNE(init='pca', random_state=0, method='exact')\n",
    "Y = tsne.fit_transform(antibiotic_embedding)\n",
    "plt.figure(figsize=(8,8))\n",
    "plt.scatter(-Y[:, 0], -Y[:, 1])\n",
    "for i, txt in enumerate(antibiotic_categories):\n",
    "    plt.annotate(txt, (-Y[i, 0],-Y[i, 1]), xytext = (-20, 8), textcoords = 'offset points')"
   ]
  },
  {
   "cell_type": "code",
   "execution_count": 256,
   "metadata": {},
   "outputs": [
    {
     "data": {
      "text/plain": [
       "array([[-0.04048283, -0.00585906, -0.01924037, -0.02927114, -0.0007631 ,\n",
       "        -0.08061161, -0.04700429, -0.01143189, -0.00318541, -0.0282432 ,\n",
       "        -0.00255386, -0.03514312,  0.02965967,  0.00883416, -0.050426  ,\n",
       "        -0.05580542, -0.07512423,  0.01722782,  0.01898246,  0.04482304],\n",
       "       [-0.07789271, -0.02385456, -0.00358035, -0.0337573 ,  0.01721867,\n",
       "        -0.05986843, -0.05631705,  0.01020078, -0.05649761, -0.01142982,\n",
       "        -0.00173015, -0.02457146,  0.02712609,  0.02918476,  0.01298726,\n",
       "        -0.03625513, -0.03350233,  0.04078627,  0.04577587, -0.03227778],\n",
       "       [-0.02925926, -0.04428622, -0.05683782,  0.03234605, -0.02001789,\n",
       "        -0.0419681 , -0.01280108,  0.00221938,  0.01196571, -0.05047962,\n",
       "        -0.03417087, -0.03998949, -0.01703581,  0.02158504,  0.00534361,\n",
       "         0.00934158,  0.0248097 ,  0.06722508, -0.0116152 ,  0.01631728],\n",
       "       [-0.02139294,  0.00043079, -0.05739878,  0.02678366,  0.02749228,\n",
       "        -0.02980699, -0.03579749,  0.01404464,  0.06951147, -0.01737224,\n",
       "         0.03411803, -0.02358676, -0.06620944,  0.02147843, -0.00918821,\n",
       "        -0.00349125, -0.01017843,  0.0626419 , -0.00414992,  0.0500135 ],\n",
       "       [-0.04425062,  0.02297067,  0.01158785,  0.00729026,  0.02652494,\n",
       "         0.01762049, -0.07173266,  0.02930192, -0.00067074, -0.01793134,\n",
       "         0.01877445, -0.02522018, -0.04723456, -0.05398651,  0.03486095,\n",
       "         0.02419652, -0.04730991,  0.02285499, -0.00156125,  0.009395  ],\n",
       "       [-0.02392601, -0.00287668,  0.00818108, -0.04213787,  0.03629076,\n",
       "         0.02864653,  0.01756032, -0.01459906,  0.0311125 , -0.03731977,\n",
       "        -0.00936724,  0.01699038, -0.03121918, -0.04214827,  0.05043067,\n",
       "        -0.021766  ,  0.03602716,  0.04973787, -0.04247353, -0.00918233],\n",
       "       [ 0.02473926,  0.00893912,  0.01001735,  0.04399449, -0.01086433,\n",
       "         0.0348643 ,  0.00583734, -0.01402446, -0.03902028,  0.01739988,\n",
       "         0.0011969 ,  0.00428261,  0.0318522 , -0.04569812,  0.03450904,\n",
       "         0.0041857 ,  0.05501397, -0.03216808,  0.02256831,  0.01990587],\n",
       "       [-0.04694782, -0.04965902, -0.01082146, -0.03246134,  0.01105174,\n",
       "        -0.03328159, -0.06994777, -0.02034922,  0.04520366, -0.03552718,\n",
       "         0.02286721, -0.0201688 ,  0.02456493, -0.01775906, -0.01490847,\n",
       "         0.01172239, -0.0228828 ,  0.00632833, -0.01867159, -0.02048973],\n",
       "       [-0.03891572, -0.06078121,  0.05301592, -0.01954834,  0.04214711,\n",
       "        -0.04522429, -0.05924501, -0.04000386, -0.01515105, -0.05157696,\n",
       "         0.00242485,  0.00279474,  0.01744212, -0.05818246, -0.01409741,\n",
       "         0.03533658,  0.01100851,  0.05205533,  0.03328217, -0.00405254],\n",
       "       [-0.07225923,  0.01588139,  0.02914122, -0.04420513,  0.00535055,\n",
       "         0.01114822, -0.00703525, -0.03458624,  0.00261236, -0.01497239,\n",
       "        -0.01060671, -0.02703069,  0.02453377, -0.02044771, -0.01628931,\n",
       "         0.02650035, -0.05816523, -0.02168182,  0.04627271,  0.00568722],\n",
       "       [-0.0843804 ,  0.03079784,  0.02877871,  0.02737114, -0.03774386,\n",
       "        -0.02809042, -0.04916556,  0.0505495 , -0.00424671, -0.03533543,\n",
       "         0.06853272, -0.01841502, -0.04144574,  0.02842477, -0.0272488 ,\n",
       "         0.04301402,  0.03904273, -0.00758564,  0.02222853, -0.04074661],\n",
       "       [-0.02534565, -0.02191217,  0.02003321, -0.03609298, -0.00791845,\n",
       "        -0.03496819, -0.03883715,  0.01389604,  0.02604048,  0.01253675,\n",
       "        -0.02375182, -0.05125846, -0.05455017, -0.04503834, -0.03206571,\n",
       "         0.02158182, -0.02529073, -0.01085424, -0.00363696,  0.02124686],\n",
       "       [-0.05251975, -0.01664213, -0.00908675, -0.04081947,  0.00709164,\n",
       "        -0.00258748, -0.0323203 , -0.04873917,  0.05663063, -0.00611996,\n",
       "        -0.01435178,  0.01490237,  0.00431389, -0.05330326,  0.03557656,\n",
       "         0.00405237,  0.02170406, -0.00238475,  0.00033642, -0.00859174],\n",
       "       [-0.0034929 ,  0.03049686, -0.05438621,  0.02771056, -0.00432425,\n",
       "        -0.00307407, -0.03140737,  0.02948522, -0.05826387, -0.07565564,\n",
       "         0.0348195 , -0.06404721,  0.01426324, -0.01410896,  0.01920274,\n",
       "         0.02593168, -0.06094959, -0.01900485,  0.02308636,  0.00293203],\n",
       "       [-0.08244155, -0.06363215, -0.0169257 , -0.05767032, -0.0110435 ,\n",
       "         0.0187927 , -0.03073225,  0.03140698,  0.0185707 , -0.04602195,\n",
       "         0.01882251,  0.01227039, -0.01066021, -0.03834967,  0.05052809,\n",
       "         0.0237807 , -0.03908699,  0.00733626,  0.02095255, -0.01389541],\n",
       "       [-0.03888728, -0.0516922 ,  0.02747835, -0.01900059, -0.03689266,\n",
       "        -0.01118824, -0.0821556 , -0.0307466 ,  0.02322584, -0.083442  ,\n",
       "         0.06153148, -0.01287705, -0.04700479,  0.01770285, -0.03350148,\n",
       "         0.00728275, -0.01660249,  0.02031848, -0.03774928, -0.01781148],\n",
       "       [-0.02502811,  0.03890045,  0.00666524,  0.0334691 , -0.04211981,\n",
       "        -0.05277225,  0.01074545, -0.0358656 ,  0.01892255,  0.02306763,\n",
       "         0.03438903, -0.05683113, -0.05004565, -0.00772088,  0.03938939,\n",
       "         0.01028104,  0.01125439,  0.05412602, -0.03792928, -0.01799849],\n",
       "       [-0.01063197, -0.04208452, -0.04834067, -0.00502043, -0.03027773,\n",
       "         0.00180143, -0.03506948,  0.03431541, -0.0165946 ,  0.00679485,\n",
       "         0.01621935, -0.05386358,  0.01898231,  0.03394143,  0.05669076,\n",
       "        -0.04719941, -0.01370798,  0.03552556,  0.00447449,  0.02044208],\n",
       "       [-0.03059671, -0.0517876 ,  0.01076172,  0.04689716,  0.0232845 ,\n",
       "        -0.04591244,  0.02580336,  0.02687209,  0.01503891, -0.01464615,\n",
       "        -0.00509523, -0.05812189, -0.02416148, -0.03385055,  0.00390836,\n",
       "        -0.02663071,  0.00773907,  0.00144607, -0.04833592, -0.02414871],\n",
       "       [-0.04555764,  0.01915663,  0.0330805 , -0.04481962, -0.02949059,\n",
       "         0.02246772, -0.01251456,  0.04378954,  0.01164262,  0.00994011,\n",
       "        -0.03353509,  0.02542487, -0.0406741 ,  0.01777588, -0.04547876,\n",
       "         0.01052273,  0.0028327 ,  0.02220266,  0.0115078 , -0.0179837 ],\n",
       "       [-0.01343824,  0.01220647, -0.02792004, -0.04227664, -0.00862548,\n",
       "        -0.02731821, -0.03209847, -0.00748519, -0.01135508,  0.01888425,\n",
       "         0.01816281,  0.01349699, -0.01494006, -0.03262572, -0.00361529,\n",
       "        -0.03723524,  0.03672555,  0.02211685,  0.04384295, -0.04840417],\n",
       "       [-0.04904573, -0.04149392, -0.00628004, -0.02095637,  0.02998669,\n",
       "         0.03392567, -0.07239964, -0.05321934,  0.03517971, -0.01911946,\n",
       "         0.02022226,  0.04911943, -0.04714784, -0.07822709,  0.01638157,\n",
       "         0.03046645, -0.04430648, -0.00687169, -0.01985605,  0.05458095],\n",
       "       [-0.06913298, -0.00816527, -0.02034882, -0.0294842 ,  0.04283552,\n",
       "        -0.02145497, -0.00805416,  0.04557513,  0.02652337, -0.01485451,\n",
       "         0.0360186 ,  0.01190295,  0.01315271, -0.05363209,  0.00400157,\n",
       "        -0.03100498, -0.01308528, -0.02196309,  0.06283429,  0.01245723],\n",
       "       [-0.05402514, -0.00477635,  0.03528523,  0.02825316,  0.01549789,\n",
       "        -0.0401606 ,  0.01301171, -0.01236677, -0.03577971, -0.00723228,\n",
       "         0.01907298, -0.01967027, -0.0162047 ,  0.04231385,  0.04165325,\n",
       "        -0.02589139, -0.05050635,  0.03037936,  0.00768638,  0.03761697],\n",
       "       [-0.06556527, -0.0312744 ,  0.04431886, -0.01930198, -0.00775619,\n",
       "         0.00099121, -0.03262589, -0.02714538,  0.00237361,  0.02715468,\n",
       "         0.0135936 , -0.01763215,  0.01755616, -0.02605486,  0.031292  ,\n",
       "        -0.04398429, -0.02591301,  0.01652545, -0.00442691, -0.05778298],\n",
       "       [-0.02246433,  0.01043141, -0.04041203,  0.04882664,  0.00263798,\n",
       "        -0.05791979, -0.0165115 , -0.01654132,  0.04039031, -0.03453057,\n",
       "        -0.03339703, -0.04286632, -0.01842647,  0.02888343, -0.00906149,\n",
       "        -0.03168373,  0.02340957, -0.01999592, -0.00199767, -0.05387815],\n",
       "       [ 0.03572243,  0.0419715 , -0.03993971, -0.02220445,  0.00168457,\n",
       "         0.03251591,  0.00967074, -0.02493606, -0.04511049, -0.01340385,\n",
       "         0.02024394,  0.02352086,  0.00917264, -0.01771248, -0.00732093,\n",
       "         0.0005235 ,  0.02723944, -0.03710353,  0.03463262,  0.02849795],\n",
       "       [-0.014573  ,  0.02271945, -0.00614921, -0.07667743,  0.02061127,\n",
       "        -0.03832339, -0.02370962,  0.03361233,  0.04981198, -0.01604687,\n",
       "         0.04579761, -0.02291477, -0.06600395,  0.01964932, -0.0331989 ,\n",
       "        -0.06406958, -0.05120476,  0.00425847, -0.04039525,  0.04669869],\n",
       "       [-0.03436631, -0.06203831, -0.053619  , -0.02179895, -0.02281287,\n",
       "         0.03632301,  0.01639295,  0.04289937,  0.02222338,  0.03350167,\n",
       "        -0.01848607, -0.02257389, -0.02465994,  0.00237223,  0.02820473,\n",
       "         0.02337962,  0.02830541,  0.04148176,  0.00475191,  0.04191715],\n",
       "       [-0.04365031,  0.02599904, -0.00384616, -0.04140986,  0.00819105,\n",
       "        -0.01068919, -0.04761773, -0.0003927 ,  0.01822021,  0.04443413,\n",
       "         0.00213154,  0.01043906,  0.03017732, -0.0493363 , -0.03030655,\n",
       "        -0.04672508, -0.03794296, -0.01787648, -0.04055804,  0.04672077],\n",
       "       [-0.04163682,  0.04062103,  0.01153451, -0.01683595, -0.0184338 ,\n",
       "         0.02160282, -0.04321612, -0.04468471, -0.03874994,  0.00088582,\n",
       "         0.03979393, -0.00565741,  0.00047023, -0.01191336,  0.033845  ,\n",
       "         0.03900288, -0.02472091, -0.01686982, -0.02563694,  0.02183584],\n",
       "       [-0.00640032,  0.02311678, -0.03473877,  0.00706492, -0.02667042,\n",
       "         0.00242601,  0.00746783,  0.02045213,  0.01604023, -0.0374039 ,\n",
       "        -0.01373031,  0.00372666, -0.04729253,  0.04904981,  0.03481916,\n",
       "         0.02906198,  0.03243324, -0.02390157,  0.04231803,  0.00546362],\n",
       "       [ 0.03894128,  0.03621383,  0.03895829, -0.02613587, -0.04719069,\n",
       "        -0.01423528,  0.01561627, -0.04319061,  0.02362588,  0.00272654,\n",
       "        -0.02303505, -0.03227999,  0.00437772,  0.04176041,  0.04820852,\n",
       "        -0.02315984,  0.03829274,  0.03606336,  0.01156807,  0.02067472],\n",
       "       [-0.02590145,  0.01239593,  0.02086521, -0.00127163, -0.04260571,\n",
       "         0.00164825,  0.0200421 ,  0.04733365,  0.02622418, -0.02776936,\n",
       "        -0.02691853, -0.02235938, -0.04896785,  0.01183369,  0.02297025,\n",
       "        -0.03705116,  0.01959629, -0.02261666, -0.03750436, -0.04884573],\n",
       "       [-0.02292175, -0.04578819,  0.06395068, -0.04827115,  0.03501406,\n",
       "         0.0463473 , -0.0295576 ,  0.02723658,  0.00638177,  0.00546497,\n",
       "        -0.02099372,  0.02169229, -0.04261157,  0.02380212,  0.01884951,\n",
       "         0.02296896, -0.00823009,  0.03070386, -0.02001366, -0.03865229],\n",
       "       [ 0.01654837, -0.04346636, -0.00118693, -0.02604392, -0.03460239,\n",
       "        -0.01244496,  0.03147432,  0.03031638,  0.02164989, -0.02073289,\n",
       "         0.00933485,  0.04763008, -0.04851753, -0.0495029 ,  0.04096742,\n",
       "         0.04409316, -0.04052166, -0.02736597,  0.03111185,  0.01201468],\n",
       "       [ 0.00448017, -0.04872052,  0.04589615, -0.03112834,  0.01876   ,\n",
       "        -0.01422377,  0.02073908,  0.00400728, -0.03245953, -0.01736536,\n",
       "         0.02586078,  0.01641328,  0.03246191,  0.01543931,  0.00294678,\n",
       "        -0.04889745,  0.01133193,  0.01357624,  0.00379164, -0.03334646],\n",
       "       [-0.03879697,  0.0271872 , -0.02256182, -0.00092653,  0.02542149,\n",
       "         0.04566965, -0.00297415, -0.01392398,  0.01834742, -0.03582475,\n",
       "         0.02570652,  0.01516991,  0.00541247, -0.01450864, -0.03430219,\n",
       "        -0.02227226, -0.03583512, -0.04978232,  0.02592919,  0.00628645],\n",
       "       [ 0.00753224,  0.00038479, -0.00657872, -0.00359701, -0.00480608,\n",
       "         0.00449007,  0.04993771,  0.00152023,  0.04397907,  0.03762424,\n",
       "         0.00482315, -0.00131379, -0.00745825,  0.01805275,  0.01940012,\n",
       "         0.01456603,  0.03450508,  0.00137907,  0.02737048,  0.01648888],\n",
       "       [ 0.04524593, -0.03010374,  0.04979608, -0.0458763 ,  0.00406605,\n",
       "        -0.04274185,  0.01439517, -0.00977613,  0.01055823,  0.04374143,\n",
       "         0.03220986,  0.03719778, -0.04186524, -0.00257136, -0.0190322 ,\n",
       "         0.03583684, -0.00593626,  0.03805864,  0.02799417,  0.02749051],\n",
       "       [-0.04875401,  0.02235537, -0.03897507,  0.02103705,  0.02465608,\n",
       "        -0.01069314,  0.00705203,  0.01654668, -0.00657897, -0.02669743,\n",
       "         0.00902802, -0.00532975, -0.04931859, -0.0364442 ,  0.0375234 ,\n",
       "         0.03949659,  0.00289683,  0.04641774,  0.01557506,  0.01530847]],\n",
       "      dtype=float32)"
      ]
     },
     "execution_count": 256,
     "metadata": {},
     "output_type": "execute_result"
    }
   ],
   "source": [
    "department_categories = df_train['department'].unique().tolist()\n",
    "department_embedding = full_model.get_layer('antibiotic_name_embedding').get_weights()[0]\n",
    "department_embedding"
   ]
  },
  {
   "cell_type": "code",
   "execution_count": 262,
   "metadata": {},
   "outputs": [
    {
     "data": {
      "image/png": "[encoded data removed]",
      "text/plain": [
       "<Figure size 864x864 with 1 Axes>"
      ]
     },
     "metadata": {},
     "output_type": "display_data"
    }
   ],
   "source": [
    "tsne = manifold.TSNE(init='pca', random_state=0, method='exact')\n",
    "Y = tsne.fit_transform(department_embedding)\n",
    "plt.figure(figsize=(12,12))\n",
    "plt.scatter(-Y[:, 0], -Y[:, 1])\n",
    "for i, txt in enumerate(department_categories):\n",
    "    plt.annotate(txt, (-Y[i, 0],-Y[i, 1]), xytext = (-20, 8), textcoords = 'offset points')"
   ]
  },
  {
   "cell_type": "code",
   "execution_count": null,
   "metadata": {},
   "outputs": [],
   "source": []
  }
 ],
 "metadata": {
  "kernelspec": {
   "display_name": "Python 3",
   "language": "python",
   "name": "python3"
  },
  "language_info": {
   "codemirror_mode": {
    "name": "ipython",
    "version": 3
   },
   "file_extension": ".py",
   "mimetype": "text/x-python",
   "name": "python",
   "nbconvert_exporter": "python",
   "pygments_lexer": "ipython3",
   "version": "3.6.8"
  }
 },
 "nbformat": 4,
 "nbformat_minor": 2
}
