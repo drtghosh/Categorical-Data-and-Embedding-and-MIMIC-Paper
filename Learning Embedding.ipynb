{
 "cells": [
  {
   "cell_type": "markdown",
   "metadata": {},
   "source": [
    "# Blood Sample Data"
   ]
  },
  {
   "cell_type": "code",
   "execution_count": 6,
   "metadata": {},
   "outputs": [],
   "source": [
    "import pandas as pd\n",
    "from keras.models import Sequential\n",
    "from keras.layers import Dense, Embedding, Flatten"
   ]
  },
  {
   "cell_type": "code",
   "execution_count": 2,
   "metadata": {},
   "outputs": [],
   "source": [
    "pos=pd.read_csv('/Users/deba_mycol/Zevac_Unified/zevac_unified/pp.csv', usecols=['slno', 'hosp_admission_id', 'hosp_patient_id', \n",
    "       'age','sex', 'department', 'sample_type', 'ward_name', 'caretype',\n",
    "       'num_prev_adm', 'sc_date', 'interval', 'catheter', 'cancer',\n",
    "       'cerebrovascular_disease', 'dementia_or_alzheimers', 'diabetes',\n",
    "       'heart_disease', 'hiv_or_aids', 'hypertension', 'liver_disease',\n",
    "       'pulmonary_disease_asthma', 'renal_disease',\n",
    "       'rheumatic_or_connective_tissue_disease', 'no_comorbidity',\n",
    "       'bacteria_name', 'antibiotic_name', 'gram', 'susceptibility'])"
   ]
  },
  {
   "cell_type": "code",
   "execution_count": 3,
   "metadata": {},
   "outputs": [],
   "source": [
    "blood=pos[pos['sample_type']=='Blood']\n",
    "blood=blood[blood['sex']!='Others'].reset_index(drop=True)"
   ]
  },
  {
   "cell_type": "code",
   "execution_count": 4,
   "metadata": {},
   "outputs": [],
   "source": [
    "df=blood[['age', 'sex', 'caretype', 'department', 'num_prev_adm', 'interval', 'catheter', \n",
    "      'cancer', 'cerebrovascular_disease', 'dementia_or_alzheimers', 'diabetes',\n",
    "      'heart_disease', 'hiv_or_aids', 'hypertension', 'liver_disease',\n",
    "      'pulmonary_disease_asthma', 'renal_disease', 'rheumatic_or_connective_tissue_disease', 'no_comorbidity', \n",
    "      'bacteria_name', 'antibiotic_name', 'susceptibility']]\n",
    "df=df.drop_duplicates()\n",
    "df=df.reset_index(drop=True)"
   ]
  },
  {
   "cell_type": "markdown",
   "metadata": {},
   "source": [
    "# Categorical Embedding"
   ]
  },
  {
   "cell_type": "code",
   "execution_count": null,
   "metadata": {},
   "outputs": [],
   "source": []
  }
 ],
 "metadata": {
  "kernelspec": {
   "display_name": "Python 3",
   "language": "python",
   "name": "python3"
  },
  "language_info": {
   "codemirror_mode": {
    "name": "ipython",
    "version": 3
   },
   "file_extension": ".py",
   "mimetype": "text/x-python",
   "name": "python",
   "nbconvert_exporter": "python",
   "pygments_lexer": "ipython3",
   "version": "3.6.8"
  }
 },
 "nbformat": 4,
 "nbformat_minor": 2
}
