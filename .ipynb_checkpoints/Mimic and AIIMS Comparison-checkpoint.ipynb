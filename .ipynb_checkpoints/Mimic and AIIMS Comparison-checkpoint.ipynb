{
 "cells": [
  {
   "cell_type": "markdown",
   "metadata": {},
   "source": [
    "# Transfer Learning Basics"
   ]
  },
  {
   "cell_type": "code",
   "execution_count": 24,
   "metadata": {},
   "outputs": [
    {
     "data": {
      "text/html": [
       "<h3 style=\"color:#049\">Transferring</h3>"
      ],
      "text/plain": [
       "<IPython.core.display.HTML object>"
      ]
     },
     "metadata": {},
     "output_type": "display_data"
    }
   ],
   "source": [
    "%%html\n",
    "<h3 style=\"color:#049\">Transferring</h3>"
   ]
  },
  {
   "cell_type": "code",
   "execution_count": 22,
   "metadata": {},
   "outputs": [
    {
     "data": {
      "text/html": [
       "%%latex\n",
       "<h4 style=\"color:#089\">Whether Feature Space $\\mathbb{X}$ and $\\mathbb{Y}$ of two Domains are same!</h4>"
      ],
      "text/plain": [
       "<IPython.core.display.HTML object>"
      ]
     },
     "metadata": {},
     "output_type": "display_data"
    }
   ],
   "source": [
    "%%html\n",
    "%%latex\n",
    "<h4 style=\"color:#089\">Whether Feature Space $\\mathbb{X}$ and $\\mathbb{Y}$ of two Domains are same!</h4>"
   ]
  },
  {
   "cell_type": "code",
   "execution_count": 26,
   "metadata": {},
   "outputs": [
    {
     "data": {
      "text/html": [
       "%%latex\n",
       "<h4 style=\"color:#089\">Whether Marginal Distributions $P(X)$ and $P(Y)$ of elements in Feature Space $X \\in \\mathbb{X}$ and $Y \\in \\mathbb{Y}$ are same!</h4>"
      ],
      "text/plain": [
       "<IPython.core.display.HTML object>"
      ]
     },
     "metadata": {},
     "output_type": "display_data"
    }
   ],
   "source": [
    "%%html\n",
    "%%latex\n",
    "<h4 style=\"color:#089\">Whether Marginal Distributions $P(X)$ and $P(Y)$ of elements in Feature Space $X \\in \\mathbb{X}$ and $Y \\in \\mathbb{Y}$ are same!</h4>\n"
   ]
  },
  {
   "cell_type": "code",
   "execution_count": 32,
   "metadata": {},
   "outputs": [
    {
     "data": {
      "text/latex": [
       "$X = \\{x_1, x_2, \\ldots, x_n\\}$ and $Y = \\{y_1, y_2, \\ldots, y_m\\}$.\n",
       "\n",
       "We consider n=m (say)!"
      ],
      "text/plain": [
       "<IPython.core.display.Latex object>"
      ]
     },
     "metadata": {},
     "output_type": "display_data"
    }
   ],
   "source": [
    "%%latex\n",
    "$X = \\{x_1, x_2, \\ldots, x_n\\}$ and $Y = \\{y_1, y_2, \\ldots, y_m\\}$.\n",
    "\n",
    "We consider n=m (say)!"
   ]
  },
  {
   "cell_type": "code",
   "execution_count": 35,
   "metadata": {},
   "outputs": [
    {
     "data": {
      "text/latex": [
       "For $i^{th}$ element, name($x_i$) = name($y_i$) = 'bacteria_name' we will check the marginal distributions $P(x_i)$ and $P(y_i)$."
      ],
      "text/plain": [
       "<IPython.core.display.Latex object>"
      ]
     },
     "metadata": {},
     "output_type": "display_data"
    }
   ],
   "source": [
    "%%latex\n",
    "For $i^{th}$ element, name($x_i$) = name($y_i$) = 'bacteria_name' we will check the marginal distributions $P(x_i)$ and $P(y_i)$."
   ]
  },
  {
   "cell_type": "code",
   "execution_count": 100,
   "metadata": {},
   "outputs": [
    {
     "data": {
      "text/html": [
       "<h5 style=\"color:#109\">Overall Bacterial Distribution</h5>"
      ],
      "text/plain": [
       "<IPython.core.display.HTML object>"
      ]
     },
     "metadata": {},
     "output_type": "display_data"
    }
   ],
   "source": [
    "%%html\n",
    "<h5 style=\"color:#109\">Overall Bacterial Distribution</h5>"
   ]
  },
  {
   "cell_type": "code",
   "execution_count": 103,
   "metadata": {},
   "outputs": [
    {
     "data": {
      "text/html": [
       "<h7 style=\"color:#909\">Mimic Bacterial Distribution</h7>"
      ],
      "text/plain": [
       "<IPython.core.display.HTML object>"
      ]
     },
     "metadata": {},
     "output_type": "display_data"
    }
   ],
   "source": [
    "%%html\n",
    "<h7 style=\"color:#909\">Mimic Bacterial Distribution</h7>"
   ]
  },
  {
   "cell_type": "code",
   "execution_count": 44,
   "metadata": {},
   "outputs": [],
   "source": [
    "import pandas as pd\n",
    "mimic=pd.read_csv('zevac_data.csv', sep='\\t', usecols = ['patient_id', 'admission_id', 'age', 'sex', 'sc_date',\n",
    "       'sample_type', 'bacteria_name', 'antibiotic_name', 'num_prev_adm',\n",
    "       'interval', 'device', 'hai', 'susceptibility', 'comorbidity'])"
   ]
  },
  {
   "cell_type": "code",
   "execution_count": 52,
   "metadata": {},
   "outputs": [],
   "source": [
    "bacteria = mimic.bacteria_name.unique()"
   ]
  },
  {
   "cell_type": "code",
   "execution_count": 58,
   "metadata": {},
   "outputs": [],
   "source": [
    "mimicIsolateCounts = pd.DataFrame(columns=['bacteria_name', 'isolates', 'percentage'])"
   ]
  },
  {
   "cell_type": "code",
   "execution_count": 55,
   "metadata": {},
   "outputs": [],
   "source": [
    "def count(bacteria):\n",
    "    filtered = mimic[mimic.bacteria_name==bacteria][['patient_id', 'admission_id', 'sc_date']].drop_duplicates().shape[0]\n",
    "    return filtered"
   ]
  },
  {
   "cell_type": "code",
   "execution_count": 60,
   "metadata": {},
   "outputs": [],
   "source": [
    "mimicIsolateCounts.bacteria_name = pd.Series(bacteria)\n",
    "mimicIsolateCounts.isolates = mimicIsolateCounts.bacteria_name.apply(lambda x: count(x))\n",
    "mimicIsolateCounts.percentage = mimicIsolateCounts.isolates.apply(lambda x: 100*(x/sum(mimicIsolateCounts.isolates)))"
   ]
  },
  {
   "cell_type": "code",
   "execution_count": 64,
   "metadata": {},
   "outputs": [
    {
     "data": {
      "text/html": [
       "<div>\n",
       "<style scoped>\n",
       "    .dataframe tbody tr th:only-of-type {\n",
       "        vertical-align: middle;\n",
       "    }\n",
       "\n",
       "    .dataframe tbody tr th {\n",
       "        vertical-align: top;\n",
       "    }\n",
       "\n",
       "    .dataframe thead th {\n",
       "        text-align: right;\n",
       "    }\n",
       "</style>\n",
       "<table border=\"1\" class=\"dataframe\">\n",
       "  <thead>\n",
       "    <tr style=\"text-align: right;\">\n",
       "      <th></th>\n",
       "      <th>bacteria_name</th>\n",
       "      <th>isolates</th>\n",
       "      <th>percentage</th>\n",
       "    </tr>\n",
       "  </thead>\n",
       "  <tbody>\n",
       "    <tr>\n",
       "      <th>0</th>\n",
       "      <td>Staphylococcus aureus</td>\n",
       "      <td>7469</td>\n",
       "      <td>27.037104</td>\n",
       "    </tr>\n",
       "    <tr>\n",
       "      <th>8</th>\n",
       "      <td>Escherichia coli</td>\n",
       "      <td>3562</td>\n",
       "      <td>12.894118</td>\n",
       "    </tr>\n",
       "    <tr>\n",
       "      <th>6</th>\n",
       "      <td>Enterococcus</td>\n",
       "      <td>3485</td>\n",
       "      <td>12.615385</td>\n",
       "    </tr>\n",
       "    <tr>\n",
       "      <th>5</th>\n",
       "      <td>Pseudomonas aeruginosa</td>\n",
       "      <td>2877</td>\n",
       "      <td>10.414480</td>\n",
       "    </tr>\n",
       "    <tr>\n",
       "      <th>1</th>\n",
       "      <td>Staphylococcus</td>\n",
       "      <td>2368</td>\n",
       "      <td>8.571946</td>\n",
       "    </tr>\n",
       "    <tr>\n",
       "      <th>2</th>\n",
       "      <td>Klebsiella pneumoniae</td>\n",
       "      <td>2030</td>\n",
       "      <td>7.348416</td>\n",
       "    </tr>\n",
       "    <tr>\n",
       "      <th>9</th>\n",
       "      <td>Enterobacter cloacae</td>\n",
       "      <td>816</td>\n",
       "      <td>2.953846</td>\n",
       "    </tr>\n",
       "    <tr>\n",
       "      <th>13</th>\n",
       "      <td>Proteus mirabilis</td>\n",
       "      <td>654</td>\n",
       "      <td>2.367421</td>\n",
       "    </tr>\n",
       "    <tr>\n",
       "      <th>3</th>\n",
       "      <td>Stenotrophomonas maltophilia</td>\n",
       "      <td>513</td>\n",
       "      <td>1.857014</td>\n",
       "    </tr>\n",
       "    <tr>\n",
       "      <th>23</th>\n",
       "      <td>Serratia marcescens</td>\n",
       "      <td>504</td>\n",
       "      <td>1.824434</td>\n",
       "    </tr>\n",
       "    <tr>\n",
       "      <th>4</th>\n",
       "      <td>Enterococcus faecium</td>\n",
       "      <td>448</td>\n",
       "      <td>1.621719</td>\n",
       "    </tr>\n",
       "    <tr>\n",
       "      <th>10</th>\n",
       "      <td>Klebsiella oxytoca</td>\n",
       "      <td>402</td>\n",
       "      <td>1.455204</td>\n",
       "    </tr>\n",
       "    <tr>\n",
       "      <th>20</th>\n",
       "      <td>Acinetobacter baumannii</td>\n",
       "      <td>394</td>\n",
       "      <td>1.426244</td>\n",
       "    </tr>\n",
       "    <tr>\n",
       "      <th>12</th>\n",
       "      <td>Enterococcus faecalis</td>\n",
       "      <td>269</td>\n",
       "      <td>0.973756</td>\n",
       "    </tr>\n",
       "    <tr>\n",
       "      <th>14</th>\n",
       "      <td>Enterobacter aerogenes</td>\n",
       "      <td>265</td>\n",
       "      <td>0.959276</td>\n",
       "    </tr>\n",
       "    <tr>\n",
       "      <th>18</th>\n",
       "      <td>Streptococcus pneumoniae</td>\n",
       "      <td>255</td>\n",
       "      <td>0.923077</td>\n",
       "    </tr>\n",
       "    <tr>\n",
       "      <th>17</th>\n",
       "      <td>Citrobacter freundii</td>\n",
       "      <td>207</td>\n",
       "      <td>0.749321</td>\n",
       "    </tr>\n",
       "    <tr>\n",
       "      <th>11</th>\n",
       "      <td>Morganella morganii</td>\n",
       "      <td>116</td>\n",
       "      <td>0.419910</td>\n",
       "    </tr>\n",
       "    <tr>\n",
       "      <th>15</th>\n",
       "      <td>Citrobacter koseri</td>\n",
       "      <td>103</td>\n",
       "      <td>0.372851</td>\n",
       "    </tr>\n",
       "    <tr>\n",
       "      <th>24</th>\n",
       "      <td>Beta-hemolytic Streptococcus, group B</td>\n",
       "      <td>88</td>\n",
       "      <td>0.318552</td>\n",
       "    </tr>\n",
       "    <tr>\n",
       "      <th>41</th>\n",
       "      <td>Streptococus</td>\n",
       "      <td>75</td>\n",
       "      <td>0.271493</td>\n",
       "    </tr>\n",
       "    <tr>\n",
       "      <th>44</th>\n",
       "      <td>Staphylococcus epidermidis</td>\n",
       "      <td>64</td>\n",
       "      <td>0.231674</td>\n",
       "    </tr>\n",
       "    <tr>\n",
       "      <th>25</th>\n",
       "      <td>Enterobacter</td>\n",
       "      <td>53</td>\n",
       "      <td>0.191855</td>\n",
       "    </tr>\n",
       "    <tr>\n",
       "      <th>35</th>\n",
       "      <td>Streptococcus anginosus</td>\n",
       "      <td>47</td>\n",
       "      <td>0.170136</td>\n",
       "    </tr>\n",
       "    <tr>\n",
       "      <th>30</th>\n",
       "      <td>Providencia stuartii</td>\n",
       "      <td>40</td>\n",
       "      <td>0.144796</td>\n",
       "    </tr>\n",
       "    <tr>\n",
       "      <th>19</th>\n",
       "      <td>Enterobacteriaceae</td>\n",
       "      <td>37</td>\n",
       "      <td>0.133937</td>\n",
       "    </tr>\n",
       "    <tr>\n",
       "      <th>26</th>\n",
       "      <td>Hafnia alvei</td>\n",
       "      <td>34</td>\n",
       "      <td>0.123077</td>\n",
       "    </tr>\n",
       "    <tr>\n",
       "      <th>28</th>\n",
       "      <td>Proteus vulgaris</td>\n",
       "      <td>33</td>\n",
       "      <td>0.119457</td>\n",
       "    </tr>\n",
       "    <tr>\n",
       "      <th>32</th>\n",
       "      <td>Enterobacter asburiae</td>\n",
       "      <td>24</td>\n",
       "      <td>0.086878</td>\n",
       "    </tr>\n",
       "    <tr>\n",
       "      <th>7</th>\n",
       "      <td>Streptococcus</td>\n",
       "      <td>21</td>\n",
       "      <td>0.076018</td>\n",
       "    </tr>\n",
       "    <tr>\n",
       "      <th>...</th>\n",
       "      <td>...</td>\n",
       "      <td>...</td>\n",
       "      <td>...</td>\n",
       "    </tr>\n",
       "    <tr>\n",
       "      <th>108</th>\n",
       "      <td>Raoultella ornithinolytica</td>\n",
       "      <td>1</td>\n",
       "      <td>0.003620</td>\n",
       "    </tr>\n",
       "    <tr>\n",
       "      <th>99</th>\n",
       "      <td>Pseudomonas stutzeri</td>\n",
       "      <td>1</td>\n",
       "      <td>0.003620</td>\n",
       "    </tr>\n",
       "    <tr>\n",
       "      <th>100</th>\n",
       "      <td>Leclercia adecarboxylata</td>\n",
       "      <td>1</td>\n",
       "      <td>0.003620</td>\n",
       "    </tr>\n",
       "    <tr>\n",
       "      <th>102</th>\n",
       "      <td>Streptococcus infantarius subsp. coli</td>\n",
       "      <td>1</td>\n",
       "      <td>0.003620</td>\n",
       "    </tr>\n",
       "    <tr>\n",
       "      <th>103</th>\n",
       "      <td>Pseudomonas putida/Pseudomonas fluorescens</td>\n",
       "      <td>1</td>\n",
       "      <td>0.003620</td>\n",
       "    </tr>\n",
       "    <tr>\n",
       "      <th>107</th>\n",
       "      <td>Cronobacter sakazakii</td>\n",
       "      <td>1</td>\n",
       "      <td>0.003620</td>\n",
       "    </tr>\n",
       "    <tr>\n",
       "      <th>22</th>\n",
       "      <td>Bordetella</td>\n",
       "      <td>1</td>\n",
       "      <td>0.003620</td>\n",
       "    </tr>\n",
       "    <tr>\n",
       "      <th>109</th>\n",
       "      <td>Elizabethkingia meningoseptica</td>\n",
       "      <td>1</td>\n",
       "      <td>0.003620</td>\n",
       "    </tr>\n",
       "    <tr>\n",
       "      <th>110</th>\n",
       "      <td>Corynebacterium amycolatum</td>\n",
       "      <td>1</td>\n",
       "      <td>0.003620</td>\n",
       "    </tr>\n",
       "    <tr>\n",
       "      <th>111</th>\n",
       "      <td>Veillonella</td>\n",
       "      <td>1</td>\n",
       "      <td>0.003620</td>\n",
       "    </tr>\n",
       "    <tr>\n",
       "      <th>95</th>\n",
       "      <td>Corynebacterium striatum</td>\n",
       "      <td>1</td>\n",
       "      <td>0.003620</td>\n",
       "    </tr>\n",
       "    <tr>\n",
       "      <th>114</th>\n",
       "      <td>Alcaligenes faecalis</td>\n",
       "      <td>1</td>\n",
       "      <td>0.003620</td>\n",
       "    </tr>\n",
       "    <tr>\n",
       "      <th>36</th>\n",
       "      <td>Streptococcus constellatus</td>\n",
       "      <td>1</td>\n",
       "      <td>0.003620</td>\n",
       "    </tr>\n",
       "    <tr>\n",
       "      <th>97</th>\n",
       "      <td>Fusobacterium necrophorum</td>\n",
       "      <td>1</td>\n",
       "      <td>0.003620</td>\n",
       "    </tr>\n",
       "    <tr>\n",
       "      <th>47</th>\n",
       "      <td>Moraxella osloensis</td>\n",
       "      <td>1</td>\n",
       "      <td>0.003620</td>\n",
       "    </tr>\n",
       "    <tr>\n",
       "      <th>91</th>\n",
       "      <td>Leuconostoc</td>\n",
       "      <td>1</td>\n",
       "      <td>0.003620</td>\n",
       "    </tr>\n",
       "    <tr>\n",
       "      <th>50</th>\n",
       "      <td>Streptococcus vestibularis</td>\n",
       "      <td>1</td>\n",
       "      <td>0.003620</td>\n",
       "    </tr>\n",
       "    <tr>\n",
       "      <th>53</th>\n",
       "      <td>Klebsiella ozaenae</td>\n",
       "      <td>1</td>\n",
       "      <td>0.003620</td>\n",
       "    </tr>\n",
       "    <tr>\n",
       "      <th>113</th>\n",
       "      <td>Propionibacterium</td>\n",
       "      <td>1</td>\n",
       "      <td>0.003620</td>\n",
       "    </tr>\n",
       "    <tr>\n",
       "      <th>96</th>\n",
       "      <td>Shewanella</td>\n",
       "      <td>1</td>\n",
       "      <td>0.003620</td>\n",
       "    </tr>\n",
       "    <tr>\n",
       "      <th>65</th>\n",
       "      <td>Ochrobactrum anthropi</td>\n",
       "      <td>1</td>\n",
       "      <td>0.003620</td>\n",
       "    </tr>\n",
       "    <tr>\n",
       "      <th>67</th>\n",
       "      <td>Enterococcus mundtii</td>\n",
       "      <td>1</td>\n",
       "      <td>0.003620</td>\n",
       "    </tr>\n",
       "    <tr>\n",
       "      <th>64</th>\n",
       "      <td>Streptococcus salivarius</td>\n",
       "      <td>1</td>\n",
       "      <td>0.003620</td>\n",
       "    </tr>\n",
       "    <tr>\n",
       "      <th>73</th>\n",
       "      <td>Enterococcus avium</td>\n",
       "      <td>1</td>\n",
       "      <td>0.003620</td>\n",
       "    </tr>\n",
       "    <tr>\n",
       "      <th>75</th>\n",
       "      <td>Serratia rubidaea</td>\n",
       "      <td>1</td>\n",
       "      <td>0.003620</td>\n",
       "    </tr>\n",
       "    <tr>\n",
       "      <th>82</th>\n",
       "      <td>Plesiomonas shigelloides</td>\n",
       "      <td>1</td>\n",
       "      <td>0.003620</td>\n",
       "    </tr>\n",
       "    <tr>\n",
       "      <th>86</th>\n",
       "      <td>Aerococcus viridans</td>\n",
       "      <td>1</td>\n",
       "      <td>0.003620</td>\n",
       "    </tr>\n",
       "    <tr>\n",
       "      <th>89</th>\n",
       "      <td>Pediococcus</td>\n",
       "      <td>1</td>\n",
       "      <td>0.003620</td>\n",
       "    </tr>\n",
       "    <tr>\n",
       "      <th>70</th>\n",
       "      <td>Enterobacter agglomerans</td>\n",
       "      <td>1</td>\n",
       "      <td>0.003620</td>\n",
       "    </tr>\n",
       "    <tr>\n",
       "      <th>57</th>\n",
       "      <td>Ralstonia pickettii</td>\n",
       "      <td>1</td>\n",
       "      <td>0.003620</td>\n",
       "    </tr>\n",
       "  </tbody>\n",
       "</table>\n",
       "<p>115 rows × 3 columns</p>\n",
       "</div>"
      ],
      "text/plain": [
       "                                  bacteria_name  isolates  percentage\n",
       "0                         Staphylococcus aureus      7469   27.037104\n",
       "8                              Escherichia coli      3562   12.894118\n",
       "6                                  Enterococcus      3485   12.615385\n",
       "5                        Pseudomonas aeruginosa      2877   10.414480\n",
       "1                                Staphylococcus      2368    8.571946\n",
       "2                         Klebsiella pneumoniae      2030    7.348416\n",
       "9                          Enterobacter cloacae       816    2.953846\n",
       "13                            Proteus mirabilis       654    2.367421\n",
       "3                  Stenotrophomonas maltophilia       513    1.857014\n",
       "23                          Serratia marcescens       504    1.824434\n",
       "4                          Enterococcus faecium       448    1.621719\n",
       "10                           Klebsiella oxytoca       402    1.455204\n",
       "20                      Acinetobacter baumannii       394    1.426244\n",
       "12                        Enterococcus faecalis       269    0.973756\n",
       "14                       Enterobacter aerogenes       265    0.959276\n",
       "18                     Streptococcus pneumoniae       255    0.923077\n",
       "17                         Citrobacter freundii       207    0.749321\n",
       "11                          Morganella morganii       116    0.419910\n",
       "15                           Citrobacter koseri       103    0.372851\n",
       "24        Beta-hemolytic Streptococcus, group B        88    0.318552\n",
       "41                                 Streptococus        75    0.271493\n",
       "44                   Staphylococcus epidermidis        64    0.231674\n",
       "25                                 Enterobacter        53    0.191855\n",
       "35                      Streptococcus anginosus        47    0.170136\n",
       "30                         Providencia stuartii        40    0.144796\n",
       "19                           Enterobacteriaceae        37    0.133937\n",
       "26                                 Hafnia alvei        34    0.123077\n",
       "28                             Proteus vulgaris        33    0.119457\n",
       "32                        Enterobacter asburiae        24    0.086878\n",
       "7                                 Streptococcus        21    0.076018\n",
       "..                                          ...       ...         ...\n",
       "108                  Raoultella ornithinolytica         1    0.003620\n",
       "99                         Pseudomonas stutzeri         1    0.003620\n",
       "100                    Leclercia adecarboxylata         1    0.003620\n",
       "102       Streptococcus infantarius subsp. coli         1    0.003620\n",
       "103  Pseudomonas putida/Pseudomonas fluorescens         1    0.003620\n",
       "107                       Cronobacter sakazakii         1    0.003620\n",
       "22                                   Bordetella         1    0.003620\n",
       "109              Elizabethkingia meningoseptica         1    0.003620\n",
       "110                  Corynebacterium amycolatum         1    0.003620\n",
       "111                                 Veillonella         1    0.003620\n",
       "95                     Corynebacterium striatum         1    0.003620\n",
       "114                        Alcaligenes faecalis         1    0.003620\n",
       "36                   Streptococcus constellatus         1    0.003620\n",
       "97                    Fusobacterium necrophorum         1    0.003620\n",
       "47                          Moraxella osloensis         1    0.003620\n",
       "91                                  Leuconostoc         1    0.003620\n",
       "50                   Streptococcus vestibularis         1    0.003620\n",
       "53                           Klebsiella ozaenae         1    0.003620\n",
       "113                           Propionibacterium         1    0.003620\n",
       "96                                   Shewanella         1    0.003620\n",
       "65                        Ochrobactrum anthropi         1    0.003620\n",
       "67                         Enterococcus mundtii         1    0.003620\n",
       "64                     Streptococcus salivarius         1    0.003620\n",
       "73                           Enterococcus avium         1    0.003620\n",
       "75                            Serratia rubidaea         1    0.003620\n",
       "82                     Plesiomonas shigelloides         1    0.003620\n",
       "86                          Aerococcus viridans         1    0.003620\n",
       "89                                  Pediococcus         1    0.003620\n",
       "70                     Enterobacter agglomerans         1    0.003620\n",
       "57                          Ralstonia pickettii         1    0.003620\n",
       "\n",
       "[115 rows x 3 columns]"
      ]
     },
     "execution_count": 64,
     "metadata": {},
     "output_type": "execute_result"
    }
   ],
   "source": [
    "mimicIsolateCounts = mimicIsolateCounts.sort_values(by=['percentage'], ascending=False)\n",
    "mimicIsolateCounts"
   ]
  },
  {
   "cell_type": "code",
   "execution_count": 99,
   "metadata": {},
   "outputs": [
    {
     "data": {
      "image/png": "[encoded data removed]",
      "text/plain": [
       "<Figure size 936x612 with 1 Axes>"
      ]
     },
     "metadata": {},
     "output_type": "display_data"
    }
   ],
   "source": [
    "import matplotlib.pyplot as plt\n",
    "import matplotlib.cm as cm\n",
    "import numpy as np\n",
    "x = mimicIsolateCounts[0:10].bacteria_name\n",
    "y = mimicIsolateCounts[0:10].percentage\n",
    "colors = cm.rainbow(np.linspace(0, 1, len(y)))\n",
    "fig, ax = plt.subplots()\n",
    "fig.set_size_inches(13, 8.5)\n",
    "width = 0.75 # the width of the bars \n",
    "ind = np.arange(len(y))  # the x locations for the groups\n",
    "ax.barh(ind, y, width, color=colors)\n",
    "ax.set_yticks(ind)\n",
    "ax.set_yticklabels(x, minor=False)\n",
    "for i, v in enumerate(y):\n",
    "    ax.text(v+.1, i-.1, str(round(v,2)), color=colors[i], fontweight='bold')\n",
    "plt.title('Mimic Data Bacterial Distribution')\n",
    "plt.xlabel('Percentage')\n",
    "plt.ylabel('Bacteria')      \n",
    "plt.show()"
   ]
  },
  {
   "cell_type": "code",
   "execution_count": 102,
   "metadata": {},
   "outputs": [
    {
     "data": {
      "text/html": [
       "<h7 style=\"color:#909\">AIIMS Bacterial Distribution</h7>"
      ],
      "text/plain": [
       "<IPython.core.display.HTML object>"
      ]
     },
     "metadata": {},
     "output_type": "display_data"
    }
   ],
   "source": [
    "%%html\n",
    "<h7 style=\"color:#909\">AIIMS Bacterial Distribution</h7>"
   ]
  },
  {
   "cell_type": "code",
   "execution_count": 104,
   "metadata": {},
   "outputs": [
    {
     "data": {
      "text/html": [
       "<div>\n",
       "<style scoped>\n",
       "    .dataframe tbody tr th:only-of-type {\n",
       "        vertical-align: middle;\n",
       "    }\n",
       "\n",
       "    .dataframe tbody tr th {\n",
       "        vertical-align: top;\n",
       "    }\n",
       "\n",
       "    .dataframe thead th {\n",
       "        text-align: right;\n",
       "    }\n",
       "</style>\n",
       "<table border=\"1\" class=\"dataframe\">\n",
       "  <thead>\n",
       "    <tr style=\"text-align: right;\">\n",
       "      <th></th>\n",
       "      <th>bacteria_name</th>\n",
       "      <th>isolates</th>\n",
       "      <th>percentage</th>\n",
       "    </tr>\n",
       "  </thead>\n",
       "  <tbody>\n",
       "    <tr>\n",
       "      <th>1</th>\n",
       "      <td>Escherichia coli</td>\n",
       "      <td>8904</td>\n",
       "      <td>27.802411</td>\n",
       "    </tr>\n",
       "    <tr>\n",
       "      <th>0</th>\n",
       "      <td>Klebsiella pneumoniae</td>\n",
       "      <td>4951</td>\n",
       "      <td>15.459314</td>\n",
       "    </tr>\n",
       "    <tr>\n",
       "      <th>5</th>\n",
       "      <td>Acinetobacter</td>\n",
       "      <td>4100</td>\n",
       "      <td>12.802098</td>\n",
       "    </tr>\n",
       "    <tr>\n",
       "      <th>6</th>\n",
       "      <td>Pseudomonas aeruginosa</td>\n",
       "      <td>3087</td>\n",
       "      <td>9.639043</td>\n",
       "    </tr>\n",
       "    <tr>\n",
       "      <th>8</th>\n",
       "      <td>Staphylococcus aureus</td>\n",
       "      <td>2210</td>\n",
       "      <td>6.900643</td>\n",
       "    </tr>\n",
       "    <tr>\n",
       "      <th>4</th>\n",
       "      <td>Pseudomonas</td>\n",
       "      <td>2080</td>\n",
       "      <td>6.494723</td>\n",
       "    </tr>\n",
       "    <tr>\n",
       "      <th>9</th>\n",
       "      <td>Staphylococcus, coagulase negative</td>\n",
       "      <td>1303</td>\n",
       "      <td>4.068569</td>\n",
       "    </tr>\n",
       "    <tr>\n",
       "      <th>10</th>\n",
       "      <td>Enterobacter</td>\n",
       "      <td>1058</td>\n",
       "      <td>3.303566</td>\n",
       "    </tr>\n",
       "    <tr>\n",
       "      <th>3</th>\n",
       "      <td>Enterococcus faecium</td>\n",
       "      <td>690</td>\n",
       "      <td>2.154499</td>\n",
       "    </tr>\n",
       "    <tr>\n",
       "      <th>11</th>\n",
       "      <td>Klebsiella oxytoca</td>\n",
       "      <td>497</td>\n",
       "      <td>1.551864</td>\n",
       "    </tr>\n",
       "    <tr>\n",
       "      <th>20</th>\n",
       "      <td>Acinetobacter baumannii</td>\n",
       "      <td>456</td>\n",
       "      <td>1.423843</td>\n",
       "    </tr>\n",
       "    <tr>\n",
       "      <th>19</th>\n",
       "      <td>Enterococcus</td>\n",
       "      <td>451</td>\n",
       "      <td>1.408231</td>\n",
       "    </tr>\n",
       "    <tr>\n",
       "      <th>7</th>\n",
       "      <td>Klebsiella</td>\n",
       "      <td>320</td>\n",
       "      <td>0.999188</td>\n",
       "    </tr>\n",
       "    <tr>\n",
       "      <th>12</th>\n",
       "      <td>Citrobacter</td>\n",
       "      <td>256</td>\n",
       "      <td>0.799351</td>\n",
       "    </tr>\n",
       "    <tr>\n",
       "      <th>2</th>\n",
       "      <td>Proteus mirabilis</td>\n",
       "      <td>255</td>\n",
       "      <td>0.796228</td>\n",
       "    </tr>\n",
       "    <tr>\n",
       "      <th>32</th>\n",
       "      <td>Staphylococcus haemolyticus</td>\n",
       "      <td>182</td>\n",
       "      <td>0.568288</td>\n",
       "    </tr>\n",
       "    <tr>\n",
       "      <th>41</th>\n",
       "      <td>Enterococcus faecalis</td>\n",
       "      <td>148</td>\n",
       "      <td>0.462125</td>\n",
       "    </tr>\n",
       "    <tr>\n",
       "      <th>29</th>\n",
       "      <td>Staphylococcus epidermidis</td>\n",
       "      <td>112</td>\n",
       "      <td>0.349716</td>\n",
       "    </tr>\n",
       "    <tr>\n",
       "      <th>13</th>\n",
       "      <td>Proteus vulgaris</td>\n",
       "      <td>105</td>\n",
       "      <td>0.327859</td>\n",
       "    </tr>\n",
       "    <tr>\n",
       "      <th>14</th>\n",
       "      <td>Burkholderia</td>\n",
       "      <td>89</td>\n",
       "      <td>0.277899</td>\n",
       "    </tr>\n",
       "    <tr>\n",
       "      <th>24</th>\n",
       "      <td>Citrobacter freundii</td>\n",
       "      <td>73</td>\n",
       "      <td>0.227940</td>\n",
       "    </tr>\n",
       "    <tr>\n",
       "      <th>23</th>\n",
       "      <td>Staphylococcus schleiferi</td>\n",
       "      <td>66</td>\n",
       "      <td>0.206083</td>\n",
       "    </tr>\n",
       "    <tr>\n",
       "      <th>16</th>\n",
       "      <td>Salmonella Typhi</td>\n",
       "      <td>61</td>\n",
       "      <td>0.190470</td>\n",
       "    </tr>\n",
       "    <tr>\n",
       "      <th>28</th>\n",
       "      <td>Staphylococcus</td>\n",
       "      <td>58</td>\n",
       "      <td>0.181103</td>\n",
       "    </tr>\n",
       "    <tr>\n",
       "      <th>18</th>\n",
       "      <td>Citrobacter koseri</td>\n",
       "      <td>49</td>\n",
       "      <td>0.153001</td>\n",
       "    </tr>\n",
       "    <tr>\n",
       "      <th>40</th>\n",
       "      <td>Proteus</td>\n",
       "      <td>36</td>\n",
       "      <td>0.112409</td>\n",
       "    </tr>\n",
       "    <tr>\n",
       "      <th>39</th>\n",
       "      <td>Gram-negative bacillus</td>\n",
       "      <td>36</td>\n",
       "      <td>0.112409</td>\n",
       "    </tr>\n",
       "    <tr>\n",
       "      <th>25</th>\n",
       "      <td>methicillin resistant Staphylococcus aureus (o...</td>\n",
       "      <td>33</td>\n",
       "      <td>0.103041</td>\n",
       "    </tr>\n",
       "    <tr>\n",
       "      <th>37</th>\n",
       "      <td>Staphylococcus hominis</td>\n",
       "      <td>28</td>\n",
       "      <td>0.087429</td>\n",
       "    </tr>\n",
       "    <tr>\n",
       "      <th>17</th>\n",
       "      <td>Escherichia coli, inactive</td>\n",
       "      <td>26</td>\n",
       "      <td>0.081184</td>\n",
       "    </tr>\n",
       "    <tr>\n",
       "      <th>...</th>\n",
       "      <td>...</td>\n",
       "      <td>...</td>\n",
       "      <td>...</td>\n",
       "    </tr>\n",
       "    <tr>\n",
       "      <th>63</th>\n",
       "      <td>Pseudomonas stutzeri</td>\n",
       "      <td>2</td>\n",
       "      <td>0.006245</td>\n",
       "    </tr>\n",
       "    <tr>\n",
       "      <th>34</th>\n",
       "      <td>Acinetobacter ursingii</td>\n",
       "      <td>2</td>\n",
       "      <td>0.006245</td>\n",
       "    </tr>\n",
       "    <tr>\n",
       "      <th>76</th>\n",
       "      <td>Enterobacter hormaechei</td>\n",
       "      <td>2</td>\n",
       "      <td>0.006245</td>\n",
       "    </tr>\n",
       "    <tr>\n",
       "      <th>66</th>\n",
       "      <td>Pseudomonas aureofaciens</td>\n",
       "      <td>2</td>\n",
       "      <td>0.006245</td>\n",
       "    </tr>\n",
       "    <tr>\n",
       "      <th>70</th>\n",
       "      <td>Flavobacterium meningosepticum</td>\n",
       "      <td>2</td>\n",
       "      <td>0.006245</td>\n",
       "    </tr>\n",
       "    <tr>\n",
       "      <th>82</th>\n",
       "      <td>Enterococcus raffinosus</td>\n",
       "      <td>1</td>\n",
       "      <td>0.003122</td>\n",
       "    </tr>\n",
       "    <tr>\n",
       "      <th>81</th>\n",
       "      <td>Enterobacter cowanii</td>\n",
       "      <td>1</td>\n",
       "      <td>0.003122</td>\n",
       "    </tr>\n",
       "    <tr>\n",
       "      <th>86</th>\n",
       "      <td>Salmonella</td>\n",
       "      <td>1</td>\n",
       "      <td>0.003122</td>\n",
       "    </tr>\n",
       "    <tr>\n",
       "      <th>83</th>\n",
       "      <td>Stenotrophomonas</td>\n",
       "      <td>1</td>\n",
       "      <td>0.003122</td>\n",
       "    </tr>\n",
       "    <tr>\n",
       "      <th>84</th>\n",
       "      <td>Aeromonas</td>\n",
       "      <td>1</td>\n",
       "      <td>0.003122</td>\n",
       "    </tr>\n",
       "    <tr>\n",
       "      <th>85</th>\n",
       "      <td>Mycobacterium marinum</td>\n",
       "      <td>1</td>\n",
       "      <td>0.003122</td>\n",
       "    </tr>\n",
       "    <tr>\n",
       "      <th>87</th>\n",
       "      <td>Beta-hemolytic streptococcus, non-Group A, non...</td>\n",
       "      <td>1</td>\n",
       "      <td>0.003122</td>\n",
       "    </tr>\n",
       "    <tr>\n",
       "      <th>88</th>\n",
       "      <td>Alcaligenes fecalis (organism)</td>\n",
       "      <td>1</td>\n",
       "      <td>0.003122</td>\n",
       "    </tr>\n",
       "    <tr>\n",
       "      <th>89</th>\n",
       "      <td>Edwardsiella</td>\n",
       "      <td>1</td>\n",
       "      <td>0.003122</td>\n",
       "    </tr>\n",
       "    <tr>\n",
       "      <th>90</th>\n",
       "      <td>Staphylococcus capitis capitis</td>\n",
       "      <td>1</td>\n",
       "      <td>0.003122</td>\n",
       "    </tr>\n",
       "    <tr>\n",
       "      <th>80</th>\n",
       "      <td>Alcaligenes faecalis</td>\n",
       "      <td>1</td>\n",
       "      <td>0.003122</td>\n",
       "    </tr>\n",
       "    <tr>\n",
       "      <th>65</th>\n",
       "      <td>Achromobacter denitrificans</td>\n",
       "      <td>1</td>\n",
       "      <td>0.003122</td>\n",
       "    </tr>\n",
       "    <tr>\n",
       "      <th>78</th>\n",
       "      <td>Haemophilus parahaemolyticus</td>\n",
       "      <td>1</td>\n",
       "      <td>0.003122</td>\n",
       "    </tr>\n",
       "    <tr>\n",
       "      <th>77</th>\n",
       "      <td>Staphylococcus warneri</td>\n",
       "      <td>1</td>\n",
       "      <td>0.003122</td>\n",
       "    </tr>\n",
       "    <tr>\n",
       "      <th>74</th>\n",
       "      <td>Chryseobacterium indologenes</td>\n",
       "      <td>1</td>\n",
       "      <td>0.003122</td>\n",
       "    </tr>\n",
       "    <tr>\n",
       "      <th>72</th>\n",
       "      <td>Citrobacter sedlakii</td>\n",
       "      <td>1</td>\n",
       "      <td>0.003122</td>\n",
       "    </tr>\n",
       "    <tr>\n",
       "      <th>67</th>\n",
       "      <td>Staphylococcus hominis hominis</td>\n",
       "      <td>1</td>\n",
       "      <td>0.003122</td>\n",
       "    </tr>\n",
       "    <tr>\n",
       "      <th>62</th>\n",
       "      <td>Serratia</td>\n",
       "      <td>1</td>\n",
       "      <td>0.003122</td>\n",
       "    </tr>\n",
       "    <tr>\n",
       "      <th>59</th>\n",
       "      <td>Salmonella Typhimurium</td>\n",
       "      <td>1</td>\n",
       "      <td>0.003122</td>\n",
       "    </tr>\n",
       "    <tr>\n",
       "      <th>58</th>\n",
       "      <td>Gram-negative bacillus, fermentative</td>\n",
       "      <td>1</td>\n",
       "      <td>0.003122</td>\n",
       "    </tr>\n",
       "    <tr>\n",
       "      <th>57</th>\n",
       "      <td>Beta-hemolytic Streptococcus, group A</td>\n",
       "      <td>1</td>\n",
       "      <td>0.003122</td>\n",
       "    </tr>\n",
       "    <tr>\n",
       "      <th>54</th>\n",
       "      <td>Ureaplasma urealyticum</td>\n",
       "      <td>1</td>\n",
       "      <td>0.003122</td>\n",
       "    </tr>\n",
       "    <tr>\n",
       "      <th>52</th>\n",
       "      <td>Group B streptococcus</td>\n",
       "      <td>1</td>\n",
       "      <td>0.003122</td>\n",
       "    </tr>\n",
       "    <tr>\n",
       "      <th>42</th>\n",
       "      <td>Staphylococcus saprophyticus</td>\n",
       "      <td>1</td>\n",
       "      <td>0.003122</td>\n",
       "    </tr>\n",
       "    <tr>\n",
       "      <th>91</th>\n",
       "      <td>Beta-hemolytic streptococcus</td>\n",
       "      <td>1</td>\n",
       "      <td>0.003122</td>\n",
       "    </tr>\n",
       "  </tbody>\n",
       "</table>\n",
       "<p>92 rows × 3 columns</p>\n",
       "</div>"
      ],
      "text/plain": [
       "                                        bacteria_name  isolates  percentage\n",
       "1                                    Escherichia coli      8904   27.802411\n",
       "0                               Klebsiella pneumoniae      4951   15.459314\n",
       "5                                       Acinetobacter      4100   12.802098\n",
       "6                              Pseudomonas aeruginosa      3087    9.639043\n",
       "8                               Staphylococcus aureus      2210    6.900643\n",
       "4                                         Pseudomonas      2080    6.494723\n",
       "9                  Staphylococcus, coagulase negative      1303    4.068569\n",
       "10                                       Enterobacter      1058    3.303566\n",
       "3                                Enterococcus faecium       690    2.154499\n",
       "11                                 Klebsiella oxytoca       497    1.551864\n",
       "20                            Acinetobacter baumannii       456    1.423843\n",
       "19                                       Enterococcus       451    1.408231\n",
       "7                                          Klebsiella       320    0.999188\n",
       "12                                        Citrobacter       256    0.799351\n",
       "2                                   Proteus mirabilis       255    0.796228\n",
       "32                        Staphylococcus haemolyticus       182    0.568288\n",
       "41                              Enterococcus faecalis       148    0.462125\n",
       "29                         Staphylococcus epidermidis       112    0.349716\n",
       "13                                   Proteus vulgaris       105    0.327859\n",
       "14                                       Burkholderia        89    0.277899\n",
       "24                               Citrobacter freundii        73    0.227940\n",
       "23                          Staphylococcus schleiferi        66    0.206083\n",
       "16                                   Salmonella Typhi        61    0.190470\n",
       "28                                     Staphylococcus        58    0.181103\n",
       "18                                 Citrobacter koseri        49    0.153001\n",
       "40                                            Proteus        36    0.112409\n",
       "39                             Gram-negative bacillus        36    0.112409\n",
       "25  methicillin resistant Staphylococcus aureus (o...        33    0.103041\n",
       "37                             Staphylococcus hominis        28    0.087429\n",
       "17                         Escherichia coli, inactive        26    0.081184\n",
       "..                                                ...       ...         ...\n",
       "63                               Pseudomonas stutzeri         2    0.006245\n",
       "34                             Acinetobacter ursingii         2    0.006245\n",
       "76                            Enterobacter hormaechei         2    0.006245\n",
       "66                           Pseudomonas aureofaciens         2    0.006245\n",
       "70                     Flavobacterium meningosepticum         2    0.006245\n",
       "82                            Enterococcus raffinosus         1    0.003122\n",
       "81                               Enterobacter cowanii         1    0.003122\n",
       "86                                         Salmonella         1    0.003122\n",
       "83                                   Stenotrophomonas         1    0.003122\n",
       "84                                          Aeromonas         1    0.003122\n",
       "85                              Mycobacterium marinum         1    0.003122\n",
       "87  Beta-hemolytic streptococcus, non-Group A, non...         1    0.003122\n",
       "88                     Alcaligenes fecalis (organism)         1    0.003122\n",
       "89                                       Edwardsiella         1    0.003122\n",
       "90                     Staphylococcus capitis capitis         1    0.003122\n",
       "80                               Alcaligenes faecalis         1    0.003122\n",
       "65                        Achromobacter denitrificans         1    0.003122\n",
       "78                       Haemophilus parahaemolyticus         1    0.003122\n",
       "77                             Staphylococcus warneri         1    0.003122\n",
       "74                       Chryseobacterium indologenes         1    0.003122\n",
       "72                               Citrobacter sedlakii         1    0.003122\n",
       "67                     Staphylococcus hominis hominis         1    0.003122\n",
       "62                                           Serratia         1    0.003122\n",
       "59                             Salmonella Typhimurium         1    0.003122\n",
       "58               Gram-negative bacillus, fermentative         1    0.003122\n",
       "57              Beta-hemolytic Streptococcus, group A         1    0.003122\n",
       "54                             Ureaplasma urealyticum         1    0.003122\n",
       "52                              Group B streptococcus         1    0.003122\n",
       "42                       Staphylococcus saprophyticus         1    0.003122\n",
       "91                       Beta-hemolytic streptococcus         1    0.003122\n",
       "\n",
       "[92 rows x 3 columns]"
      ]
     },
     "execution_count": 104,
     "metadata": {},
     "output_type": "execute_result"
    }
   ],
   "source": [
    "aiims=pd.read_csv('/Users/deba_mycol/Zevac_Unified/zevac_unified/pp.csv', usecols=['slno', 'hosp_admission_id', 'hosp_patient_id', \n",
    "       'age','sex', 'department', 'sample_type', 'ward_name', 'caretype',\n",
    "       'num_prev_adm', 'sc_date', 'interval', 'catheter', 'cancer',\n",
    "       'cerebrovascular_disease', 'dementia_or_alzheimers', 'diabetes',\n",
    "       'heart_disease', 'hiv_or_aids', 'hypertension', 'liver_disease',\n",
    "       'pulmonary_disease_asthma', 'renal_disease',\n",
    "       'rheumatic_or_connective_tissue_disease', 'no_comorbidity',\n",
    "       'bacteria_name', 'antibiotic_name', 'gram', 'susceptibility'])\n",
    "\n",
    "bacteria1 = aiims.bacteria_name.unique()\n",
    "aiimsIsolateCounts = pd.DataFrame(columns=['bacteria_name', 'isolates', 'percentage'])\n",
    "def count1(bacteria):\n",
    "    filtered = aiims[aiims.bacteria_name==bacteria][['slno', 'hosp_admission_id', 'hosp_patient_id', 'sc_date']].drop_duplicates().shape[0]\n",
    "    return filtered\n",
    "aiimsIsolateCounts.bacteria_name = pd.Series(bacteria1)\n",
    "aiimsIsolateCounts.isolates = aiimsIsolateCounts.bacteria_name.apply(lambda x: count1(x))\n",
    "aiimsIsolateCounts.percentage = aiimsIsolateCounts.isolates.apply(lambda x: 100*(x/sum(aiimsIsolateCounts.isolates)))\n",
    "aiimsIsolateCounts = aiimsIsolateCounts.sort_values(by=['percentage'], ascending=False)\n",
    "aiimsIsolateCounts\n"
   ]
  },
  {
   "cell_type": "code",
   "execution_count": 105,
   "metadata": {},
   "outputs": [
    {
     "data": {
      "image/png": "[encoded data removed]",
      "text/plain": [
       "<Figure size 936x612 with 1 Axes>"
      ]
     },
     "metadata": {},
     "output_type": "display_data"
    }
   ],
   "source": [
    "x = aiimsIsolateCounts[0:10].bacteria_name\n",
    "y = aiimsIsolateCounts[0:10].percentage\n",
    "colors = cm.rainbow(np.linspace(0, 1, len(y)))\n",
    "fig, ax = plt.subplots()\n",
    "fig.set_size_inches(13, 8.5)\n",
    "width = 0.75 # the width of the bars \n",
    "ind = np.arange(len(y))  # the x locations for the groups\n",
    "ax.barh(ind, y, width, color=colors)\n",
    "ax.set_yticks(ind)\n",
    "ax.set_yticklabels(x, minor=False)\n",
    "for i, v in enumerate(y):\n",
    "    ax.text(v+.1, i-.1, str(round(v,2)), color=colors[i], fontweight='bold')\n",
    "plt.title('AIIMS Data Bacterial Distribution')\n",
    "plt.xlabel('Percentage')\n",
    "plt.ylabel('Bacteria')      \n",
    "plt.show()"
   ]
  },
  {
   "cell_type": "code",
   "execution_count": 108,
   "metadata": {},
   "outputs": [
    {
     "data": {
      "text/html": [
       "<h7 style=\"color:#909\">AIIMS ICU Bacterial Distribution</h7>"
      ],
      "text/plain": [
       "<IPython.core.display.HTML object>"
      ]
     },
     "metadata": {},
     "output_type": "display_data"
    }
   ],
   "source": [
    "%%html\n",
    "<h7 style=\"color:#909\">AIIMS ICU Bacterial Distribution</h7>"
   ]
  },
  {
   "cell_type": "code",
   "execution_count": 106,
   "metadata": {},
   "outputs": [
    {
     "data": {
      "text/html": [
       "<div>\n",
       "<style scoped>\n",
       "    .dataframe tbody tr th:only-of-type {\n",
       "        vertical-align: middle;\n",
       "    }\n",
       "\n",
       "    .dataframe tbody tr th {\n",
       "        vertical-align: top;\n",
       "    }\n",
       "\n",
       "    .dataframe thead th {\n",
       "        text-align: right;\n",
       "    }\n",
       "</style>\n",
       "<table border=\"1\" class=\"dataframe\">\n",
       "  <thead>\n",
       "    <tr style=\"text-align: right;\">\n",
       "      <th></th>\n",
       "      <th>bacteria_name</th>\n",
       "      <th>isolates</th>\n",
       "      <th>percentage</th>\n",
       "    </tr>\n",
       "  </thead>\n",
       "  <tbody>\n",
       "    <tr>\n",
       "      <th>7</th>\n",
       "      <td>Acinetobacter</td>\n",
       "      <td>2219</td>\n",
       "      <td>28.285532</td>\n",
       "    </tr>\n",
       "    <tr>\n",
       "      <th>0</th>\n",
       "      <td>Klebsiella pneumoniae</td>\n",
       "      <td>1516</td>\n",
       "      <td>19.324410</td>\n",
       "    </tr>\n",
       "    <tr>\n",
       "      <th>5</th>\n",
       "      <td>Escherichia coli</td>\n",
       "      <td>1081</td>\n",
       "      <td>13.779477</td>\n",
       "    </tr>\n",
       "    <tr>\n",
       "      <th>2</th>\n",
       "      <td>Pseudomonas aeruginosa</td>\n",
       "      <td>798</td>\n",
       "      <td>10.172084</td>\n",
       "    </tr>\n",
       "    <tr>\n",
       "      <th>4</th>\n",
       "      <td>Pseudomonas</td>\n",
       "      <td>622</td>\n",
       "      <td>7.928617</td>\n",
       "    </tr>\n",
       "    <tr>\n",
       "      <th>3</th>\n",
       "      <td>Enterobacter</td>\n",
       "      <td>297</td>\n",
       "      <td>3.785851</td>\n",
       "    </tr>\n",
       "    <tr>\n",
       "      <th>15</th>\n",
       "      <td>Acinetobacter baumannii</td>\n",
       "      <td>219</td>\n",
       "      <td>2.791587</td>\n",
       "    </tr>\n",
       "    <tr>\n",
       "      <th>8</th>\n",
       "      <td>Enterococcus faecium</td>\n",
       "      <td>218</td>\n",
       "      <td>2.778840</td>\n",
       "    </tr>\n",
       "    <tr>\n",
       "      <th>12</th>\n",
       "      <td>Staphylococcus, coagulase negative</td>\n",
       "      <td>172</td>\n",
       "      <td>2.192479</td>\n",
       "    </tr>\n",
       "    <tr>\n",
       "      <th>13</th>\n",
       "      <td>Staphylococcus aureus</td>\n",
       "      <td>137</td>\n",
       "      <td>1.746335</td>\n",
       "    </tr>\n",
       "    <tr>\n",
       "      <th>1</th>\n",
       "      <td>Klebsiella</td>\n",
       "      <td>119</td>\n",
       "      <td>1.516890</td>\n",
       "    </tr>\n",
       "    <tr>\n",
       "      <th>9</th>\n",
       "      <td>Burkholderia</td>\n",
       "      <td>74</td>\n",
       "      <td>0.943276</td>\n",
       "    </tr>\n",
       "    <tr>\n",
       "      <th>6</th>\n",
       "      <td>Citrobacter</td>\n",
       "      <td>62</td>\n",
       "      <td>0.790312</td>\n",
       "    </tr>\n",
       "    <tr>\n",
       "      <th>22</th>\n",
       "      <td>Enterococcus</td>\n",
       "      <td>53</td>\n",
       "      <td>0.675590</td>\n",
       "    </tr>\n",
       "    <tr>\n",
       "      <th>10</th>\n",
       "      <td>Klebsiella oxytoca</td>\n",
       "      <td>52</td>\n",
       "      <td>0.662843</td>\n",
       "    </tr>\n",
       "    <tr>\n",
       "      <th>11</th>\n",
       "      <td>Proteus mirabilis</td>\n",
       "      <td>31</td>\n",
       "      <td>0.395156</td>\n",
       "    </tr>\n",
       "    <tr>\n",
       "      <th>25</th>\n",
       "      <td>Enterococcus faecalis</td>\n",
       "      <td>29</td>\n",
       "      <td>0.369662</td>\n",
       "    </tr>\n",
       "    <tr>\n",
       "      <th>23</th>\n",
       "      <td>Staphylococcus haemolyticus</td>\n",
       "      <td>27</td>\n",
       "      <td>0.344168</td>\n",
       "    </tr>\n",
       "    <tr>\n",
       "      <th>16</th>\n",
       "      <td>Staphylococcus epidermidis</td>\n",
       "      <td>18</td>\n",
       "      <td>0.229446</td>\n",
       "    </tr>\n",
       "    <tr>\n",
       "      <th>31</th>\n",
       "      <td>Gram-negative bacillus</td>\n",
       "      <td>15</td>\n",
       "      <td>0.191205</td>\n",
       "    </tr>\n",
       "    <tr>\n",
       "      <th>19</th>\n",
       "      <td>Escherichia coli, inactive</td>\n",
       "      <td>9</td>\n",
       "      <td>0.114723</td>\n",
       "    </tr>\n",
       "    <tr>\n",
       "      <th>26</th>\n",
       "      <td>Staphylococcus schleiferi</td>\n",
       "      <td>8</td>\n",
       "      <td>0.101976</td>\n",
       "    </tr>\n",
       "    <tr>\n",
       "      <th>29</th>\n",
       "      <td>Staphylococcus</td>\n",
       "      <td>6</td>\n",
       "      <td>0.076482</td>\n",
       "    </tr>\n",
       "    <tr>\n",
       "      <th>21</th>\n",
       "      <td>Citrobacter koseri</td>\n",
       "      <td>5</td>\n",
       "      <td>0.063735</td>\n",
       "    </tr>\n",
       "    <tr>\n",
       "      <th>37</th>\n",
       "      <td>Serratia marcescens</td>\n",
       "      <td>4</td>\n",
       "      <td>0.050988</td>\n",
       "    </tr>\n",
       "    <tr>\n",
       "      <th>36</th>\n",
       "      <td>Morganella morganii</td>\n",
       "      <td>4</td>\n",
       "      <td>0.050988</td>\n",
       "    </tr>\n",
       "    <tr>\n",
       "      <th>28</th>\n",
       "      <td>Citrobacter freundii</td>\n",
       "      <td>4</td>\n",
       "      <td>0.050988</td>\n",
       "    </tr>\n",
       "    <tr>\n",
       "      <th>17</th>\n",
       "      <td>Stenotrophomonas maltophilia</td>\n",
       "      <td>4</td>\n",
       "      <td>0.050988</td>\n",
       "    </tr>\n",
       "    <tr>\n",
       "      <th>35</th>\n",
       "      <td>Citrobacter diversus</td>\n",
       "      <td>3</td>\n",
       "      <td>0.038241</td>\n",
       "    </tr>\n",
       "    <tr>\n",
       "      <th>53</th>\n",
       "      <td>Proteus vulgaris</td>\n",
       "      <td>3</td>\n",
       "      <td>0.038241</td>\n",
       "    </tr>\n",
       "    <tr>\n",
       "      <th>32</th>\n",
       "      <td>Gram-negative bacillus, non-fermentative</td>\n",
       "      <td>3</td>\n",
       "      <td>0.038241</td>\n",
       "    </tr>\n",
       "    <tr>\n",
       "      <th>49</th>\n",
       "      <td>Burkholderia cepacia</td>\n",
       "      <td>2</td>\n",
       "      <td>0.025494</td>\n",
       "    </tr>\n",
       "    <tr>\n",
       "      <th>52</th>\n",
       "      <td>Streptococcus viridans</td>\n",
       "      <td>2</td>\n",
       "      <td>0.025494</td>\n",
       "    </tr>\n",
       "    <tr>\n",
       "      <th>14</th>\n",
       "      <td>Enterobacteriaceae</td>\n",
       "      <td>2</td>\n",
       "      <td>0.025494</td>\n",
       "    </tr>\n",
       "    <tr>\n",
       "      <th>42</th>\n",
       "      <td>Elizabethkingia meningoseptica</td>\n",
       "      <td>2</td>\n",
       "      <td>0.025494</td>\n",
       "    </tr>\n",
       "    <tr>\n",
       "      <th>33</th>\n",
       "      <td>Pseudomonas fluorescens</td>\n",
       "      <td>2</td>\n",
       "      <td>0.025494</td>\n",
       "    </tr>\n",
       "    <tr>\n",
       "      <th>18</th>\n",
       "      <td>Pseudomonas putida</td>\n",
       "      <td>2</td>\n",
       "      <td>0.025494</td>\n",
       "    </tr>\n",
       "    <tr>\n",
       "      <th>20</th>\n",
       "      <td>Proteus</td>\n",
       "      <td>2</td>\n",
       "      <td>0.025494</td>\n",
       "    </tr>\n",
       "    <tr>\n",
       "      <th>54</th>\n",
       "      <td>Streptococcus</td>\n",
       "      <td>1</td>\n",
       "      <td>0.012747</td>\n",
       "    </tr>\n",
       "    <tr>\n",
       "      <th>46</th>\n",
       "      <td>Enterobacter cloacae</td>\n",
       "      <td>1</td>\n",
       "      <td>0.012747</td>\n",
       "    </tr>\n",
       "    <tr>\n",
       "      <th>55</th>\n",
       "      <td>Streptococcus pneumoniae</td>\n",
       "      <td>1</td>\n",
       "      <td>0.012747</td>\n",
       "    </tr>\n",
       "    <tr>\n",
       "      <th>51</th>\n",
       "      <td>Aeromonas</td>\n",
       "      <td>1</td>\n",
       "      <td>0.012747</td>\n",
       "    </tr>\n",
       "    <tr>\n",
       "      <th>50</th>\n",
       "      <td>Stenotrophomonas</td>\n",
       "      <td>1</td>\n",
       "      <td>0.012747</td>\n",
       "    </tr>\n",
       "    <tr>\n",
       "      <th>48</th>\n",
       "      <td>Enterobacter cowanii</td>\n",
       "      <td>1</td>\n",
       "      <td>0.012747</td>\n",
       "    </tr>\n",
       "    <tr>\n",
       "      <th>47</th>\n",
       "      <td>Shewanella putrefaciens</td>\n",
       "      <td>1</td>\n",
       "      <td>0.012747</td>\n",
       "    </tr>\n",
       "    <tr>\n",
       "      <th>27</th>\n",
       "      <td>Staphylococcus capitis</td>\n",
       "      <td>1</td>\n",
       "      <td>0.012747</td>\n",
       "    </tr>\n",
       "    <tr>\n",
       "      <th>45</th>\n",
       "      <td>Enterobacter hormaechei</td>\n",
       "      <td>1</td>\n",
       "      <td>0.012747</td>\n",
       "    </tr>\n",
       "    <tr>\n",
       "      <th>44</th>\n",
       "      <td>Staphylococcus epidermidis albus</td>\n",
       "      <td>1</td>\n",
       "      <td>0.012747</td>\n",
       "    </tr>\n",
       "    <tr>\n",
       "      <th>43</th>\n",
       "      <td>Chryseobacterium indologenes</td>\n",
       "      <td>1</td>\n",
       "      <td>0.012747</td>\n",
       "    </tr>\n",
       "    <tr>\n",
       "      <th>24</th>\n",
       "      <td>Acinetobacter lwoffii</td>\n",
       "      <td>1</td>\n",
       "      <td>0.012747</td>\n",
       "    </tr>\n",
       "    <tr>\n",
       "      <th>41</th>\n",
       "      <td>Flavobacterium meningosepticum</td>\n",
       "      <td>1</td>\n",
       "      <td>0.012747</td>\n",
       "    </tr>\n",
       "    <tr>\n",
       "      <th>40</th>\n",
       "      <td>Providencia rettgeri</td>\n",
       "      <td>1</td>\n",
       "      <td>0.012747</td>\n",
       "    </tr>\n",
       "    <tr>\n",
       "      <th>39</th>\n",
       "      <td>Staphylococcus schleiferi ss. schleiferi (orga...</td>\n",
       "      <td>1</td>\n",
       "      <td>0.012747</td>\n",
       "    </tr>\n",
       "    <tr>\n",
       "      <th>38</th>\n",
       "      <td>Burkholderia cenocepacia</td>\n",
       "      <td>1</td>\n",
       "      <td>0.012747</td>\n",
       "    </tr>\n",
       "    <tr>\n",
       "      <th>34</th>\n",
       "      <td>Staphylococcus lugdunensis</td>\n",
       "      <td>1</td>\n",
       "      <td>0.012747</td>\n",
       "    </tr>\n",
       "    <tr>\n",
       "      <th>30</th>\n",
       "      <td>Providencia</td>\n",
       "      <td>1</td>\n",
       "      <td>0.012747</td>\n",
       "    </tr>\n",
       "    <tr>\n",
       "      <th>56</th>\n",
       "      <td>Staphylococcus hominis</td>\n",
       "      <td>1</td>\n",
       "      <td>0.012747</td>\n",
       "    </tr>\n",
       "  </tbody>\n",
       "</table>\n",
       "</div>"
      ],
      "text/plain": [
       "                                        bacteria_name  isolates  percentage\n",
       "7                                       Acinetobacter      2219   28.285532\n",
       "0                               Klebsiella pneumoniae      1516   19.324410\n",
       "5                                    Escherichia coli      1081   13.779477\n",
       "2                              Pseudomonas aeruginosa       798   10.172084\n",
       "4                                         Pseudomonas       622    7.928617\n",
       "3                                        Enterobacter       297    3.785851\n",
       "15                            Acinetobacter baumannii       219    2.791587\n",
       "8                                Enterococcus faecium       218    2.778840\n",
       "12                 Staphylococcus, coagulase negative       172    2.192479\n",
       "13                              Staphylococcus aureus       137    1.746335\n",
       "1                                          Klebsiella       119    1.516890\n",
       "9                                        Burkholderia        74    0.943276\n",
       "6                                         Citrobacter        62    0.790312\n",
       "22                                       Enterococcus        53    0.675590\n",
       "10                                 Klebsiella oxytoca        52    0.662843\n",
       "11                                  Proteus mirabilis        31    0.395156\n",
       "25                              Enterococcus faecalis        29    0.369662\n",
       "23                        Staphylococcus haemolyticus        27    0.344168\n",
       "16                         Staphylococcus epidermidis        18    0.229446\n",
       "31                             Gram-negative bacillus        15    0.191205\n",
       "19                         Escherichia coli, inactive         9    0.114723\n",
       "26                          Staphylococcus schleiferi         8    0.101976\n",
       "29                                     Staphylococcus         6    0.076482\n",
       "21                                 Citrobacter koseri         5    0.063735\n",
       "37                                Serratia marcescens         4    0.050988\n",
       "36                                Morganella morganii         4    0.050988\n",
       "28                               Citrobacter freundii         4    0.050988\n",
       "17                       Stenotrophomonas maltophilia         4    0.050988\n",
       "35                               Citrobacter diversus         3    0.038241\n",
       "53                                   Proteus vulgaris         3    0.038241\n",
       "32           Gram-negative bacillus, non-fermentative         3    0.038241\n",
       "49                               Burkholderia cepacia         2    0.025494\n",
       "52                             Streptococcus viridans         2    0.025494\n",
       "14                                 Enterobacteriaceae         2    0.025494\n",
       "42                     Elizabethkingia meningoseptica         2    0.025494\n",
       "33                            Pseudomonas fluorescens         2    0.025494\n",
       "18                                 Pseudomonas putida         2    0.025494\n",
       "20                                            Proteus         2    0.025494\n",
       "54                                      Streptococcus         1    0.012747\n",
       "46                               Enterobacter cloacae         1    0.012747\n",
       "55                           Streptococcus pneumoniae         1    0.012747\n",
       "51                                          Aeromonas         1    0.012747\n",
       "50                                   Stenotrophomonas         1    0.012747\n",
       "48                               Enterobacter cowanii         1    0.012747\n",
       "47                            Shewanella putrefaciens         1    0.012747\n",
       "27                             Staphylococcus capitis         1    0.012747\n",
       "45                            Enterobacter hormaechei         1    0.012747\n",
       "44                   Staphylococcus epidermidis albus         1    0.012747\n",
       "43                       Chryseobacterium indologenes         1    0.012747\n",
       "24                              Acinetobacter lwoffii         1    0.012747\n",
       "41                     Flavobacterium meningosepticum         1    0.012747\n",
       "40                               Providencia rettgeri         1    0.012747\n",
       "39  Staphylococcus schleiferi ss. schleiferi (orga...         1    0.012747\n",
       "38                           Burkholderia cenocepacia         1    0.012747\n",
       "34                         Staphylococcus lugdunensis         1    0.012747\n",
       "30                                        Providencia         1    0.012747\n",
       "56                             Staphylococcus hominis         1    0.012747"
      ]
     },
     "execution_count": 106,
     "metadata": {},
     "output_type": "execute_result"
    }
   ],
   "source": [
    "aiimsICU = aiims[aiims.caretype=='ICU']\n",
    "\n",
    "bacteria2 = aiimsICU.bacteria_name.unique()\n",
    "aiimsIsolateCounts = pd.DataFrame(columns=['bacteria_name', 'isolates', 'percentage'])\n",
    "def count2(bacteria):\n",
    "    filtered = aiimsICU[aiimsICU.bacteria_name==bacteria][['slno', 'hosp_admission_id', 'hosp_patient_id', 'sc_date']].drop_duplicates().shape[0]\n",
    "    return filtered\n",
    "aiimsIsolateCounts.bacteria_name = pd.Series(bacteria2)\n",
    "aiimsIsolateCounts.isolates = aiimsIsolateCounts.bacteria_name.apply(lambda x: count2(x))\n",
    "aiimsIsolateCounts.percentage = aiimsIsolateCounts.isolates.apply(lambda x: 100*(x/sum(aiimsIsolateCounts.isolates)))\n",
    "aiimsIsolateCounts = aiimsIsolateCounts.sort_values(by=['percentage'], ascending=False)\n",
    "aiimsIsolateCounts"
   ]
  },
  {
   "cell_type": "code",
   "execution_count": 107,
   "metadata": {},
   "outputs": [
    {
     "data": {
      "image/png": "[encoded data removed]",
      "text/plain": [
       "<Figure size 936x612 with 1 Axes>"
      ]
     },
     "metadata": {},
     "output_type": "display_data"
    }
   ],
   "source": [
    "x = aiimsIsolateCounts[0:10].bacteria_name\n",
    "y = aiimsIsolateCounts[0:10].percentage\n",
    "colors = cm.rainbow(np.linspace(0, 1, len(y)))\n",
    "fig, ax = plt.subplots()\n",
    "fig.set_size_inches(13, 8.5)\n",
    "width = 0.75 # the width of the bars \n",
    "ind = np.arange(len(y))  # the x locations for the groups\n",
    "ax.barh(ind, y, width, color=colors)\n",
    "ax.set_yticks(ind)\n",
    "ax.set_yticklabels(x, minor=False)\n",
    "for i, v in enumerate(y):\n",
    "    ax.text(v+.1, i-.1, str(round(v,2)), color=colors[i], fontweight='bold')\n",
    "plt.title('AIIMS ICU Data Bacterial Distribution')\n",
    "plt.xlabel('Percentage')\n",
    "plt.ylabel('Bacteria')      \n",
    "plt.show()"
   ]
  },
  {
   "cell_type": "code",
   "execution_count": 109,
   "metadata": {},
   "outputs": [
    {
     "data": {
      "text/latex": [
       "For $i^{th}$ element, name($x_i$) = name($y_i$) = 'age' we will check the marginal distributions $P(x_i)$ and $P(y_i)$ given the 'caretype' in AIIMS is 'ICU' since MIMIC comprises of ICU data only."
      ],
      "text/plain": [
       "<IPython.core.display.Latex object>"
      ]
     },
     "metadata": {},
     "output_type": "display_data"
    }
   ],
   "source": [
    "%%latex\n",
    "For $i^{th}$ element, name($x_i$) = name($y_i$) = 'age' we will check the marginal distributions $P(x_i)$ and $P(y_i)$ given the 'caretype' in AIIMS is 'ICU' since MIMIC comprises of ICU data only.\n"
   ]
  },
  {
   "cell_type": "code",
   "execution_count": 110,
   "metadata": {},
   "outputs": [
    {
     "data": {
      "text/html": [
       "<h5 style=\"color:#109\">Overall Age Distribution</h5>"
      ],
      "text/plain": [
       "<IPython.core.display.HTML object>"
      ]
     },
     "metadata": {},
     "output_type": "display_data"
    }
   ],
   "source": [
    "%%html\n",
    "<h5 style=\"color:#109\">Overall Age Distribution</h5>"
   ]
  },
  {
   "cell_type": "code",
   "execution_count": 111,
   "metadata": {},
   "outputs": [
    {
     "data": {
      "text/html": [
       "<h7 style=\"color:#909\">Mimic Age Distribution</h7>"
      ],
      "text/plain": [
       "<IPython.core.display.HTML object>"
      ]
     },
     "metadata": {},
     "output_type": "display_data"
    }
   ],
   "source": [
    "%%html\n",
    "<h7 style=\"color:#909\">Mimic Age Distribution</h7>"
   ]
  },
  {
   "cell_type": "code",
   "execution_count": 135,
   "metadata": {},
   "outputs": [
    {
     "data": {
      "text/plain": [
       "<matplotlib.axes._subplots.AxesSubplot at 0x115cc68d0>"
      ]
     },
     "execution_count": 135,
     "metadata": {},
     "output_type": "execute_result"
    },
    {
     "data": {
      "text/plain": [
       "<Figure size 432x288 with 0 Axes>"
      ]
     },
     "metadata": {},
     "output_type": "display_data"
    },
    {
     "data": {
      "image/png": "[encoded data removed]",
      "text/plain": [
       "<Figure size 864x432 with 1 Axes>"
      ]
     },
     "metadata": {},
     "output_type": "display_data"
    }
   ],
   "source": [
    "plt.figure()\n",
    "ageMIMIC = mimic[['patient_id', 'admission_id', 'age']].drop_duplicates().age.value_counts()\n",
    "ageDistribution = pd.DataFrame(columns=['age', 'count'])\n",
    "ageDistribution['age'] = ageMIMIC.index\n",
    "ageDistribution['count'] = ageMIMIC.values\n",
    "ageDistribution.plot(x='age', y='count', kind='scatter', figsize=(12,6))"
   ]
  },
  {
   "cell_type": "code",
   "execution_count": 136,
   "metadata": {},
   "outputs": [
    {
     "data": {
      "text/html": [
       "<h7 style=\"color:#909\">AIIMS ICU Age Distribution</h7>"
      ],
      "text/plain": [
       "<IPython.core.display.HTML object>"
      ]
     },
     "metadata": {},
     "output_type": "display_data"
    }
   ],
   "source": [
    "%%html\n",
    "<h7 style=\"color:#909\">AIIMS ICU Age Distribution</h7>"
   ]
  },
  {
   "cell_type": "code",
   "execution_count": 140,
   "metadata": {},
   "outputs": [
    {
     "name": "stderr",
     "output_type": "stream",
     "text": [
      "/anaconda2/envs/py36/lib/python3.6/site-packages/pandas/core/generic.py:4401: SettingWithCopyWarning: \n",
      "A value is trying to be set on a copy of a slice from a DataFrame.\n",
      "Try using .loc[row_indexer,col_indexer] = value instead\n",
      "\n",
      "See the caveats in the documentation: http://pandas.pydata.org/pandas-docs/stable/indexing.html#indexing-view-versus-copy\n",
      "  self[name] = value\n"
     ]
    },
    {
     "data": {
      "text/plain": [
       "<matplotlib.axes._subplots.AxesSubplot at 0x11606b0f0>"
      ]
     },
     "execution_count": 140,
     "metadata": {},
     "output_type": "execute_result"
    },
    {
     "data": {
      "text/plain": [
       "<Figure size 432x288 with 0 Axes>"
      ]
     },
     "metadata": {},
     "output_type": "display_data"
    },
    {
     "data": {
      "image/png": "[encoded data removed]",
      "text/plain": [
       "<Figure size 864x432 with 1 Axes>"
      ]
     },
     "metadata": {},
     "output_type": "display_data"
    }
   ],
   "source": [
    "plt.figure()\n",
    "aiimsICU.age = aiimsICU.age.apply(lambda x: round(x))\n",
    "ageICUAIIMS = aiimsICU[['slno', 'hosp_patient_id', 'hosp_admission_id', 'age']].drop_duplicates().age.value_counts()\n",
    "ageDistribution1 = pd.DataFrame(columns=['age', 'count'])\n",
    "ageDistribution1['age'] = ageICUAIIMS.index\n",
    "ageDistribution1['count'] = ageICUAIIMS.values\n",
    "ageDistribution1.plot(x='age', y='count', kind='scatter', figsize=(12,6))"
   ]
  },
  {
   "cell_type": "code",
   "execution_count": 142,
   "metadata": {},
   "outputs": [
    {
     "data": {
      "text/html": [
       "<h7 style=\"color:#909\">AIIMS Age Distribution</h7>"
      ],
      "text/plain": [
       "<IPython.core.display.HTML object>"
      ]
     },
     "metadata": {},
     "output_type": "display_data"
    }
   ],
   "source": [
    "%%html\n",
    "<h7 style=\"color:#909\">AIIMS Age Distribution</h7>"
   ]
  },
  {
   "cell_type": "code",
   "execution_count": 143,
   "metadata": {},
   "outputs": [
    {
     "data": {
      "text/plain": [
       "<matplotlib.axes._subplots.AxesSubplot at 0x1171817b8>"
      ]
     },
     "execution_count": 143,
     "metadata": {},
     "output_type": "execute_result"
    },
    {
     "data": {
      "text/plain": [
       "<Figure size 432x288 with 0 Axes>"
      ]
     },
     "metadata": {},
     "output_type": "display_data"
    },
    {
     "data": {
      "image/png": "[encoded data removed]",
      "text/plain": [
       "<Figure size 864x432 with 1 Axes>"
      ]
     },
     "metadata": {},
     "output_type": "display_data"
    }
   ],
   "source": [
    "plt.figure()\n",
    "aiims.age = aiims.age.apply(lambda x: round(x))\n",
    "ageAIIMS = aiims[['slno', 'hosp_patient_id', 'hosp_admission_id', 'age']].drop_duplicates().age.value_counts()\n",
    "ageDistribution2 = pd.DataFrame(columns=['age', 'count'])\n",
    "ageDistribution2['age'] = ageAIIMS.index\n",
    "ageDistribution2['count'] = ageAIIMS.values\n",
    "ageDistribution2.plot(x='age', y='count', kind='scatter', figsize=(12,6))"
   ]
  },
  {
   "cell_type": "code",
   "execution_count": 144,
   "metadata": {},
   "outputs": [
    {
     "data": {
      "text/html": [
       "<h5 style=\"color:#109\">Overall Gender Distribution</h5>"
      ],
      "text/plain": [
       "<IPython.core.display.HTML object>"
      ]
     },
     "metadata": {},
     "output_type": "display_data"
    }
   ],
   "source": [
    "%%html\n",
    "<h5 style=\"color:#109\">Overall Gender Distribution</h5>"
   ]
  },
  {
   "cell_type": "code",
   "execution_count": 145,
   "metadata": {},
   "outputs": [
    {
     "data": {
      "text/html": [
       "<h7 style=\"color:#909\">Mimic Gender Distribution</h7>"
      ],
      "text/plain": [
       "<IPython.core.display.HTML object>"
      ]
     },
     "metadata": {},
     "output_type": "display_data"
    }
   ],
   "source": [
    "%%html\n",
    "<h7 style=\"color:#909\">Mimic Gender Distribution</h7>"
   ]
  },
  {
   "cell_type": "code",
   "execution_count": 159,
   "metadata": {},
   "outputs": [
    {
     "data": {
      "text/plain": [
       "<Figure size 432x288 with 0 Axes>"
      ]
     },
     "metadata": {},
     "output_type": "display_data"
    },
    {
     "data": {
      "image/png": "[encoded data removed]",
      "text/plain": [
       "<Figure size 720x108 with 1 Axes>"
      ]
     },
     "metadata": {},
     "output_type": "display_data"
    }
   ],
   "source": [
    "plt.figure()\n",
    "genderMIMIC = mimic[['patient_id', 'sex']].drop_duplicates().sex.value_counts()\n",
    "genderDistribution = pd.DataFrame(columns=['sex', 'count'])\n",
    "genderDistribution['sex'] = genderMIMIC.index\n",
    "genderDistribution['patientCount'] = genderMIMIC.values\n",
    "x = genderDistribution.sex\n",
    "y = genderDistribution.patientCount\n",
    "colors = cm.rainbow(np.linspace(0, 1, len(y)))\n",
    "fig, ax = plt.subplots()\n",
    "fig.set_size_inches(10, 1.5)\n",
    "width = 0.75 # the width of the bars \n",
    "ind = np.arange(len(y))  # the x locations for the groups\n",
    "ax.barh(ind, y, width, color=colors)\n",
    "ax.set_yticks(ind)\n",
    "ax.set_yticklabels(x, minor=False)\n",
    "for i, v in enumerate(y):\n",
    "    ax.text(v+.1, i-.1, str(v), color=colors[i], fontweight='bold')\n",
    "plt.title('MIMIC Gender Distribution')\n",
    "plt.xlabel('Count')\n",
    "plt.ylabel('Gender')      \n",
    "plt.show()"
   ]
  },
  {
   "cell_type": "code",
   "execution_count": 160,
   "metadata": {},
   "outputs": [
    {
     "data": {
      "text/html": [
       "<h7 style=\"color:#909\">AIIMS ICU Gender Distribution</h7>"
      ],
      "text/plain": [
       "<IPython.core.display.HTML object>"
      ]
     },
     "metadata": {},
     "output_type": "display_data"
    }
   ],
   "source": [
    "%%html\n",
    "<h7 style=\"color:#909\">AIIMS ICU Gender Distribution</h7>"
   ]
  },
  {
   "cell_type": "code",
   "execution_count": 163,
   "metadata": {},
   "outputs": [
    {
     "data": {
      "text/plain": [
       "<Figure size 432x288 with 0 Axes>"
      ]
     },
     "metadata": {},
     "output_type": "display_data"
    },
    {
     "data": {
      "image/png": "[encoded data removed]",
      "text/plain": [
       "<Figure size 720x108 with 1 Axes>"
      ]
     },
     "metadata": {},
     "output_type": "display_data"
    }
   ],
   "source": [
    "plt.figure()\n",
    "genderICUAIIMS = aiimsICU[['hosp_patient_id', 'sex']].drop_duplicates().sex.value_counts()\n",
    "genderDistribution = pd.DataFrame(columns=['sex', 'count'])\n",
    "genderDistribution['sex'] = genderICUAIIMS.index\n",
    "genderDistribution['patientCount'] = genderICUAIIMS.values\n",
    "x = genderDistribution.sex\n",
    "y = genderDistribution.patientCount\n",
    "colors = cm.rainbow(np.linspace(0, 1, len(y)))\n",
    "fig, ax = plt.subplots()\n",
    "fig.set_size_inches(10, 1.5)\n",
    "width = 0.75 # the width of the bars \n",
    "ind = np.arange(len(y))  # the x locations for the groups\n",
    "ax.barh(ind, y, width, color=colors)\n",
    "ax.set_yticks(ind)\n",
    "ax.set_yticklabels(x, minor=False)\n",
    "for i, v in enumerate(y):\n",
    "    ax.text(v+.1, i-.1, str(v), color=colors[i], fontweight='bold')\n",
    "plt.title('AIIMS ICU Gender Distribution')\n",
    "plt.xlabel('Count')\n",
    "plt.ylabel('Gender')      \n",
    "plt.show()"
   ]
  },
  {
   "cell_type": "code",
   "execution_count": 161,
   "metadata": {},
   "outputs": [
    {
     "data": {
      "text/html": [
       "<h7 style=\"color:#909\">AIIMS Gender Distribution</h7>"
      ],
      "text/plain": [
       "<IPython.core.display.HTML object>"
      ]
     },
     "metadata": {},
     "output_type": "display_data"
    }
   ],
   "source": [
    "%%html\n",
    "<h7 style=\"color:#909\">AIIMS Gender Distribution</h7>"
   ]
  },
  {
   "cell_type": "code",
   "execution_count": 162,
   "metadata": {},
   "outputs": [
    {
     "data": {
      "text/plain": [
       "<Figure size 432x288 with 0 Axes>"
      ]
     },
     "metadata": {},
     "output_type": "display_data"
    },
    {
     "data": {
      "image/png": "[encoded data removed]",
      "text/plain": [
       "<Figure size 720x108 with 1 Axes>"
      ]
     },
     "metadata": {},
     "output_type": "display_data"
    }
   ],
   "source": [
    "plt.figure()\n",
    "genderAIIMS = aiims[['hosp_patient_id', 'sex']].drop_duplicates().sex.value_counts()\n",
    "genderDistribution = pd.DataFrame(columns=['sex', 'count'])\n",
    "genderDistribution['sex'] = genderAIIMS.index\n",
    "genderDistribution['patientCount'] = genderAIIMS.values\n",
    "x = genderDistribution.sex\n",
    "y = genderDistribution.patientCount\n",
    "colors = cm.rainbow(np.linspace(0, 1, len(y)))\n",
    "fig, ax = plt.subplots()\n",
    "fig.set_size_inches(10, 1.5)\n",
    "width = 0.75 # the width of the bars \n",
    "ind = np.arange(len(y))  # the x locations for the groups\n",
    "ax.barh(ind, y, width, color=colors)\n",
    "ax.set_yticks(ind)\n",
    "ax.set_yticklabels(x, minor=False)\n",
    "for i, v in enumerate(y):\n",
    "    ax.text(v+.1, i-.1, str(v), color=colors[i], fontweight='bold')\n",
    "plt.title('AIIMS Gender Distribution')\n",
    "plt.xlabel('Count')\n",
    "plt.ylabel('Gender')      \n",
    "plt.show()"
   ]
  },
  {
   "cell_type": "code",
   "execution_count": 164,
   "metadata": {},
   "outputs": [
    {
     "data": {
      "text/html": [
       "<h5 style=\"color:#109\">Urine Sample Bacterial Distribution</h5>"
      ],
      "text/plain": [
       "<IPython.core.display.HTML object>"
      ]
     },
     "metadata": {},
     "output_type": "display_data"
    }
   ],
   "source": [
    "%%html\n",
    "<h5 style=\"color:#109\">Urine Sample Bacterial Distribution</h5>"
   ]
  },
  {
   "cell_type": "code",
   "execution_count": 165,
   "metadata": {},
   "outputs": [
    {
     "data": {
      "text/html": [
       "<h7 style=\"color:#909\">Mimic Urine Sample Bacterial Distribution</h7>"
      ],
      "text/plain": [
       "<IPython.core.display.HTML object>"
      ]
     },
     "metadata": {},
     "output_type": "display_data"
    }
   ],
   "source": [
    "%%html\n",
    "<h7 style=\"color:#909\">Mimic Urine Sample Bacterial Distribution</h7>"
   ]
  },
  {
   "cell_type": "code",
   "execution_count": 173,
   "metadata": {},
   "outputs": [
    {
     "data": {
      "text/html": [
       "<div>\n",
       "<style scoped>\n",
       "    .dataframe tbody tr th:only-of-type {\n",
       "        vertical-align: middle;\n",
       "    }\n",
       "\n",
       "    .dataframe tbody tr th {\n",
       "        vertical-align: top;\n",
       "    }\n",
       "\n",
       "    .dataframe thead th {\n",
       "        text-align: right;\n",
       "    }\n",
       "</style>\n",
       "<table border=\"1\" class=\"dataframe\">\n",
       "  <thead>\n",
       "    <tr style=\"text-align: right;\">\n",
       "      <th></th>\n",
       "      <th>bacteria_name</th>\n",
       "      <th>isolates</th>\n",
       "      <th>percentage</th>\n",
       "    </tr>\n",
       "  </thead>\n",
       "  <tbody>\n",
       "    <tr>\n",
       "      <th>4</th>\n",
       "      <td>Escherichia coli</td>\n",
       "      <td>2263</td>\n",
       "      <td>31.452397</td>\n",
       "    </tr>\n",
       "    <tr>\n",
       "      <th>2</th>\n",
       "      <td>Enterococcus</td>\n",
       "      <td>1705</td>\n",
       "      <td>23.697012</td>\n",
       "    </tr>\n",
       "    <tr>\n",
       "      <th>3</th>\n",
       "      <td>Klebsiella pneumoniae</td>\n",
       "      <td>866</td>\n",
       "      <td>12.036136</td>\n",
       "    </tr>\n",
       "    <tr>\n",
       "      <th>1</th>\n",
       "      <td>Pseudomonas aeruginosa</td>\n",
       "      <td>612</td>\n",
       "      <td>8.505907</td>\n",
       "    </tr>\n",
       "    <tr>\n",
       "      <th>6</th>\n",
       "      <td>Proteus mirabilis</td>\n",
       "      <td>417</td>\n",
       "      <td>5.795691</td>\n",
       "    </tr>\n",
       "    <tr>\n",
       "      <th>5</th>\n",
       "      <td>Staphylococcus aureus</td>\n",
       "      <td>299</td>\n",
       "      <td>4.155664</td>\n",
       "    </tr>\n",
       "    <tr>\n",
       "      <th>0</th>\n",
       "      <td>Staphylococcus</td>\n",
       "      <td>275</td>\n",
       "      <td>3.822099</td>\n",
       "    </tr>\n",
       "    <tr>\n",
       "      <th>9</th>\n",
       "      <td>Enterobacter cloacae</td>\n",
       "      <td>179</td>\n",
       "      <td>2.487839</td>\n",
       "    </tr>\n",
       "    <tr>\n",
       "      <th>7</th>\n",
       "      <td>Klebsiella oxytoca</td>\n",
       "      <td>115</td>\n",
       "      <td>1.598332</td>\n",
       "    </tr>\n",
       "    <tr>\n",
       "      <th>8</th>\n",
       "      <td>Citrobacter freundii</td>\n",
       "      <td>84</td>\n",
       "      <td>1.167477</td>\n",
       "    </tr>\n",
       "    <tr>\n",
       "      <th>16</th>\n",
       "      <td>Enterobacter aerogenes</td>\n",
       "      <td>63</td>\n",
       "      <td>0.875608</td>\n",
       "    </tr>\n",
       "    <tr>\n",
       "      <th>19</th>\n",
       "      <td>Morganella morganii</td>\n",
       "      <td>55</td>\n",
       "      <td>0.764420</td>\n",
       "    </tr>\n",
       "    <tr>\n",
       "      <th>14</th>\n",
       "      <td>Serratia marcescens</td>\n",
       "      <td>52</td>\n",
       "      <td>0.722724</td>\n",
       "    </tr>\n",
       "    <tr>\n",
       "      <th>22</th>\n",
       "      <td>Citrobacter koseri</td>\n",
       "      <td>45</td>\n",
       "      <td>0.625434</td>\n",
       "    </tr>\n",
       "    <tr>\n",
       "      <th>21</th>\n",
       "      <td>Acinetobacter baumannii</td>\n",
       "      <td>22</td>\n",
       "      <td>0.305768</td>\n",
       "    </tr>\n",
       "    <tr>\n",
       "      <th>17</th>\n",
       "      <td>Providencia stuartii</td>\n",
       "      <td>22</td>\n",
       "      <td>0.305768</td>\n",
       "    </tr>\n",
       "    <tr>\n",
       "      <th>13</th>\n",
       "      <td>Stenotrophomonas maltophilia</td>\n",
       "      <td>19</td>\n",
       "      <td>0.264072</td>\n",
       "    </tr>\n",
       "    <tr>\n",
       "      <th>15</th>\n",
       "      <td>Proteus vulgaris</td>\n",
       "      <td>13</td>\n",
       "      <td>0.180681</td>\n",
       "    </tr>\n",
       "    <tr>\n",
       "      <th>12</th>\n",
       "      <td>Enterobacter</td>\n",
       "      <td>12</td>\n",
       "      <td>0.166782</td>\n",
       "    </tr>\n",
       "    <tr>\n",
       "      <th>10</th>\n",
       "      <td>Providencia rettgeri</td>\n",
       "      <td>12</td>\n",
       "      <td>0.166782</td>\n",
       "    </tr>\n",
       "    <tr>\n",
       "      <th>27</th>\n",
       "      <td>Hafnia alvei</td>\n",
       "      <td>10</td>\n",
       "      <td>0.138985</td>\n",
       "    </tr>\n",
       "    <tr>\n",
       "      <th>20</th>\n",
       "      <td>Enterobacteriaceae</td>\n",
       "      <td>9</td>\n",
       "      <td>0.125087</td>\n",
       "    </tr>\n",
       "    <tr>\n",
       "      <th>31</th>\n",
       "      <td>Enterococcus faecium</td>\n",
       "      <td>8</td>\n",
       "      <td>0.111188</td>\n",
       "    </tr>\n",
       "    <tr>\n",
       "      <th>26</th>\n",
       "      <td>Citrobacter amalonaticus</td>\n",
       "      <td>6</td>\n",
       "      <td>0.083391</td>\n",
       "    </tr>\n",
       "    <tr>\n",
       "      <th>11</th>\n",
       "      <td>Beta-hemolytic Streptococcus, group B</td>\n",
       "      <td>5</td>\n",
       "      <td>0.069493</td>\n",
       "    </tr>\n",
       "    <tr>\n",
       "      <th>23</th>\n",
       "      <td>Klebsiella</td>\n",
       "      <td>4</td>\n",
       "      <td>0.055594</td>\n",
       "    </tr>\n",
       "    <tr>\n",
       "      <th>36</th>\n",
       "      <td>Corynebacterium urealyticum</td>\n",
       "      <td>4</td>\n",
       "      <td>0.055594</td>\n",
       "    </tr>\n",
       "    <tr>\n",
       "      <th>32</th>\n",
       "      <td>Enterococcus faecalis</td>\n",
       "      <td>3</td>\n",
       "      <td>0.041696</td>\n",
       "    </tr>\n",
       "    <tr>\n",
       "      <th>18</th>\n",
       "      <td>Enterobacter asburiae</td>\n",
       "      <td>2</td>\n",
       "      <td>0.027797</td>\n",
       "    </tr>\n",
       "    <tr>\n",
       "      <th>28</th>\n",
       "      <td>Burkholderia cepacia complex</td>\n",
       "      <td>2</td>\n",
       "      <td>0.027797</td>\n",
       "    </tr>\n",
       "    <tr>\n",
       "      <th>40</th>\n",
       "      <td>Streptococus</td>\n",
       "      <td>2</td>\n",
       "      <td>0.027797</td>\n",
       "    </tr>\n",
       "    <tr>\n",
       "      <th>29</th>\n",
       "      <td>Alcaligenes</td>\n",
       "      <td>1</td>\n",
       "      <td>0.013899</td>\n",
       "    </tr>\n",
       "    <tr>\n",
       "      <th>30</th>\n",
       "      <td>PSEUDOMONAS PUTIDA</td>\n",
       "      <td>1</td>\n",
       "      <td>0.013899</td>\n",
       "    </tr>\n",
       "    <tr>\n",
       "      <th>25</th>\n",
       "      <td>Providencia</td>\n",
       "      <td>1</td>\n",
       "      <td>0.013899</td>\n",
       "    </tr>\n",
       "    <tr>\n",
       "      <th>33</th>\n",
       "      <td>Staphylococcus lugdunensis</td>\n",
       "      <td>1</td>\n",
       "      <td>0.013899</td>\n",
       "    </tr>\n",
       "    <tr>\n",
       "      <th>34</th>\n",
       "      <td>Escherichia fergusonii</td>\n",
       "      <td>1</td>\n",
       "      <td>0.013899</td>\n",
       "    </tr>\n",
       "    <tr>\n",
       "      <th>35</th>\n",
       "      <td>Burkholderia cepacia</td>\n",
       "      <td>1</td>\n",
       "      <td>0.013899</td>\n",
       "    </tr>\n",
       "    <tr>\n",
       "      <th>24</th>\n",
       "      <td>Citrobacter youngae</td>\n",
       "      <td>1</td>\n",
       "      <td>0.013899</td>\n",
       "    </tr>\n",
       "    <tr>\n",
       "      <th>37</th>\n",
       "      <td>Streptococcus bovis</td>\n",
       "      <td>1</td>\n",
       "      <td>0.013899</td>\n",
       "    </tr>\n",
       "    <tr>\n",
       "      <th>38</th>\n",
       "      <td>Citrobacter</td>\n",
       "      <td>1</td>\n",
       "      <td>0.013899</td>\n",
       "    </tr>\n",
       "    <tr>\n",
       "      <th>39</th>\n",
       "      <td>Corynebacterium</td>\n",
       "      <td>1</td>\n",
       "      <td>0.013899</td>\n",
       "    </tr>\n",
       "  </tbody>\n",
       "</table>\n",
       "</div>"
      ],
      "text/plain": [
       "                            bacteria_name  isolates  percentage\n",
       "4                        Escherichia coli      2263   31.452397\n",
       "2                            Enterococcus      1705   23.697012\n",
       "3                   Klebsiella pneumoniae       866   12.036136\n",
       "1                  Pseudomonas aeruginosa       612    8.505907\n",
       "6                       Proteus mirabilis       417    5.795691\n",
       "5                   Staphylococcus aureus       299    4.155664\n",
       "0                          Staphylococcus       275    3.822099\n",
       "9                    Enterobacter cloacae       179    2.487839\n",
       "7                      Klebsiella oxytoca       115    1.598332\n",
       "8                    Citrobacter freundii        84    1.167477\n",
       "16                 Enterobacter aerogenes        63    0.875608\n",
       "19                    Morganella morganii        55    0.764420\n",
       "14                    Serratia marcescens        52    0.722724\n",
       "22                     Citrobacter koseri        45    0.625434\n",
       "21                Acinetobacter baumannii        22    0.305768\n",
       "17                   Providencia stuartii        22    0.305768\n",
       "13           Stenotrophomonas maltophilia        19    0.264072\n",
       "15                       Proteus vulgaris        13    0.180681\n",
       "12                           Enterobacter        12    0.166782\n",
       "10                   Providencia rettgeri        12    0.166782\n",
       "27                           Hafnia alvei        10    0.138985\n",
       "20                     Enterobacteriaceae         9    0.125087\n",
       "31                   Enterococcus faecium         8    0.111188\n",
       "26               Citrobacter amalonaticus         6    0.083391\n",
       "11  Beta-hemolytic Streptococcus, group B         5    0.069493\n",
       "23                             Klebsiella         4    0.055594\n",
       "36            Corynebacterium urealyticum         4    0.055594\n",
       "32                  Enterococcus faecalis         3    0.041696\n",
       "18                  Enterobacter asburiae         2    0.027797\n",
       "28           Burkholderia cepacia complex         2    0.027797\n",
       "40                           Streptococus         2    0.027797\n",
       "29                            Alcaligenes         1    0.013899\n",
       "30                    PSEUDOMONAS PUTIDA          1    0.013899\n",
       "25                            Providencia         1    0.013899\n",
       "33             Staphylococcus lugdunensis         1    0.013899\n",
       "34                 Escherichia fergusonii         1    0.013899\n",
       "35                   Burkholderia cepacia         1    0.013899\n",
       "24                    Citrobacter youngae         1    0.013899\n",
       "37                    Streptococcus bovis         1    0.013899\n",
       "38                            Citrobacter         1    0.013899\n",
       "39                        Corynebacterium         1    0.013899"
      ]
     },
     "execution_count": 173,
     "metadata": {},
     "output_type": "execute_result"
    }
   ],
   "source": [
    "urine = mimic[mimic.sample_type=='Urine']\n",
    "bacteriaUrine = urine.bacteria_name.unique()\n",
    "mimicIsolateCounts = pd.DataFrame(columns=['bacteria_name', 'isolates', 'percentage'])\n",
    "def countUrine(bacteria):\n",
    "    filtered = urine[urine.bacteria_name==bacteria][['admission_id', 'patient_id', 'sc_date']].drop_duplicates().shape[0]\n",
    "    return filtered\n",
    "mimicIsolateCounts.bacteria_name = pd.Series(bacteriaUrine)\n",
    "mimicIsolateCounts.isolates = mimicIsolateCounts.bacteria_name.apply(lambda x: countUrine(x))\n",
    "mimicIsolateCounts.percentage = mimicIsolateCounts.isolates.apply(lambda x: 100*(x/sum(mimicIsolateCounts.isolates)))\n",
    "mimicIsolateCounts = mimicIsolateCounts.sort_values(by=['percentage'], ascending=False)\n",
    "mimicIsolateCounts\n"
   ]
  },
  {
   "cell_type": "code",
   "execution_count": 174,
   "metadata": {},
   "outputs": [
    {
     "data": {
      "image/png": "[encoded data removed]",
      "text/plain": [
       "<Figure size 936x612 with 1 Axes>"
      ]
     },
     "metadata": {},
     "output_type": "display_data"
    }
   ],
   "source": [
    "x = mimicIsolateCounts[0:10].bacteria_name\n",
    "y = mimicIsolateCounts[0:10].percentage\n",
    "colors = cm.rainbow(np.linspace(0, 1, len(y)))\n",
    "fig, ax = plt.subplots()\n",
    "fig.set_size_inches(13, 8.5)\n",
    "width = 0.75 # the width of the bars \n",
    "ind = np.arange(len(y))  # the x locations for the groups\n",
    "ax.barh(ind, y, width, color=colors)\n",
    "ax.set_yticks(ind)\n",
    "ax.set_yticklabels(x, minor=False)\n",
    "for i, v in enumerate(y):\n",
    "    ax.text(v+.1, i-.1, str(round(v,2)), color=colors[i], fontweight='bold')\n",
    "plt.title('MIMIC Urine Data Bacterial Distribution')\n",
    "plt.xlabel('Percentage')\n",
    "plt.ylabel('Bacteria')      \n",
    "plt.show()"
   ]
  },
  {
   "cell_type": "code",
   "execution_count": 172,
   "metadata": {},
   "outputs": [
    {
     "data": {
      "text/html": [
       "<h7 style=\"color:#909\">AIIMS Urine Sample Bacterial Distribution</h7>"
      ],
      "text/plain": [
       "<IPython.core.display.HTML object>"
      ]
     },
     "metadata": {},
     "output_type": "display_data"
    }
   ],
   "source": [
    "%%html\n",
    "<h7 style=\"color:#909\">AIIMS Urine Sample Bacterial Distribution</h7>"
   ]
  },
  {
   "cell_type": "code",
   "execution_count": 175,
   "metadata": {},
   "outputs": [
    {
     "data": {
      "text/html": [
       "<div>\n",
       "<style scoped>\n",
       "    .dataframe tbody tr th:only-of-type {\n",
       "        vertical-align: middle;\n",
       "    }\n",
       "\n",
       "    .dataframe tbody tr th {\n",
       "        vertical-align: top;\n",
       "    }\n",
       "\n",
       "    .dataframe thead th {\n",
       "        text-align: right;\n",
       "    }\n",
       "</style>\n",
       "<table border=\"1\" class=\"dataframe\">\n",
       "  <thead>\n",
       "    <tr style=\"text-align: right;\">\n",
       "      <th></th>\n",
       "      <th>bacteria_name</th>\n",
       "      <th>isolates</th>\n",
       "      <th>percentage</th>\n",
       "    </tr>\n",
       "  </thead>\n",
       "  <tbody>\n",
       "    <tr>\n",
       "      <th>3</th>\n",
       "      <td>Escherichia coli</td>\n",
       "      <td>5255</td>\n",
       "      <td>51.258291</td>\n",
       "    </tr>\n",
       "    <tr>\n",
       "      <th>4</th>\n",
       "      <td>Klebsiella pneumoniae</td>\n",
       "      <td>1714</td>\n",
       "      <td>16.718689</td>\n",
       "    </tr>\n",
       "    <tr>\n",
       "      <th>2</th>\n",
       "      <td>Pseudomonas aeruginosa</td>\n",
       "      <td>633</td>\n",
       "      <td>6.174405</td>\n",
       "    </tr>\n",
       "    <tr>\n",
       "      <th>0</th>\n",
       "      <td>Pseudomonas</td>\n",
       "      <td>536</td>\n",
       "      <td>5.228248</td>\n",
       "    </tr>\n",
       "    <tr>\n",
       "      <th>6</th>\n",
       "      <td>Enterobacter</td>\n",
       "      <td>336</td>\n",
       "      <td>3.277409</td>\n",
       "    </tr>\n",
       "    <tr>\n",
       "      <th>16</th>\n",
       "      <td>Enterococcus</td>\n",
       "      <td>283</td>\n",
       "      <td>2.760437</td>\n",
       "    </tr>\n",
       "    <tr>\n",
       "      <th>8</th>\n",
       "      <td>Klebsiella oxytoca</td>\n",
       "      <td>270</td>\n",
       "      <td>2.633632</td>\n",
       "    </tr>\n",
       "    <tr>\n",
       "      <th>9</th>\n",
       "      <td>Enterococcus faecium</td>\n",
       "      <td>230</td>\n",
       "      <td>2.243465</td>\n",
       "    </tr>\n",
       "    <tr>\n",
       "      <th>7</th>\n",
       "      <td>Staphylococcus aureus</td>\n",
       "      <td>182</td>\n",
       "      <td>1.775263</td>\n",
       "    </tr>\n",
       "    <tr>\n",
       "      <th>1</th>\n",
       "      <td>Acinetobacter</td>\n",
       "      <td>176</td>\n",
       "      <td>1.716738</td>\n",
       "    </tr>\n",
       "    <tr>\n",
       "      <th>13</th>\n",
       "      <td>Proteus mirabilis</td>\n",
       "      <td>151</td>\n",
       "      <td>1.472883</td>\n",
       "    </tr>\n",
       "    <tr>\n",
       "      <th>10</th>\n",
       "      <td>Citrobacter</td>\n",
       "      <td>96</td>\n",
       "      <td>0.936403</td>\n",
       "    </tr>\n",
       "    <tr>\n",
       "      <th>12</th>\n",
       "      <td>Proteus vulgaris</td>\n",
       "      <td>77</td>\n",
       "      <td>0.751073</td>\n",
       "    </tr>\n",
       "    <tr>\n",
       "      <th>14</th>\n",
       "      <td>Citrobacter freundii</td>\n",
       "      <td>64</td>\n",
       "      <td>0.624268</td>\n",
       "    </tr>\n",
       "    <tr>\n",
       "      <th>19</th>\n",
       "      <td>Enterococcus faecalis</td>\n",
       "      <td>51</td>\n",
       "      <td>0.497464</td>\n",
       "    </tr>\n",
       "    <tr>\n",
       "      <th>23</th>\n",
       "      <td>Staphylococcus, coagulase negative</td>\n",
       "      <td>42</td>\n",
       "      <td>0.409676</td>\n",
       "    </tr>\n",
       "    <tr>\n",
       "      <th>11</th>\n",
       "      <td>Citrobacter koseri</td>\n",
       "      <td>39</td>\n",
       "      <td>0.380414</td>\n",
       "    </tr>\n",
       "    <tr>\n",
       "      <th>5</th>\n",
       "      <td>Klebsiella</td>\n",
       "      <td>36</td>\n",
       "      <td>0.351151</td>\n",
       "    </tr>\n",
       "    <tr>\n",
       "      <th>24</th>\n",
       "      <td>Proteus</td>\n",
       "      <td>15</td>\n",
       "      <td>0.146313</td>\n",
       "    </tr>\n",
       "    <tr>\n",
       "      <th>17</th>\n",
       "      <td>Acinetobacter baumannii</td>\n",
       "      <td>12</td>\n",
       "      <td>0.117050</td>\n",
       "    </tr>\n",
       "    <tr>\n",
       "      <th>15</th>\n",
       "      <td>Morganella morganii</td>\n",
       "      <td>6</td>\n",
       "      <td>0.058525</td>\n",
       "    </tr>\n",
       "    <tr>\n",
       "      <th>34</th>\n",
       "      <td>Staphylococcus</td>\n",
       "      <td>5</td>\n",
       "      <td>0.048771</td>\n",
       "    </tr>\n",
       "    <tr>\n",
       "      <th>22</th>\n",
       "      <td>Providencia</td>\n",
       "      <td>5</td>\n",
       "      <td>0.048771</td>\n",
       "    </tr>\n",
       "    <tr>\n",
       "      <th>25</th>\n",
       "      <td>Streptococcus</td>\n",
       "      <td>5</td>\n",
       "      <td>0.048771</td>\n",
       "    </tr>\n",
       "    <tr>\n",
       "      <th>30</th>\n",
       "      <td>Providencia rettgeri</td>\n",
       "      <td>4</td>\n",
       "      <td>0.039017</td>\n",
       "    </tr>\n",
       "    <tr>\n",
       "      <th>33</th>\n",
       "      <td>Serratia marcescens</td>\n",
       "      <td>4</td>\n",
       "      <td>0.039017</td>\n",
       "    </tr>\n",
       "    <tr>\n",
       "      <th>31</th>\n",
       "      <td>Enterobacter cloacae</td>\n",
       "      <td>4</td>\n",
       "      <td>0.039017</td>\n",
       "    </tr>\n",
       "    <tr>\n",
       "      <th>21</th>\n",
       "      <td>Gram-negative bacillus</td>\n",
       "      <td>4</td>\n",
       "      <td>0.039017</td>\n",
       "    </tr>\n",
       "    <tr>\n",
       "      <th>18</th>\n",
       "      <td>Pseudomonas putida</td>\n",
       "      <td>3</td>\n",
       "      <td>0.029263</td>\n",
       "    </tr>\n",
       "    <tr>\n",
       "      <th>27</th>\n",
       "      <td>Escherichia coli, inactive</td>\n",
       "      <td>2</td>\n",
       "      <td>0.019508</td>\n",
       "    </tr>\n",
       "    <tr>\n",
       "      <th>28</th>\n",
       "      <td>Pseudomonas aureofaciens</td>\n",
       "      <td>1</td>\n",
       "      <td>0.009754</td>\n",
       "    </tr>\n",
       "    <tr>\n",
       "      <th>29</th>\n",
       "      <td>Stenotrophomonas maltophilia</td>\n",
       "      <td>1</td>\n",
       "      <td>0.009754</td>\n",
       "    </tr>\n",
       "    <tr>\n",
       "      <th>26</th>\n",
       "      <td>Serratia</td>\n",
       "      <td>1</td>\n",
       "      <td>0.009754</td>\n",
       "    </tr>\n",
       "    <tr>\n",
       "      <th>32</th>\n",
       "      <td>Staphylococcus schleiferi ss. schleiferi (orga...</td>\n",
       "      <td>1</td>\n",
       "      <td>0.009754</td>\n",
       "    </tr>\n",
       "    <tr>\n",
       "      <th>20</th>\n",
       "      <td>Staphylococcus saprophyticus</td>\n",
       "      <td>1</td>\n",
       "      <td>0.009754</td>\n",
       "    </tr>\n",
       "    <tr>\n",
       "      <th>35</th>\n",
       "      <td>Alcaligenes faecalis</td>\n",
       "      <td>1</td>\n",
       "      <td>0.009754</td>\n",
       "    </tr>\n",
       "    <tr>\n",
       "      <th>36</th>\n",
       "      <td>Enterobacter cowanii</td>\n",
       "      <td>1</td>\n",
       "      <td>0.009754</td>\n",
       "    </tr>\n",
       "    <tr>\n",
       "      <th>37</th>\n",
       "      <td>Aerobacter</td>\n",
       "      <td>1</td>\n",
       "      <td>0.009754</td>\n",
       "    </tr>\n",
       "    <tr>\n",
       "      <th>38</th>\n",
       "      <td>Alcaligenes fecalis (organism)</td>\n",
       "      <td>1</td>\n",
       "      <td>0.009754</td>\n",
       "    </tr>\n",
       "    <tr>\n",
       "      <th>39</th>\n",
       "      <td>Edwardsiella</td>\n",
       "      <td>1</td>\n",
       "      <td>0.009754</td>\n",
       "    </tr>\n",
       "    <tr>\n",
       "      <th>40</th>\n",
       "      <td>Staphylococcus schleiferi</td>\n",
       "      <td>1</td>\n",
       "      <td>0.009754</td>\n",
       "    </tr>\n",
       "    <tr>\n",
       "      <th>41</th>\n",
       "      <td>Staphylococcus epidermidis</td>\n",
       "      <td>1</td>\n",
       "      <td>0.009754</td>\n",
       "    </tr>\n",
       "  </tbody>\n",
       "</table>\n",
       "</div>"
      ],
      "text/plain": [
       "                                        bacteria_name  isolates  percentage\n",
       "3                                    Escherichia coli      5255   51.258291\n",
       "4                               Klebsiella pneumoniae      1714   16.718689\n",
       "2                              Pseudomonas aeruginosa       633    6.174405\n",
       "0                                         Pseudomonas       536    5.228248\n",
       "6                                        Enterobacter       336    3.277409\n",
       "16                                       Enterococcus       283    2.760437\n",
       "8                                  Klebsiella oxytoca       270    2.633632\n",
       "9                                Enterococcus faecium       230    2.243465\n",
       "7                               Staphylococcus aureus       182    1.775263\n",
       "1                                       Acinetobacter       176    1.716738\n",
       "13                                  Proteus mirabilis       151    1.472883\n",
       "10                                        Citrobacter        96    0.936403\n",
       "12                                   Proteus vulgaris        77    0.751073\n",
       "14                               Citrobacter freundii        64    0.624268\n",
       "19                              Enterococcus faecalis        51    0.497464\n",
       "23                 Staphylococcus, coagulase negative        42    0.409676\n",
       "11                                 Citrobacter koseri        39    0.380414\n",
       "5                                          Klebsiella        36    0.351151\n",
       "24                                            Proteus        15    0.146313\n",
       "17                            Acinetobacter baumannii        12    0.117050\n",
       "15                                Morganella morganii         6    0.058525\n",
       "34                                     Staphylococcus         5    0.048771\n",
       "22                                        Providencia         5    0.048771\n",
       "25                                      Streptococcus         5    0.048771\n",
       "30                               Providencia rettgeri         4    0.039017\n",
       "33                                Serratia marcescens         4    0.039017\n",
       "31                               Enterobacter cloacae         4    0.039017\n",
       "21                             Gram-negative bacillus         4    0.039017\n",
       "18                                 Pseudomonas putida         3    0.029263\n",
       "27                         Escherichia coli, inactive         2    0.019508\n",
       "28                           Pseudomonas aureofaciens         1    0.009754\n",
       "29                       Stenotrophomonas maltophilia         1    0.009754\n",
       "26                                           Serratia         1    0.009754\n",
       "32  Staphylococcus schleiferi ss. schleiferi (orga...         1    0.009754\n",
       "20                       Staphylococcus saprophyticus         1    0.009754\n",
       "35                               Alcaligenes faecalis         1    0.009754\n",
       "36                               Enterobacter cowanii         1    0.009754\n",
       "37                                         Aerobacter         1    0.009754\n",
       "38                     Alcaligenes fecalis (organism)         1    0.009754\n",
       "39                                       Edwardsiella         1    0.009754\n",
       "40                          Staphylococcus schleiferi         1    0.009754\n",
       "41                         Staphylococcus epidermidis         1    0.009754"
      ]
     },
     "execution_count": 175,
     "metadata": {},
     "output_type": "execute_result"
    }
   ],
   "source": [
    "urine = aiims[aiims.sample_type=='Urine']\n",
    "bacteriaUrine = urine.bacteria_name.unique()\n",
    "aiimsIsolateCounts = pd.DataFrame(columns=['bacteria_name', 'isolates', 'percentage'])\n",
    "def countUrine1(bacteria):\n",
    "    filtered = urine[urine.bacteria_name==bacteria][['slno', 'hosp_admission_id', 'hosp_patient_id', 'sc_date']].drop_duplicates().shape[0]\n",
    "    return filtered\n",
    "aiimsIsolateCounts.bacteria_name = pd.Series(bacteriaUrine)\n",
    "aiimsIsolateCounts.isolates = aiimsIsolateCounts.bacteria_name.apply(lambda x: countUrine1(x))\n",
    "aiimsIsolateCounts.percentage = aiimsIsolateCounts.isolates.apply(lambda x: 100*(x/sum(aiimsIsolateCounts.isolates)))\n",
    "aiimsIsolateCounts = aiimsIsolateCounts.sort_values(by=['percentage'], ascending=False)\n",
    "aiimsIsolateCounts"
   ]
  },
  {
   "cell_type": "code",
   "execution_count": 176,
   "metadata": {},
   "outputs": [
    {
     "data": {
      "image/png": "[encoded data removed]",
      "text/plain": [
       "<Figure size 936x612 with 1 Axes>"
      ]
     },
     "metadata": {},
     "output_type": "display_data"
    }
   ],
   "source": [
    "x = aiimsIsolateCounts[0:10].bacteria_name\n",
    "y = aiimsIsolateCounts[0:10].percentage\n",
    "colors = cm.rainbow(np.linspace(0, 1, len(y)))\n",
    "fig, ax = plt.subplots()\n",
    "fig.set_size_inches(13, 8.5)\n",
    "width = 0.75 # the width of the bars \n",
    "ind = np.arange(len(y))  # the x locations for the groups\n",
    "ax.barh(ind, y, width, color=colors)\n",
    "ax.set_yticks(ind)\n",
    "ax.set_yticklabels(x, minor=False)\n",
    "for i, v in enumerate(y):\n",
    "    ax.text(v+.1, i-.1, str(round(v,2)), color=colors[i], fontweight='bold')\n",
    "plt.title('AIIMS Urine Data Bacterial Distribution')\n",
    "plt.xlabel('Percentage')\n",
    "plt.ylabel('Bacteria')      \n",
    "plt.show()"
   ]
  },
  {
   "cell_type": "code",
   "execution_count": 177,
   "metadata": {},
   "outputs": [
    {
     "data": {
      "text/html": [
       "<div>\n",
       "<style scoped>\n",
       "    .dataframe tbody tr th:only-of-type {\n",
       "        vertical-align: middle;\n",
       "    }\n",
       "\n",
       "    .dataframe tbody tr th {\n",
       "        vertical-align: top;\n",
       "    }\n",
       "\n",
       "    .dataframe thead th {\n",
       "        text-align: right;\n",
       "    }\n",
       "</style>\n",
       "<table border=\"1\" class=\"dataframe\">\n",
       "  <thead>\n",
       "    <tr style=\"text-align: right;\">\n",
       "      <th></th>\n",
       "      <th>bacteria_name</th>\n",
       "      <th>isolates</th>\n",
       "      <th>percentage</th>\n",
       "    </tr>\n",
       "  </thead>\n",
       "  <tbody>\n",
       "    <tr>\n",
       "      <th>3</th>\n",
       "      <td>Escherichia coli</td>\n",
       "      <td>199</td>\n",
       "      <td>26.184211</td>\n",
       "    </tr>\n",
       "    <tr>\n",
       "      <th>4</th>\n",
       "      <td>Klebsiella pneumoniae</td>\n",
       "      <td>185</td>\n",
       "      <td>24.342105</td>\n",
       "    </tr>\n",
       "    <tr>\n",
       "      <th>10</th>\n",
       "      <td>Enterobacter</td>\n",
       "      <td>73</td>\n",
       "      <td>9.605263</td>\n",
       "    </tr>\n",
       "    <tr>\n",
       "      <th>0</th>\n",
       "      <td>Enterococcus faecium</td>\n",
       "      <td>72</td>\n",
       "      <td>9.473684</td>\n",
       "    </tr>\n",
       "    <tr>\n",
       "      <th>1</th>\n",
       "      <td>Pseudomonas aeruginosa</td>\n",
       "      <td>66</td>\n",
       "      <td>8.684211</td>\n",
       "    </tr>\n",
       "    <tr>\n",
       "      <th>5</th>\n",
       "      <td>Pseudomonas</td>\n",
       "      <td>64</td>\n",
       "      <td>8.421053</td>\n",
       "    </tr>\n",
       "    <tr>\n",
       "      <th>2</th>\n",
       "      <td>Acinetobacter</td>\n",
       "      <td>28</td>\n",
       "      <td>3.684211</td>\n",
       "    </tr>\n",
       "    <tr>\n",
       "      <th>9</th>\n",
       "      <td>Enterococcus</td>\n",
       "      <td>15</td>\n",
       "      <td>1.973684</td>\n",
       "    </tr>\n",
       "    <tr>\n",
       "      <th>11</th>\n",
       "      <td>Enterococcus faecalis</td>\n",
       "      <td>11</td>\n",
       "      <td>1.447368</td>\n",
       "    </tr>\n",
       "    <tr>\n",
       "      <th>8</th>\n",
       "      <td>Proteus mirabilis</td>\n",
       "      <td>9</td>\n",
       "      <td>1.184211</td>\n",
       "    </tr>\n",
       "    <tr>\n",
       "      <th>12</th>\n",
       "      <td>Citrobacter</td>\n",
       "      <td>8</td>\n",
       "      <td>1.052632</td>\n",
       "    </tr>\n",
       "    <tr>\n",
       "      <th>15</th>\n",
       "      <td>Klebsiella oxytoca</td>\n",
       "      <td>7</td>\n",
       "      <td>0.921053</td>\n",
       "    </tr>\n",
       "    <tr>\n",
       "      <th>6</th>\n",
       "      <td>Acinetobacter baumannii</td>\n",
       "      <td>6</td>\n",
       "      <td>0.789474</td>\n",
       "    </tr>\n",
       "    <tr>\n",
       "      <th>14</th>\n",
       "      <td>Klebsiella</td>\n",
       "      <td>4</td>\n",
       "      <td>0.526316</td>\n",
       "    </tr>\n",
       "    <tr>\n",
       "      <th>21</th>\n",
       "      <td>Staphylococcus aureus</td>\n",
       "      <td>3</td>\n",
       "      <td>0.394737</td>\n",
       "    </tr>\n",
       "    <tr>\n",
       "      <th>7</th>\n",
       "      <td>Pseudomonas putida</td>\n",
       "      <td>1</td>\n",
       "      <td>0.131579</td>\n",
       "    </tr>\n",
       "    <tr>\n",
       "      <th>13</th>\n",
       "      <td>Citrobacter freundii</td>\n",
       "      <td>1</td>\n",
       "      <td>0.131579</td>\n",
       "    </tr>\n",
       "    <tr>\n",
       "      <th>16</th>\n",
       "      <td>Providencia rettgeri</td>\n",
       "      <td>1</td>\n",
       "      <td>0.131579</td>\n",
       "    </tr>\n",
       "    <tr>\n",
       "      <th>17</th>\n",
       "      <td>Enterobacter cloacae</td>\n",
       "      <td>1</td>\n",
       "      <td>0.131579</td>\n",
       "    </tr>\n",
       "    <tr>\n",
       "      <th>18</th>\n",
       "      <td>Citrobacter koseri</td>\n",
       "      <td>1</td>\n",
       "      <td>0.131579</td>\n",
       "    </tr>\n",
       "    <tr>\n",
       "      <th>19</th>\n",
       "      <td>Enterobacter cowanii</td>\n",
       "      <td>1</td>\n",
       "      <td>0.131579</td>\n",
       "    </tr>\n",
       "    <tr>\n",
       "      <th>20</th>\n",
       "      <td>Serratia marcescens</td>\n",
       "      <td>1</td>\n",
       "      <td>0.131579</td>\n",
       "    </tr>\n",
       "    <tr>\n",
       "      <th>22</th>\n",
       "      <td>Staphylococcus, coagulase negative</td>\n",
       "      <td>1</td>\n",
       "      <td>0.131579</td>\n",
       "    </tr>\n",
       "    <tr>\n",
       "      <th>23</th>\n",
       "      <td>Gram-negative bacillus</td>\n",
       "      <td>1</td>\n",
       "      <td>0.131579</td>\n",
       "    </tr>\n",
       "    <tr>\n",
       "      <th>24</th>\n",
       "      <td>Proteus vulgaris</td>\n",
       "      <td>1</td>\n",
       "      <td>0.131579</td>\n",
       "    </tr>\n",
       "  </tbody>\n",
       "</table>\n",
       "</div>"
      ],
      "text/plain": [
       "                         bacteria_name  isolates  percentage\n",
       "3                     Escherichia coli       199   26.184211\n",
       "4                Klebsiella pneumoniae       185   24.342105\n",
       "10                        Enterobacter        73    9.605263\n",
       "0                 Enterococcus faecium        72    9.473684\n",
       "1               Pseudomonas aeruginosa        66    8.684211\n",
       "5                          Pseudomonas        64    8.421053\n",
       "2                        Acinetobacter        28    3.684211\n",
       "9                         Enterococcus        15    1.973684\n",
       "11               Enterococcus faecalis        11    1.447368\n",
       "8                    Proteus mirabilis         9    1.184211\n",
       "12                         Citrobacter         8    1.052632\n",
       "15                  Klebsiella oxytoca         7    0.921053\n",
       "6              Acinetobacter baumannii         6    0.789474\n",
       "14                          Klebsiella         4    0.526316\n",
       "21               Staphylococcus aureus         3    0.394737\n",
       "7                   Pseudomonas putida         1    0.131579\n",
       "13                Citrobacter freundii         1    0.131579\n",
       "16                Providencia rettgeri         1    0.131579\n",
       "17                Enterobacter cloacae         1    0.131579\n",
       "18                  Citrobacter koseri         1    0.131579\n",
       "19                Enterobacter cowanii         1    0.131579\n",
       "20                 Serratia marcescens         1    0.131579\n",
       "22  Staphylococcus, coagulase negative         1    0.131579\n",
       "23              Gram-negative bacillus         1    0.131579\n",
       "24                    Proteus vulgaris         1    0.131579"
      ]
     },
     "execution_count": 177,
     "metadata": {},
     "output_type": "execute_result"
    }
   ],
   "source": [
    "urine = aiimsICU[aiimsICU.sample_type=='Urine']\n",
    "bacteriaUrine = urine.bacteria_name.unique()\n",
    "aiimsICUIsolateCounts = pd.DataFrame(columns=['bacteria_name', 'isolates', 'percentage'])\n",
    "def countUrine2(bacteria):\n",
    "    filtered = urine[urine.bacteria_name==bacteria][['slno', 'hosp_admission_id', 'hosp_patient_id', 'sc_date']].drop_duplicates().shape[0]\n",
    "    return filtered\n",
    "aiimsICUIsolateCounts.bacteria_name = pd.Series(bacteriaUrine)\n",
    "aiimsICUIsolateCounts.isolates = aiimsICUIsolateCounts.bacteria_name.apply(lambda x: countUrine2(x))\n",
    "aiimsICUIsolateCounts.percentage = aiimsICUIsolateCounts.isolates.apply(lambda x: 100*(x/sum(aiimsICUIsolateCounts.isolates)))\n",
    "aiimsICUIsolateCounts = aiimsICUIsolateCounts.sort_values(by=['percentage'], ascending=False)\n",
    "aiimsICUIsolateCounts"
   ]
  },
  {
   "cell_type": "code",
   "execution_count": 179,
   "metadata": {},
   "outputs": [
    {
     "data": {
      "image/png": "[encoded data removed]",
      "text/plain": [
       "<Figure size 936x612 with 1 Axes>"
      ]
     },
     "metadata": {},
     "output_type": "display_data"
    }
   ],
   "source": [
    "x = aiimsICUIsolateCounts[0:10].bacteria_name\n",
    "y = aiimsICUIsolateCounts[0:10].percentage\n",
    "colors = cm.rainbow(np.linspace(0, 1, len(y)))\n",
    "fig, ax = plt.subplots()\n",
    "fig.set_size_inches(13, 8.5)\n",
    "width = 0.75 # the width of the bars \n",
    "ind = np.arange(len(y))  # the x locations for the groups\n",
    "ax.barh(ind, y, width, color=colors)\n",
    "ax.set_yticks(ind)\n",
    "ax.set_yticklabels(x, minor=False)\n",
    "for i, v in enumerate(y):\n",
    "    ax.text(v+.1, i-.1, str(round(v,2)), color=colors[i], fontweight='bold')\n",
    "plt.title('AIIMS ICU Urine Data Bacterial Distribution')\n",
    "plt.xlabel('Percentage')\n",
    "plt.ylabel('Bacteria')      \n",
    "plt.show()"
   ]
  },
  {
   "cell_type": "code",
   "execution_count": 180,
   "metadata": {},
   "outputs": [
    {
     "data": {
      "text/html": [
       "%%latex\n",
       "<h4 style=\"color:#089\">Whether Feature Space $y_1$ and $y_2$ are same for source and target domains!</h4>"
      ],
      "text/plain": [
       "<IPython.core.display.HTML object>"
      ]
     },
     "metadata": {},
     "output_type": "display_data"
    }
   ],
   "source": [
    "%%html\n",
    "%%latex\n",
    "<h4 style=\"color:#089\">Whether Feature Space $y_1$ and $y_2$ are same for source and target domains!</h4>\n"
   ]
  },
  {
   "cell_type": "code",
   "execution_count": 182,
   "metadata": {},
   "outputs": [
    {
     "data": {
      "text/html": [
       "As determined, the target labels are same for both source and target tasks: 'R'-Resistant and 'S'-Sensitive"
      ],
      "text/plain": [
       "<IPython.core.display.HTML object>"
      ]
     },
     "metadata": {},
     "output_type": "display_data"
    }
   ],
   "source": [
    "%%html\n",
    "As determined, the target labels are same for both source and target tasks: 'R'-Resistant and 'S'-Sensitive"
   ]
  },
  {
   "cell_type": "code",
   "execution_count": 183,
   "metadata": {},
   "outputs": [
    {
     "data": {
      "text/html": [
       "%%latex\n",
       "<h4 style=\"color:#089\">Whether Conditional Distributions for predictions $P(y|X)$ and $P(y|Y)$ are same for source and target domains with marginal distributions X and Y!</h4>"
      ],
      "text/plain": [
       "<IPython.core.display.HTML object>"
      ]
     },
     "metadata": {},
     "output_type": "display_data"
    }
   ],
   "source": [
    "%%html\n",
    "%%latex\n",
    "<h4 style=\"color:#089\">Whether Conditional Distributions for predictions $P(y|X)$ and $P(y|Y)$ are same for source and target domains with marginal distributions X and Y!</h4>\n"
   ]
  },
  {
   "cell_type": "code",
   "execution_count": 184,
   "metadata": {},
   "outputs": [
    {
     "data": {
      "text/latex": [
       "For $i^{th}$ element, name($x_i$) = name($y_i$) = 'antibiotic_name' we will check the conditional distributions $P(y|x_i)$ and $P(y|y_i)$."
      ],
      "text/plain": [
       "<IPython.core.display.Latex object>"
      ]
     },
     "metadata": {},
     "output_type": "display_data"
    }
   ],
   "source": [
    "%%latex\n",
    "For $i^{th}$ element, name($x_i$) = name($y_i$) = 'antibiotic_name' we will check the conditional distributions $P(y|x_i)$ and $P(y|y_i)$.\n"
   ]
  },
  {
   "cell_type": "code",
   "execution_count": 185,
   "metadata": {},
   "outputs": [
    {
     "data": {
      "text/html": [
       "<h5 style=\"color:#109\">Conditional for Drugs in Overall Distribution</h5>"
      ],
      "text/plain": [
       "<IPython.core.display.HTML object>"
      ]
     },
     "metadata": {},
     "output_type": "display_data"
    }
   ],
   "source": [
    "%%html\n",
    "<h5 style=\"color:#109\">Conditional for Drugs in Overall Distribution</h5>"
   ]
  },
  {
   "cell_type": "code",
   "execution_count": 186,
   "metadata": {},
   "outputs": [
    {
     "data": {
      "text/html": [
       "<h7 style=\"color:#909\">Mimic Conditional Distribution</h7>"
      ],
      "text/plain": [
       "<IPython.core.display.HTML object>"
      ]
     },
     "metadata": {},
     "output_type": "display_data"
    }
   ],
   "source": [
    "%%html\n",
    "<h7 style=\"color:#909\">Mimic Conditional Distribution</h7>"
   ]
  },
  {
   "cell_type": "code",
   "execution_count": 192,
   "metadata": {},
   "outputs": [
    {
     "name": "stdout",
     "output_type": "stream",
     "text": [
      "Number of antibiotics in MIMIC: 30\n",
      "Number of antibiotics in AIIMS ICU: 46\n",
      "Number of common antibiotics for ICU: 22\n"
     ]
    }
   ],
   "source": [
    "antibioticsMIMIC = mimic.antibiotic_name.unique()\n",
    "print('Number of antibiotics in MIMIC:', len(antibioticsMIMIC))\n",
    "antibioticsAIIMSICU = aiimsICU.antibiotic_name.unique()\n",
    "print('Number of antibiotics in AIIMS ICU:', len(antibioticsAIIMSICU))\n",
    "antibiotics = list(set(antibioticsMIMIC) & set(antibioticsAIIMSICU))\n",
    "print('Number of common antibiotics for ICU:', len(antibiotics))"
   ]
  },
  {
   "cell_type": "code",
   "execution_count": 199,
   "metadata": {},
   "outputs": [],
   "source": [
    "mimicAB = mimic[mimic.antibiotic_name.isin(antibiotics)]\n",
    "def sensitivity(antibiotic):\n",
    "    df = mimicAB[mimicAB.antibiotic_name==antibiotic][['patient_id', 'admission_id', 'sc_date', 'bacteria_name', 'susceptibility']].drop_duplicates().reset_index(drop=True)\n",
    "    return 100*(len(df[df.susceptibility=='S']))/len(df)\n",
    "mimicAntibiotics = pd.DataFrame(columns=['antibiotic_name', 'sensitivity_percentage'])\n",
    "mimicAntibiotics.antibiotic_name = pd.Series(antibiotics)\n",
    "mimicAntibiotics.sensitivity_percentage = mimicAntibiotics.antibiotic_name.apply(lambda x: sensitivity(x))\n"
   ]
  },
  {
   "cell_type": "code",
   "execution_count": 200,
   "metadata": {},
   "outputs": [
    {
     "data": {
      "image/png": "[encoded data removed]",
      "text/plain": [
       "<Figure size 936x612 with 1 Axes>"
      ]
     },
     "metadata": {},
     "output_type": "display_data"
    }
   ],
   "source": [
    "x = mimicAntibiotics.antibiotic_name\n",
    "y = mimicAntibiotics.sensitivity_percentage\n",
    "colors = cm.rainbow(np.linspace(0, 1, len(y)))\n",
    "fig, ax = plt.subplots()\n",
    "fig.set_size_inches(13, 8.5)\n",
    "width = 0.75 # the width of the bars \n",
    "ind = np.arange(len(y))  # the x locations for the groups\n",
    "ax.barh(ind, y, width, color=colors)\n",
    "ax.set_yticks(ind)\n",
    "ax.set_yticklabels(x, minor=False)\n",
    "for i, v in enumerate(y):\n",
    "    ax.text(v+.1, i-.1, str(round(v,2)), color=colors[i], fontweight='bold')\n",
    "plt.title('Mimic Data Antibiotic Sensitivity Pattern')\n",
    "plt.xlabel('Sensiticity Percentage')\n",
    "plt.ylabel('Antibiotic')      \n",
    "plt.show()"
   ]
  },
  {
   "cell_type": "code",
   "execution_count": 203,
   "metadata": {},
   "outputs": [
    {
     "data": {
      "text/html": [
       "<h7 style=\"color:#909\">AIIMS ICU Conditional Distribution</h7>"
      ],
      "text/plain": [
       "<IPython.core.display.HTML object>"
      ]
     },
     "metadata": {},
     "output_type": "display_data"
    }
   ],
   "source": [
    "%%html\n",
    "<h7 style=\"color:#909\">AIIMS ICU Conditional Distribution</h7>"
   ]
  },
  {
   "cell_type": "code",
   "execution_count": 201,
   "metadata": {},
   "outputs": [],
   "source": [
    "aiimsICUAB = aiimsICU[aiimsICU.antibiotic_name.isin(antibiotics)]\n",
    "def sensitivity1(antibiotic):\n",
    "    df = aiimsICUAB[aiimsICUAB.antibiotic_name==antibiotic][['slno', 'hosp_patient_id', 'hosp_admission_id', 'sc_date', 'bacteria_name', 'susceptibility']].drop_duplicates().reset_index(drop=True)\n",
    "    return 100*(len(df[df.susceptibility=='S']))/len(df)\n",
    "aiimsICUAntibiotics = pd.DataFrame(columns=['antibiotic_name', 'sensitivity_percentage'])\n",
    "aiimsICUAntibiotics.antibiotic_name = pd.Series(antibiotics)\n",
    "aiimsICUAntibiotics.sensitivity_percentage = aiimsICUAntibiotics.antibiotic_name.apply(lambda x: sensitivity1(x))\n"
   ]
  },
  {
   "cell_type": "code",
   "execution_count": 202,
   "metadata": {},
   "outputs": [
    {
     "data": {
      "image/png": "[encoded data removed]",
      "text/plain": [
       "<Figure size 936x612 with 1 Axes>"
      ]
     },
     "metadata": {},
     "output_type": "display_data"
    }
   ],
   "source": [
    "x = aiimsICUAntibiotics.antibiotic_name\n",
    "y = aiimsICUAntibiotics.sensitivity_percentage\n",
    "colors = cm.rainbow(np.linspace(0, 1, len(y)))\n",
    "fig, ax = plt.subplots()\n",
    "fig.set_size_inches(13, 8.5)\n",
    "width = 0.75 # the width of the bars \n",
    "ind = np.arange(len(y))  # the x locations for the groups\n",
    "ax.barh(ind, y, width, color=colors)\n",
    "ax.set_yticks(ind)\n",
    "ax.set_yticklabels(x, minor=False)\n",
    "for i, v in enumerate(y):\n",
    "    ax.text(v+.1, i-.1, str(round(v,2)), color=colors[i], fontweight='bold')\n",
    "plt.title('AIIMS ICU Data Antibiotic Sensitivity Pattern')\n",
    "plt.xlabel('Sensiticity Percentage')\n",
    "plt.ylabel('Antibiotic')      \n",
    "plt.show()"
   ]
  },
  {
   "cell_type": "code",
   "execution_count": 206,
   "metadata": {},
   "outputs": [
    {
     "data": {
      "text/latex": [
       "For $i^{th}$ element, name$_1$($x_i$) = name$_1$($y_i$) = 'antibiotic_name' and name$_2$($x_i$) = name$_2$($y_i$) = 'sample_type', where 'sample_type' is 'Urine' we will check the conditional distributions $P(y|x_i)$ and $P(y|y_i)$."
      ],
      "text/plain": [
       "<IPython.core.display.Latex object>"
      ]
     },
     "metadata": {},
     "output_type": "display_data"
    }
   ],
   "source": [
    "%%latex\n",
    "For $i^{th}$ element, name$_1$($x_i$) = name$_1$($y_i$) = 'antibiotic_name' and name$_2$($x_i$) = name$_2$($y_i$) = 'sample_type', where 'sample_type' is 'Urine' we will check the conditional distributions $P(y|x_i)$ and $P(y|y_i)$.\n"
   ]
  },
  {
   "cell_type": "code",
   "execution_count": 207,
   "metadata": {},
   "outputs": [
    {
     "data": {
      "text/html": [
       "<h5 style=\"color:#109\">Conditional Distribution for Sensitivity of Drugs in Urine Sample</h5>"
      ],
      "text/plain": [
       "<IPython.core.display.HTML object>"
      ]
     },
     "metadata": {},
     "output_type": "display_data"
    }
   ],
   "source": [
    "%%html\n",
    "<h5 style=\"color:#109\">Conditional Distribution for Sensitivity of Drugs in Urine Sample</h5>"
   ]
  },
  {
   "cell_type": "code",
   "execution_count": 208,
   "metadata": {},
   "outputs": [
    {
     "data": {
      "text/html": [
       "<h7 style=\"color:#909\">Mimic Conditional Distribution</h7>"
      ],
      "text/plain": [
       "<IPython.core.display.HTML object>"
      ]
     },
     "metadata": {},
     "output_type": "display_data"
    }
   ],
   "source": [
    "%%html\n",
    "<h7 style=\"color:#909\">Mimic Conditional Distribution</h7>"
   ]
  },
  {
   "cell_type": "code",
   "execution_count": 209,
   "metadata": {},
   "outputs": [
    {
     "name": "stdout",
     "output_type": "stream",
     "text": [
      "Number of antibiotics in Urine Sample of MIMIC: 29\n",
      "Number of antibiotics in Urine Sample of AIIMS ICU: 37\n",
      "Number of common antibiotics for Urine Sample of ICU: 21\n"
     ]
    }
   ],
   "source": [
    "urine1 = mimic[mimic.sample_type=='Urine']\n",
    "urine2 = aiimsICU[aiimsICU.sample_type=='Urine']\n",
    "antibioticsMIMIC = urine1.antibiotic_name.unique()\n",
    "print('Number of antibiotics in Urine Sample of MIMIC:', len(antibioticsMIMIC))\n",
    "antibioticsAIIMSICU = urine2.antibiotic_name.unique()\n",
    "print('Number of antibiotics in Urine Sample of AIIMS ICU:', len(antibioticsAIIMSICU))\n",
    "antibiotics = list(set(antibioticsMIMIC) & set(antibioticsAIIMSICU))\n",
    "print('Number of common antibiotics for Urine Sample of ICU:', len(antibiotics))"
   ]
  },
  {
   "cell_type": "code",
   "execution_count": 210,
   "metadata": {},
   "outputs": [],
   "source": [
    "mimicAB = urine1[urine1.antibiotic_name.isin(antibiotics)]\n",
    "def sensitivity(antibiotic):\n",
    "    df = mimicAB[mimicAB.antibiotic_name==antibiotic][['patient_id', 'admission_id', 'sc_date', 'bacteria_name', 'susceptibility']].drop_duplicates().reset_index(drop=True)\n",
    "    return 100*(len(df[df.susceptibility=='S']))/len(df)\n",
    "mimicAntibiotics = pd.DataFrame(columns=['antibiotic_name', 'sensitivity_percentage'])\n",
    "mimicAntibiotics.antibiotic_name = pd.Series(antibiotics)\n",
    "mimicAntibiotics.sensitivity_percentage = mimicAntibiotics.antibiotic_name.apply(lambda x: sensitivity(x))\n"
   ]
  },
  {
   "cell_type": "code",
   "execution_count": 215,
   "metadata": {},
   "outputs": [
    {
     "data": {
      "image/png": "[encoded data removed]",
      "text/plain": [
       "<Figure size 936x612 with 1 Axes>"
      ]
     },
     "metadata": {},
     "output_type": "display_data"
    }
   ],
   "source": [
    "x = mimicAntibiotics.antibiotic_name\n",
    "y = mimicAntibiotics.sensitivity_percentage\n",
    "colors = cm.rainbow(np.linspace(0, 1, len(y)))\n",
    "fig, ax = plt.subplots()\n",
    "fig.set_size_inches(13, 8.5)\n",
    "width = 0.75 # the width of the bars \n",
    "ind = np.arange(len(y))  # the x locations for the groups\n",
    "ax.barh(ind, y, width, color=colors)\n",
    "ax.set_yticks(ind)\n",
    "ax.set_yticklabels(x, minor=False)\n",
    "for i, v in enumerate(y):\n",
    "    ax.text(v+.1, i-.1, str(round(v,2)), color=colors[i], fontweight='bold')\n",
    "plt.title('Mimic Data Antibiotic Sensitivity Pattern for Urine Sample')\n",
    "plt.xlabel('Sensiticity Percentage')\n",
    "plt.ylabel('Antibiotic')      \n",
    "plt.show()"
   ]
  },
  {
   "cell_type": "code",
   "execution_count": 212,
   "metadata": {},
   "outputs": [
    {
     "data": {
      "text/html": [
       "<h7 style=\"color:#909\">AIIMS ICU Conditional Distribution</h7>"
      ],
      "text/plain": [
       "<IPython.core.display.HTML object>"
      ]
     },
     "metadata": {},
     "output_type": "display_data"
    }
   ],
   "source": [
    "%%html\n",
    "<h7 style=\"color:#909\">AIIMS ICU Conditional Distribution</h7>"
   ]
  },
  {
   "cell_type": "code",
   "execution_count": 213,
   "metadata": {},
   "outputs": [],
   "source": [
    "aiimsICUAB = urine2[urine2.antibiotic_name.isin(antibiotics)]\n",
    "def sensitivity1(antibiotic):\n",
    "    df = aiimsICUAB[aiimsICUAB.antibiotic_name==antibiotic][['slno', 'hosp_patient_id', 'hosp_admission_id', 'sc_date', 'bacteria_name', 'susceptibility']].drop_duplicates().reset_index(drop=True)\n",
    "    return 100*(len(df[df.susceptibility=='S']))/len(df)\n",
    "aiimsICUAntibiotics = pd.DataFrame(columns=['antibiotic_name', 'sensitivity_percentage'])\n",
    "aiimsICUAntibiotics.antibiotic_name = pd.Series(antibiotics)\n",
    "aiimsICUAntibiotics.sensitivity_percentage = aiimsICUAntibiotics.antibiotic_name.apply(lambda x: sensitivity1(x))\n"
   ]
  },
  {
   "cell_type": "code",
   "execution_count": 216,
   "metadata": {},
   "outputs": [
    {
     "data": {
      "image/png": "[encoded data removed]",
      "text/plain": [
       "<Figure size 936x612 with 1 Axes>"
      ]
     },
     "metadata": {},
     "output_type": "display_data"
    }
   ],
   "source": [
    "x = aiimsICUAntibiotics.antibiotic_name\n",
    "y = aiimsICUAntibiotics.sensitivity_percentage\n",
    "colors = cm.rainbow(np.linspace(0, 1, len(y)))\n",
    "fig, ax = plt.subplots()\n",
    "fig.set_size_inches(13, 8.5)\n",
    "width = 0.75 # the width of the bars \n",
    "ind = np.arange(len(y))  # the x locations for the groups\n",
    "ax.barh(ind, y, width, color=colors)\n",
    "ax.set_yticks(ind)\n",
    "ax.set_yticklabels(x, minor=False)\n",
    "for i, v in enumerate(y):\n",
    "    ax.text(v+.1, i-.1, str(round(v,2)), color=colors[i], fontweight='bold')\n",
    "plt.title('AIIMS ICU Data Antibiotic Sensitivity Pattern for Urine Sample')\n",
    "plt.xlabel('Sensiticity Percentage')\n",
    "plt.ylabel('Antibiotic')      \n",
    "plt.show()"
   ]
  },
  {
   "cell_type": "code",
   "execution_count": null,
   "metadata": {},
   "outputs": [],
   "source": []
  }
 ],
 "metadata": {
  "kernelspec": {
   "display_name": "Python 3",
   "language": "python",
   "name": "python3"
  },
  "language_info": {
   "codemirror_mode": {
    "name": "ipython",
    "version": 3
   },
   "file_extension": ".py",
   "mimetype": "text/x-python",
   "name": "python",
   "nbconvert_exporter": "python",
   "pygments_lexer": "ipython3",
   "version": "3.6.8"
  }
 },
 "nbformat": 4,
 "nbformat_minor": 2
}
